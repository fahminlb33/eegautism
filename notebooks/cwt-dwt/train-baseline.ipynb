{
 "cells": [
  {
   "cell_type": "code",
   "execution_count": 1,
   "metadata": {},
   "outputs": [],
   "source": [
    "import mne\n",
    "import pywt\n",
    "from autoreject import AutoReject\n",
    "\n",
    "import scipy.stats\n",
    "import numpy as np\n",
    "import matplotlib.pyplot as plt\n",
    "\n",
    "from sklearn.model_selection import train_test_split\n",
    "from sklearn.ensemble import RandomForestClassifier\n",
    "from sklearn.metrics import classification_report"
   ]
  },
  {
   "cell_type": "code",
   "execution_count": 2,
   "metadata": {},
   "outputs": [
    {
     "name": "stdout",
     "output_type": "stream",
     "text": [
      "Using matplotlib as 2D backend.\n"
     ]
    }
   ],
   "source": [
    "mne.viz.set_browser_backend('matplotlib')"
   ]
  },
  {
   "cell_type": "markdown",
   "metadata": {},
   "source": [
    "## Data Loading"
   ]
  },
  {
   "cell_type": "code",
   "execution_count": 11,
   "metadata": {},
   "outputs": [
    {
     "name": "stdout",
     "output_type": "stream",
     "text": [
      "../data/edf/autism/Bader_Autism_24_11_2011S001R01.edf\n",
      "Reading 0 ... 47087  =      0.000 ...   183.922 secs...\n"
     ]
    },
    {
     "name": "stderr",
     "output_type": "stream",
     "text": [
      "/home/fahmi/research/eegautism/.venv/lib/python3.12/site-packages/mne/bem.py:1115: RuntimeWarning: Mean of empty slice.\n",
      "  radius_init = radii.mean()\n",
      "/home/fahmi/research/eegautism/.venv/lib/python3.12/site-packages/numpy/core/_methods.py:129: RuntimeWarning: invalid value encountered in scalar divide\n",
      "  ret = ret.dtype.type(ret / rcount)\n",
      "/home/fahmi/research/eegautism/.venv/lib/python3.12/site-packages/numpy/core/fromnumeric.py:3504: RuntimeWarning: Mean of empty slice.\n",
      "  return _methods._mean(a, axis=axis, dtype=dtype,\n",
      "/home/fahmi/research/eegautism/.venv/lib/python3.12/site-packages/numpy/core/_methods.py:121: RuntimeWarning: invalid value encountered in divide\n",
      "  ret = um.true_divide(\n"
     ]
    },
    {
     "name": "stdout",
     "output_type": "stream",
     "text": [
      "Dropped 5 epochs: 6, 8, 9, 10, 12\n",
      "---------------------------------------------\n",
      "../data/edf/autism/Bader_Autism_24_11_2011S001R09.edf\n",
      "Reading 0 ... 212143  =      0.000 ...   828.631 secs...\n"
     ]
    },
    {
     "name": "stderr",
     "output_type": "stream",
     "text": [
      "/home/fahmi/research/eegautism/.venv/lib/python3.12/site-packages/mne/bem.py:1115: RuntimeWarning: Mean of empty slice.\n",
      "  radius_init = radii.mean()\n",
      "/home/fahmi/research/eegautism/.venv/lib/python3.12/site-packages/numpy/core/_methods.py:129: RuntimeWarning: invalid value encountered in scalar divide\n",
      "  ret = ret.dtype.type(ret / rcount)\n",
      "/home/fahmi/research/eegautism/.venv/lib/python3.12/site-packages/numpy/core/fromnumeric.py:3504: RuntimeWarning: Mean of empty slice.\n",
      "  return _methods._mean(a, axis=axis, dtype=dtype,\n",
      "/home/fahmi/research/eegautism/.venv/lib/python3.12/site-packages/numpy/core/_methods.py:121: RuntimeWarning: invalid value encountered in divide\n",
      "  ret = um.true_divide(\n"
     ]
    },
    {
     "name": "stdout",
     "output_type": "stream",
     "text": [
      "Dropped 45 epochs: 0, 1, 2, 3, 4, 5, 6, 7, 8, 9, 10, 11, 12, 13, 14, 15, 16, 17, 18, 19, 40, 41, 46, 47, 51, 52, 56, 57, 58, 59, 60, 66, 67, 68, 69, 70, 71, 72, 75, 76, 77, 78, 79, 80, 81\n",
      "---------------------------------------------\n",
      "../data/edf/autism/Bader_Autism_24_11_2011S001R10.edf\n",
      "Reading 0 ... 88023  =      0.000 ...   343.818 secs...\n"
     ]
    },
    {
     "name": "stderr",
     "output_type": "stream",
     "text": [
      "/home/fahmi/research/eegautism/.venv/lib/python3.12/site-packages/mne/bem.py:1115: RuntimeWarning: Mean of empty slice.\n",
      "  radius_init = radii.mean()\n",
      "/home/fahmi/research/eegautism/.venv/lib/python3.12/site-packages/numpy/core/_methods.py:129: RuntimeWarning: invalid value encountered in scalar divide\n",
      "  ret = ret.dtype.type(ret / rcount)\n",
      "/home/fahmi/research/eegautism/.venv/lib/python3.12/site-packages/numpy/core/fromnumeric.py:3504: RuntimeWarning: Mean of empty slice.\n",
      "  return _methods._mean(a, axis=axis, dtype=dtype,\n",
      "/home/fahmi/research/eegautism/.venv/lib/python3.12/site-packages/numpy/core/_methods.py:121: RuntimeWarning: invalid value encountered in divide\n",
      "  ret = um.true_divide(\n"
     ]
    },
    {
     "name": "stdout",
     "output_type": "stream",
     "text": [
      "Dropped 20 epochs: 0, 2, 3, 4, 5, 6, 8, 9, 10, 11, 14, 15, 23, 24, 25, 26, 27, 28, 29, 33\n",
      "---------------------------------------------\n",
      "../data/edf/autism/Mohammed_Autism_9_11_2011S001R01.edf\n",
      "Reading 0 ... 283439  =      0.000 ...  1107.113 secs...\n",
      "Dropped 11 epochs: 34, 39, 43, 53, 54, 59, 67, 84, 86, 91, 100\n",
      "---------------------------------------------\n",
      "../data/edf/autism/Nour_Autism_2_10_2011S001R01.edf\n",
      "Reading 0 ... 196015  =      0.000 ...   765.635 secs...\n"
     ]
    },
    {
     "name": "stderr",
     "output_type": "stream",
     "text": [
      "/home/fahmi/research/eegautism/.venv/lib/python3.12/site-packages/mne/bem.py:1115: RuntimeWarning: Mean of empty slice.\n",
      "  radius_init = radii.mean()\n",
      "/home/fahmi/research/eegautism/.venv/lib/python3.12/site-packages/numpy/core/_methods.py:129: RuntimeWarning: invalid value encountered in scalar divide\n",
      "  ret = ret.dtype.type(ret / rcount)\n",
      "/home/fahmi/research/eegautism/.venv/lib/python3.12/site-packages/numpy/core/fromnumeric.py:3504: RuntimeWarning: Mean of empty slice.\n",
      "  return _methods._mean(a, axis=axis, dtype=dtype,\n",
      "/home/fahmi/research/eegautism/.venv/lib/python3.12/site-packages/numpy/core/_methods.py:121: RuntimeWarning: invalid value encountered in divide\n",
      "  ret = um.true_divide(\n"
     ]
    },
    {
     "name": "stdout",
     "output_type": "stream",
     "text": [
      "Dropped 33 epochs: 14, 15, 16, 17, 18, 21, 22, 27, 35, 36, 42, 43, 46, 48, 51, 54, 55, 56, 57, 60, 61, 62, 63, 64, 65, 68, 69, 70, 71, 72, 73, 74, 75\n",
      "---------------------------------------------\n",
      "../data/edf/autism/Nour_Autism_2_10_2011S001R02.edf\n",
      "Reading 0 ... 78831  =      0.000 ...   307.914 secs...\n"
     ]
    },
    {
     "name": "stderr",
     "output_type": "stream",
     "text": [
      "/home/fahmi/research/eegautism/.venv/lib/python3.12/site-packages/mne/bem.py:1115: RuntimeWarning: Mean of empty slice.\n",
      "  radius_init = radii.mean()\n",
      "/home/fahmi/research/eegautism/.venv/lib/python3.12/site-packages/numpy/core/_methods.py:129: RuntimeWarning: invalid value encountered in scalar divide\n",
      "  ret = ret.dtype.type(ret / rcount)\n",
      "/home/fahmi/research/eegautism/.venv/lib/python3.12/site-packages/numpy/core/fromnumeric.py:3504: RuntimeWarning: Mean of empty slice.\n",
      "  return _methods._mean(a, axis=axis, dtype=dtype,\n",
      "/home/fahmi/research/eegautism/.venv/lib/python3.12/site-packages/numpy/core/_methods.py:121: RuntimeWarning: invalid value encountered in divide\n",
      "  ret = um.true_divide(\n"
     ]
    },
    {
     "name": "stdout",
     "output_type": "stream",
     "text": [
      "Dropped 2 epochs: 11, 13\n",
      "---------------------------------------------\n",
      "../data/edf/autism/Saud_Autism_1_5_2011S001R01.edf\n",
      "Reading 0 ... 192095  =      0.000 ...   750.323 secs...\n"
     ]
    },
    {
     "name": "stderr",
     "output_type": "stream",
     "text": [
      "/home/fahmi/research/eegautism/.venv/lib/python3.12/site-packages/mne/bem.py:1115: RuntimeWarning: Mean of empty slice.\n",
      "  radius_init = radii.mean()\n",
      "/home/fahmi/research/eegautism/.venv/lib/python3.12/site-packages/numpy/core/_methods.py:129: RuntimeWarning: invalid value encountered in scalar divide\n",
      "  ret = ret.dtype.type(ret / rcount)\n",
      "/home/fahmi/research/eegautism/.venv/lib/python3.12/site-packages/numpy/core/fromnumeric.py:3504: RuntimeWarning: Mean of empty slice.\n",
      "  return _methods._mean(a, axis=axis, dtype=dtype,\n",
      "/home/fahmi/research/eegautism/.venv/lib/python3.12/site-packages/numpy/core/_methods.py:121: RuntimeWarning: invalid value encountered in divide\n",
      "  ret = um.true_divide(\n"
     ]
    },
    {
     "name": "stdout",
     "output_type": "stream",
     "text": [
      "Dropped 29 epochs: 2, 7, 8, 9, 10, 11, 15, 16, 17, 18, 26, 27, 28, 30, 33, 34, 35, 41, 42, 43, 44, 45, 52, 53, 65, 68, 69, 71, 74\n",
      "---------------------------------------------\n",
      "../data/edf/autism/Shahad_Autism_5_6_2011S001R01.edf\n",
      "Reading 0 ... 314903  =      0.000 ...  1230.011 secs...\n"
     ]
    },
    {
     "name": "stderr",
     "output_type": "stream",
     "text": [
      "/home/fahmi/research/eegautism/.venv/lib/python3.12/site-packages/mne/bem.py:1115: RuntimeWarning: Mean of empty slice.\n",
      "  radius_init = radii.mean()\n",
      "/home/fahmi/research/eegautism/.venv/lib/python3.12/site-packages/numpy/core/_methods.py:129: RuntimeWarning: invalid value encountered in scalar divide\n",
      "  ret = ret.dtype.type(ret / rcount)\n",
      "/home/fahmi/research/eegautism/.venv/lib/python3.12/site-packages/numpy/core/fromnumeric.py:3504: RuntimeWarning: Mean of empty slice.\n",
      "  return _methods._mean(a, axis=axis, dtype=dtype,\n",
      "/home/fahmi/research/eegautism/.venv/lib/python3.12/site-packages/numpy/core/_methods.py:121: RuntimeWarning: invalid value encountered in divide\n",
      "  ret = um.true_divide(\n"
     ]
    },
    {
     "name": "stdout",
     "output_type": "stream",
     "text": [
      "Dropped 85 epochs: 0, 1, 2, 3, 4, 5, 6, 8, 9, 10, 11, 14, 15, 16, 17, 18, 19, 23, 24, 26, 27, 29, 30, 31, 32, 33, 34, 35, 37, 38, 39, 40, 41, 42, 43, 44, 45, 47, 48, 49, 51, 54, 55, 56, 57, 59, 60, 61, 62, 63, 67, 68, 69, 70, 76, 77, 78, 79, 80, 81, 82, 83, 84, 88, 91, 93, 97, 100, 101, 102, 103, 104, 105, 106, 110, 111, 112, 113, 114, 115, 116, 117, 119, 121, 122\n",
      "---------------------------------------------\n",
      "../data/edf/autism/Yahia_Autism_1_5_2011S001R01.edf\n",
      "Reading 0 ... 55663  =      0.000 ...   217.420 secs...\n",
      "Dropped 7 epochs: 1, 3, 6, 11, 14, 15, 18\n",
      "---------------------------------------------\n",
      "../data/edf/autism/Yahia_Autism_1_5_2011S001R02.edf\n",
      "Reading 0 ... 185527  =      0.000 ...   724.668 secs...\n",
      "Dropped 11 epochs: 1, 3, 4, 9, 14, 29, 45, 52, 61, 65, 69\n",
      "---------------------------------------------\n",
      "../data/edf/normal/Amer_Normal_5_5_2011S001R01.edf\n",
      "Reading 0 ... 84783  =      0.000 ...   331.162 secs...\n"
     ]
    },
    {
     "name": "stderr",
     "output_type": "stream",
     "text": [
      "/home/fahmi/research/eegautism/.venv/lib/python3.12/site-packages/mne/bem.py:1115: RuntimeWarning: Mean of empty slice.\n",
      "  radius_init = radii.mean()\n",
      "/home/fahmi/research/eegautism/.venv/lib/python3.12/site-packages/numpy/core/_methods.py:129: RuntimeWarning: invalid value encountered in scalar divide\n",
      "  ret = ret.dtype.type(ret / rcount)\n",
      "/home/fahmi/research/eegautism/.venv/lib/python3.12/site-packages/numpy/core/fromnumeric.py:3504: RuntimeWarning: Mean of empty slice.\n",
      "  return _methods._mean(a, axis=axis, dtype=dtype,\n",
      "/home/fahmi/research/eegautism/.venv/lib/python3.12/site-packages/numpy/core/_methods.py:121: RuntimeWarning: invalid value encountered in divide\n",
      "  ret = um.true_divide(\n"
     ]
    },
    {
     "name": "stdout",
     "output_type": "stream",
     "text": [
      "Dropped 1 epoch: 5\n",
      "---------------------------------------------\n",
      "../data/edf/normal/Amer_Normal_5_5_2011S001R02.edf\n",
      "Reading 0 ... 93927  =      0.000 ...   366.879 secs...\n",
      "Dropped 10 epochs: 1, 9, 12, 18, 19, 20, 23, 29, 31, 32\n",
      "---------------------------------------------\n",
      "../data/edf/normal/Amer_Normal_5_5_2011S001R03.edf\n",
      "Reading 0 ... 81239  =      0.000 ...   317.320 secs...\n",
      "Dropped 4 epochs: 5, 8, 18, 29\n",
      "---------------------------------------------\n",
      "../data/edf/normal/Dhelal_Normal_15_6_2011S001R01.edf\n",
      "Reading 0 ... 77183  =      0.000 ...   301.477 secs...\n"
     ]
    },
    {
     "name": "stderr",
     "output_type": "stream",
     "text": [
      "/home/fahmi/research/eegautism/.venv/lib/python3.12/site-packages/mne/bem.py:1115: RuntimeWarning: Mean of empty slice.\n",
      "  radius_init = radii.mean()\n",
      "/home/fahmi/research/eegautism/.venv/lib/python3.12/site-packages/numpy/core/_methods.py:129: RuntimeWarning: invalid value encountered in scalar divide\n",
      "  ret = ret.dtype.type(ret / rcount)\n",
      "/home/fahmi/research/eegautism/.venv/lib/python3.12/site-packages/numpy/core/fromnumeric.py:3504: RuntimeWarning: Mean of empty slice.\n",
      "  return _methods._mean(a, axis=axis, dtype=dtype,\n",
      "/home/fahmi/research/eegautism/.venv/lib/python3.12/site-packages/numpy/core/_methods.py:121: RuntimeWarning: invalid value encountered in divide\n",
      "  ret = um.true_divide(\n"
     ]
    },
    {
     "name": "stdout",
     "output_type": "stream",
     "text": [
      "Dropped 4 epochs: 0, 5, 9, 11\n",
      "---------------------------------------------\n",
      "../data/edf/normal/Dhelal_Normal_15_6_2011S001R02.edf\n",
      "Reading 0 ... 230791  =      0.000 ...   901.470 secs...\n"
     ]
    },
    {
     "name": "stderr",
     "output_type": "stream",
     "text": [
      "/home/fahmi/research/eegautism/.venv/lib/python3.12/site-packages/mne/bem.py:1115: RuntimeWarning: Mean of empty slice.\n",
      "  radius_init = radii.mean()\n",
      "/home/fahmi/research/eegautism/.venv/lib/python3.12/site-packages/numpy/core/_methods.py:129: RuntimeWarning: invalid value encountered in scalar divide\n",
      "  ret = ret.dtype.type(ret / rcount)\n",
      "/home/fahmi/research/eegautism/.venv/lib/python3.12/site-packages/numpy/core/fromnumeric.py:3504: RuntimeWarning: Mean of empty slice.\n",
      "  return _methods._mean(a, axis=axis, dtype=dtype,\n",
      "/home/fahmi/research/eegautism/.venv/lib/python3.12/site-packages/numpy/core/_methods.py:121: RuntimeWarning: invalid value encountered in divide\n",
      "  ret = um.true_divide(\n"
     ]
    },
    {
     "name": "stdout",
     "output_type": "stream",
     "text": [
      "Dropped 32 epochs: 2, 3, 4, 5, 12, 16, 23, 24, 25, 27, 31, 32, 34, 35, 43, 46, 50, 51, 57, 61, 62, 73, 74, 76, 77, 78, 81, 82, 84, 86, 87, 88\n",
      "---------------------------------------------\n",
      "../data/edf/normal/Mahmud_Normal_5_5_2011S001R01.edf\n",
      "Reading 0 ... 116575  =      0.000 ...   455.342 secs...\n"
     ]
    },
    {
     "name": "stderr",
     "output_type": "stream",
     "text": [
      "/home/fahmi/research/eegautism/.venv/lib/python3.12/site-packages/mne/bem.py:1115: RuntimeWarning: Mean of empty slice.\n",
      "  radius_init = radii.mean()\n",
      "/home/fahmi/research/eegautism/.venv/lib/python3.12/site-packages/numpy/core/_methods.py:129: RuntimeWarning: invalid value encountered in scalar divide\n",
      "  ret = ret.dtype.type(ret / rcount)\n",
      "/home/fahmi/research/eegautism/.venv/lib/python3.12/site-packages/numpy/core/fromnumeric.py:3504: RuntimeWarning: Mean of empty slice.\n",
      "  return _methods._mean(a, axis=axis, dtype=dtype,\n",
      "/home/fahmi/research/eegautism/.venv/lib/python3.12/site-packages/numpy/core/_methods.py:121: RuntimeWarning: invalid value encountered in divide\n",
      "  ret = um.true_divide(\n"
     ]
    },
    {
     "name": "stdout",
     "output_type": "stream",
     "text": [
      "Dropped 24 epochs: 13, 14, 18, 19, 20, 21, 25, 26, 27, 28, 29, 31, 33, 34, 35, 36, 37, 38, 39, 40, 41, 42, 43, 44\n",
      "---------------------------------------------\n",
      "../data/edf/normal/Mahmud_Normal_5_5_2011S001R02.edf\n",
      "Reading 0 ... 81943  =      0.000 ...   320.069 secs...\n"
     ]
    },
    {
     "name": "stderr",
     "output_type": "stream",
     "text": [
      "/home/fahmi/research/eegautism/.venv/lib/python3.12/site-packages/sklearn/decomposition/_fastica.py:128: ConvergenceWarning: FastICA did not converge. Consider increasing tolerance or the maximum number of iterations.\n",
      "  warnings.warn(\n",
      "/home/fahmi/research/eegautism/.venv/lib/python3.12/site-packages/mne/bem.py:1115: RuntimeWarning: Mean of empty slice.\n",
      "  radius_init = radii.mean()\n",
      "/home/fahmi/research/eegautism/.venv/lib/python3.12/site-packages/numpy/core/_methods.py:129: RuntimeWarning: invalid value encountered in scalar divide\n",
      "  ret = ret.dtype.type(ret / rcount)\n",
      "/home/fahmi/research/eegautism/.venv/lib/python3.12/site-packages/numpy/core/fromnumeric.py:3504: RuntimeWarning: Mean of empty slice.\n",
      "  return _methods._mean(a, axis=axis, dtype=dtype,\n",
      "/home/fahmi/research/eegautism/.venv/lib/python3.12/site-packages/numpy/core/_methods.py:121: RuntimeWarning: invalid value encountered in divide\n",
      "  ret = um.true_divide(\n"
     ]
    },
    {
     "name": "stdout",
     "output_type": "stream",
     "text": [
      "Dropped 9 epochs: 4, 5, 17, 22, 23, 24, 25, 26, 27\n",
      "---------------------------------------------\n",
      "../data/edf/normal/Omran_Normal_5_5_2011S001R01.edf\n",
      "Reading 0 ... 231143  =      0.000 ...   902.845 secs...\n"
     ]
    },
    {
     "name": "stderr",
     "output_type": "stream",
     "text": [
      "/home/fahmi/research/eegautism/.venv/lib/python3.12/site-packages/mne/bem.py:1115: RuntimeWarning: Mean of empty slice.\n",
      "  radius_init = radii.mean()\n",
      "/home/fahmi/research/eegautism/.venv/lib/python3.12/site-packages/numpy/core/_methods.py:129: RuntimeWarning: invalid value encountered in scalar divide\n",
      "  ret = ret.dtype.type(ret / rcount)\n",
      "/home/fahmi/research/eegautism/.venv/lib/python3.12/site-packages/numpy/core/fromnumeric.py:3504: RuntimeWarning: Mean of empty slice.\n",
      "  return _methods._mean(a, axis=axis, dtype=dtype,\n",
      "/home/fahmi/research/eegautism/.venv/lib/python3.12/site-packages/numpy/core/_methods.py:121: RuntimeWarning: invalid value encountered in divide\n",
      "  ret = um.true_divide(\n"
     ]
    },
    {
     "name": "stdout",
     "output_type": "stream",
     "text": [
      "Dropped 26 epochs: 4, 6, 8, 9, 11, 12, 13, 14, 15, 16, 17, 18, 29, 30, 36, 41, 42, 52, 54, 57, 58, 61, 62, 63, 71, 85\n",
      "---------------------------------------------\n"
     ]
    }
   ],
   "source": [
    "X = []\n",
    "y = []\n",
    "\n",
    "files = [\n",
    "    \"../data/edf/autism/Bader_Autism_24_11_2011S001R01.edf\",\n",
    "    \"../data/edf/autism/Bader_Autism_24_11_2011S001R09.edf\",\n",
    "    \"../data/edf/autism/Bader_Autism_24_11_2011S001R10.edf\",\n",
    "    \"../data/edf/autism/Mohammed_Autism_9_11_2011S001R01.edf\",\n",
    "    \"../data/edf/autism/Nour_Autism_2_10_2011S001R01.edf\",\n",
    "    \"../data/edf/autism/Nour_Autism_2_10_2011S001R02.edf\",\n",
    "    \"../data/edf/autism/Saud_Autism_1_5_2011S001R01.edf\",\n",
    "    \"../data/edf/autism/Shahad_Autism_5_6_2011S001R01.edf\",\n",
    "    \"../data/edf/autism/Yahia_Autism_1_5_2011S001R01.edf\",\n",
    "    \"../data/edf/autism/Yahia_Autism_1_5_2011S001R02.edf\",\n",
    "\n",
    "\n",
    "    \"../data/edf/normal/Amer_Normal_5_5_2011S001R01.edf\",\n",
    "    \"../data/edf/normal/Amer_Normal_5_5_2011S001R02.edf\",\n",
    "    \"../data/edf/normal/Amer_Normal_5_5_2011S001R03.edf\",\n",
    "    \"../data/edf/normal/Dhelal_Normal_15_6_2011S001R01.edf\",\n",
    "    \"../data/edf/normal/Dhelal_Normal_15_6_2011S001R02.edf\",\n",
    "    \"../data/edf/normal/Mahmud_Normal_5_5_2011S001R01.edf\",\n",
    "    \"../data/edf/normal/Mahmud_Normal_5_5_2011S001R02.edf\",\n",
    "    \"../data/edf/normal/Omran_Normal_5_5_2011S001R01.edf\",\n",
    "]\n",
    "\n",
    "# files = glob.glob(\"../data/sampled/**/*.edf\")\n",
    "\n",
    "for fpath in files:\n",
    "    try:\n",
    "        print(fpath)\n",
    "    \n",
    "        # load data\n",
    "        raw = mne.io.read_raw_edf(fpath, verbose=False)\n",
    "        raw.rename_channels({\"FP2\": \"Fp2\"}, verbose=False)\n",
    "        raw.set_montage(\"standard_1020\", verbose=False)\n",
    "\n",
    "        # band-pass filter\n",
    "        raw_filt = raw.copy().load_data().filter(l_freq=0.1, h_freq=60, verbose=False)\n",
    "\n",
    "        # notch filter\n",
    "        raw_notch = raw_filt.copy().load_data().notch_filter(freqs=(60), verbose=False)\n",
    "\n",
    "        # autoreject\n",
    "        raw_autoreject = raw_notch.copy()\n",
    "\n",
    "        # epoch data\n",
    "        epochs = mne.make_fixed_length_epochs(raw_autoreject, duration=10, preload=True, verbose=False)\n",
    "        if len(epochs) < 5:\n",
    "            print(\"SKIPPED:\", fpath)\n",
    "            continue\n",
    "        \n",
    "        # perform autoreject\n",
    "        ar = AutoReject(n_interpolate=None, random_state=11, n_jobs=1, verbose=False)\n",
    "        epochs_ar, reject_log = ar.fit_transform(epochs, return_log=True)\n",
    "\n",
    "        # perform ICA\n",
    "        ica = mne.preprocessing.ICA(random_state=99, verbose=False)\n",
    "        ica.fit(epochs[~reject_log.bad_epochs], verbose=False)\n",
    "        \n",
    "        ica.exclude = []\n",
    "        ica.apply(epochs, exclude=ica.exclude, verbose=False)\n",
    "\n",
    "        # get data\n",
    "        data = epochs[~reject_log.bad_epochs].get_data(copy=True, verbose=False) * 1e6\n",
    "        target_class = 1 if \"Autism\" in fpath else 0\n",
    "\n",
    "        X.append(data)\n",
    "        y.extend([target_class] * data.shape[0])\n",
    "    except Exception as e:\n",
    "        print(\"ERROR:\", fpath)\n",
    "        print(e)\n",
    "    \n",
    "    print(\"---------------------------------------------\")"
   ]
  },
  {
   "cell_type": "code",
   "execution_count": 12,
   "metadata": {},
   "outputs": [
    {
     "data": {
      "text/plain": [
       "((670, 16, 2560), (670,))"
      ]
     },
     "execution_count": 12,
     "metadata": {},
     "output_type": "execute_result"
    }
   ],
   "source": [
    "X_arr = np.concatenate(X)\n",
    "y_arr = np.array(y)\n",
    "\n",
    "X_arr.shape, y_arr.shape"
   ]
  },
  {
   "cell_type": "markdown",
   "metadata": {},
   "source": [
    "## Preprocessing"
   ]
  },
  {
   "cell_type": "code",
   "execution_count": 13,
   "metadata": {},
   "outputs": [],
   "source": [
    "def calculate_statistics(list_values):\n",
    "    return [\n",
    "        np.nanpercentile(list_values, 5),\n",
    "        np.nanpercentile(list_values, 25),\n",
    "        np.nanpercentile(list_values, 75),\n",
    "        np.nanpercentile(list_values, 95),\n",
    "        np.nanpercentile(list_values, 50),\n",
    "        np.nanmean(list_values),\n",
    "        np.nanstd(list_values),\n",
    "        np.nanvar(list_values),\n",
    "        np.nanmean(np.sqrt(list_values**2)),\n",
    "    ]"
   ]
  },
  {
   "cell_type": "code",
   "execution_count": 16,
   "metadata": {},
   "outputs": [
    {
     "data": {
      "text/plain": [
       "(670, 45)"
      ]
     },
     "execution_count": 16,
     "metadata": {},
     "output_type": "execute_result"
    }
   ],
   "source": [
    "X_dwt = []\n",
    "\n",
    "for segment_idx in range(X_arr.shape[0]):\n",
    "    features = []\n",
    "    decomposed = pywt.wavedec(X_arr[segment_idx, :, :], \"db4\", axis=-1, level=4)\n",
    "    for dec in decomposed:\n",
    "        features.extend(calculate_statistics(dec))\n",
    "    \n",
    "    X_dwt.append(features)\n",
    "\n",
    "X_dwt = np.array(X_dwt)\n",
    "X_dwt.shape"
   ]
  },
  {
   "cell_type": "code",
   "execution_count": 18,
   "metadata": {},
   "outputs": [
    {
     "data": {
      "text/plain": [
       "((448, 45), (222, 45), (448,), (222,))"
      ]
     },
     "execution_count": 18,
     "metadata": {},
     "output_type": "execute_result"
    }
   ],
   "source": [
    "X_train, X_test, y_train, y_test = train_test_split(X_dwt, y_arr, test_size=0.33, stratify=y)\n",
    "X_train.shape, X_test.shape, y_train.shape, y_test.shape"
   ]
  },
  {
   "cell_type": "markdown",
   "metadata": {},
   "source": [
    "### DWT+Random Forest"
   ]
  },
  {
   "cell_type": "code",
   "execution_count": 19,
   "metadata": {},
   "outputs": [
    {
     "data": {
      "text/html": [
       "<style>#sk-container-id-1 {\n",
       "  /* Definition of color scheme common for light and dark mode */\n",
       "  --sklearn-color-text: black;\n",
       "  --sklearn-color-line: gray;\n",
       "  /* Definition of color scheme for unfitted estimators */\n",
       "  --sklearn-color-unfitted-level-0: #fff5e6;\n",
       "  --sklearn-color-unfitted-level-1: #f6e4d2;\n",
       "  --sklearn-color-unfitted-level-2: #ffe0b3;\n",
       "  --sklearn-color-unfitted-level-3: chocolate;\n",
       "  /* Definition of color scheme for fitted estimators */\n",
       "  --sklearn-color-fitted-level-0: #f0f8ff;\n",
       "  --sklearn-color-fitted-level-1: #d4ebff;\n",
       "  --sklearn-color-fitted-level-2: #b3dbfd;\n",
       "  --sklearn-color-fitted-level-3: cornflowerblue;\n",
       "\n",
       "  /* Specific color for light theme */\n",
       "  --sklearn-color-text-on-default-background: var(--sg-text-color, var(--theme-code-foreground, var(--jp-content-font-color1, black)));\n",
       "  --sklearn-color-background: var(--sg-background-color, var(--theme-background, var(--jp-layout-color0, white)));\n",
       "  --sklearn-color-border-box: var(--sg-text-color, var(--theme-code-foreground, var(--jp-content-font-color1, black)));\n",
       "  --sklearn-color-icon: #696969;\n",
       "\n",
       "  @media (prefers-color-scheme: dark) {\n",
       "    /* Redefinition of color scheme for dark theme */\n",
       "    --sklearn-color-text-on-default-background: var(--sg-text-color, var(--theme-code-foreground, var(--jp-content-font-color1, white)));\n",
       "    --sklearn-color-background: var(--sg-background-color, var(--theme-background, var(--jp-layout-color0, #111)));\n",
       "    --sklearn-color-border-box: var(--sg-text-color, var(--theme-code-foreground, var(--jp-content-font-color1, white)));\n",
       "    --sklearn-color-icon: #878787;\n",
       "  }\n",
       "}\n",
       "\n",
       "#sk-container-id-1 {\n",
       "  color: var(--sklearn-color-text);\n",
       "}\n",
       "\n",
       "#sk-container-id-1 pre {\n",
       "  padding: 0;\n",
       "}\n",
       "\n",
       "#sk-container-id-1 input.sk-hidden--visually {\n",
       "  border: 0;\n",
       "  clip: rect(1px 1px 1px 1px);\n",
       "  clip: rect(1px, 1px, 1px, 1px);\n",
       "  height: 1px;\n",
       "  margin: -1px;\n",
       "  overflow: hidden;\n",
       "  padding: 0;\n",
       "  position: absolute;\n",
       "  width: 1px;\n",
       "}\n",
       "\n",
       "#sk-container-id-1 div.sk-dashed-wrapped {\n",
       "  border: 1px dashed var(--sklearn-color-line);\n",
       "  margin: 0 0.4em 0.5em 0.4em;\n",
       "  box-sizing: border-box;\n",
       "  padding-bottom: 0.4em;\n",
       "  background-color: var(--sklearn-color-background);\n",
       "}\n",
       "\n",
       "#sk-container-id-1 div.sk-container {\n",
       "  /* jupyter's `normalize.less` sets `[hidden] { display: none; }`\n",
       "     but bootstrap.min.css set `[hidden] { display: none !important; }`\n",
       "     so we also need the `!important` here to be able to override the\n",
       "     default hidden behavior on the sphinx rendered scikit-learn.org.\n",
       "     See: https://github.com/scikit-learn/scikit-learn/issues/21755 */\n",
       "  display: inline-block !important;\n",
       "  position: relative;\n",
       "}\n",
       "\n",
       "#sk-container-id-1 div.sk-text-repr-fallback {\n",
       "  display: none;\n",
       "}\n",
       "\n",
       "div.sk-parallel-item,\n",
       "div.sk-serial,\n",
       "div.sk-item {\n",
       "  /* draw centered vertical line to link estimators */\n",
       "  background-image: linear-gradient(var(--sklearn-color-text-on-default-background), var(--sklearn-color-text-on-default-background));\n",
       "  background-size: 2px 100%;\n",
       "  background-repeat: no-repeat;\n",
       "  background-position: center center;\n",
       "}\n",
       "\n",
       "/* Parallel-specific style estimator block */\n",
       "\n",
       "#sk-container-id-1 div.sk-parallel-item::after {\n",
       "  content: \"\";\n",
       "  width: 100%;\n",
       "  border-bottom: 2px solid var(--sklearn-color-text-on-default-background);\n",
       "  flex-grow: 1;\n",
       "}\n",
       "\n",
       "#sk-container-id-1 div.sk-parallel {\n",
       "  display: flex;\n",
       "  align-items: stretch;\n",
       "  justify-content: center;\n",
       "  background-color: var(--sklearn-color-background);\n",
       "  position: relative;\n",
       "}\n",
       "\n",
       "#sk-container-id-1 div.sk-parallel-item {\n",
       "  display: flex;\n",
       "  flex-direction: column;\n",
       "}\n",
       "\n",
       "#sk-container-id-1 div.sk-parallel-item:first-child::after {\n",
       "  align-self: flex-end;\n",
       "  width: 50%;\n",
       "}\n",
       "\n",
       "#sk-container-id-1 div.sk-parallel-item:last-child::after {\n",
       "  align-self: flex-start;\n",
       "  width: 50%;\n",
       "}\n",
       "\n",
       "#sk-container-id-1 div.sk-parallel-item:only-child::after {\n",
       "  width: 0;\n",
       "}\n",
       "\n",
       "/* Serial-specific style estimator block */\n",
       "\n",
       "#sk-container-id-1 div.sk-serial {\n",
       "  display: flex;\n",
       "  flex-direction: column;\n",
       "  align-items: center;\n",
       "  background-color: var(--sklearn-color-background);\n",
       "  padding-right: 1em;\n",
       "  padding-left: 1em;\n",
       "}\n",
       "\n",
       "\n",
       "/* Toggleable style: style used for estimator/Pipeline/ColumnTransformer box that is\n",
       "clickable and can be expanded/collapsed.\n",
       "- Pipeline and ColumnTransformer use this feature and define the default style\n",
       "- Estimators will overwrite some part of the style using the `sk-estimator` class\n",
       "*/\n",
       "\n",
       "/* Pipeline and ColumnTransformer style (default) */\n",
       "\n",
       "#sk-container-id-1 div.sk-toggleable {\n",
       "  /* Default theme specific background. It is overwritten whether we have a\n",
       "  specific estimator or a Pipeline/ColumnTransformer */\n",
       "  background-color: var(--sklearn-color-background);\n",
       "}\n",
       "\n",
       "/* Toggleable label */\n",
       "#sk-container-id-1 label.sk-toggleable__label {\n",
       "  cursor: pointer;\n",
       "  display: block;\n",
       "  width: 100%;\n",
       "  margin-bottom: 0;\n",
       "  padding: 0.5em;\n",
       "  box-sizing: border-box;\n",
       "  text-align: center;\n",
       "}\n",
       "\n",
       "#sk-container-id-1 label.sk-toggleable__label-arrow:before {\n",
       "  /* Arrow on the left of the label */\n",
       "  content: \"▸\";\n",
       "  float: left;\n",
       "  margin-right: 0.25em;\n",
       "  color: var(--sklearn-color-icon);\n",
       "}\n",
       "\n",
       "#sk-container-id-1 label.sk-toggleable__label-arrow:hover:before {\n",
       "  color: var(--sklearn-color-text);\n",
       "}\n",
       "\n",
       "/* Toggleable content - dropdown */\n",
       "\n",
       "#sk-container-id-1 div.sk-toggleable__content {\n",
       "  max-height: 0;\n",
       "  max-width: 0;\n",
       "  overflow: hidden;\n",
       "  text-align: left;\n",
       "  /* unfitted */\n",
       "  background-color: var(--sklearn-color-unfitted-level-0);\n",
       "}\n",
       "\n",
       "#sk-container-id-1 div.sk-toggleable__content.fitted {\n",
       "  /* fitted */\n",
       "  background-color: var(--sklearn-color-fitted-level-0);\n",
       "}\n",
       "\n",
       "#sk-container-id-1 div.sk-toggleable__content pre {\n",
       "  margin: 0.2em;\n",
       "  border-radius: 0.25em;\n",
       "  color: var(--sklearn-color-text);\n",
       "  /* unfitted */\n",
       "  background-color: var(--sklearn-color-unfitted-level-0);\n",
       "}\n",
       "\n",
       "#sk-container-id-1 div.sk-toggleable__content.fitted pre {\n",
       "  /* unfitted */\n",
       "  background-color: var(--sklearn-color-fitted-level-0);\n",
       "}\n",
       "\n",
       "#sk-container-id-1 input.sk-toggleable__control:checked~div.sk-toggleable__content {\n",
       "  /* Expand drop-down */\n",
       "  max-height: 200px;\n",
       "  max-width: 100%;\n",
       "  overflow: auto;\n",
       "}\n",
       "\n",
       "#sk-container-id-1 input.sk-toggleable__control:checked~label.sk-toggleable__label-arrow:before {\n",
       "  content: \"▾\";\n",
       "}\n",
       "\n",
       "/* Pipeline/ColumnTransformer-specific style */\n",
       "\n",
       "#sk-container-id-1 div.sk-label input.sk-toggleable__control:checked~label.sk-toggleable__label {\n",
       "  color: var(--sklearn-color-text);\n",
       "  background-color: var(--sklearn-color-unfitted-level-2);\n",
       "}\n",
       "\n",
       "#sk-container-id-1 div.sk-label.fitted input.sk-toggleable__control:checked~label.sk-toggleable__label {\n",
       "  background-color: var(--sklearn-color-fitted-level-2);\n",
       "}\n",
       "\n",
       "/* Estimator-specific style */\n",
       "\n",
       "/* Colorize estimator box */\n",
       "#sk-container-id-1 div.sk-estimator input.sk-toggleable__control:checked~label.sk-toggleable__label {\n",
       "  /* unfitted */\n",
       "  background-color: var(--sklearn-color-unfitted-level-2);\n",
       "}\n",
       "\n",
       "#sk-container-id-1 div.sk-estimator.fitted input.sk-toggleable__control:checked~label.sk-toggleable__label {\n",
       "  /* fitted */\n",
       "  background-color: var(--sklearn-color-fitted-level-2);\n",
       "}\n",
       "\n",
       "#sk-container-id-1 div.sk-label label.sk-toggleable__label,\n",
       "#sk-container-id-1 div.sk-label label {\n",
       "  /* The background is the default theme color */\n",
       "  color: var(--sklearn-color-text-on-default-background);\n",
       "}\n",
       "\n",
       "/* On hover, darken the color of the background */\n",
       "#sk-container-id-1 div.sk-label:hover label.sk-toggleable__label {\n",
       "  color: var(--sklearn-color-text);\n",
       "  background-color: var(--sklearn-color-unfitted-level-2);\n",
       "}\n",
       "\n",
       "/* Label box, darken color on hover, fitted */\n",
       "#sk-container-id-1 div.sk-label.fitted:hover label.sk-toggleable__label.fitted {\n",
       "  color: var(--sklearn-color-text);\n",
       "  background-color: var(--sklearn-color-fitted-level-2);\n",
       "}\n",
       "\n",
       "/* Estimator label */\n",
       "\n",
       "#sk-container-id-1 div.sk-label label {\n",
       "  font-family: monospace;\n",
       "  font-weight: bold;\n",
       "  display: inline-block;\n",
       "  line-height: 1.2em;\n",
       "}\n",
       "\n",
       "#sk-container-id-1 div.sk-label-container {\n",
       "  text-align: center;\n",
       "}\n",
       "\n",
       "/* Estimator-specific */\n",
       "#sk-container-id-1 div.sk-estimator {\n",
       "  font-family: monospace;\n",
       "  border: 1px dotted var(--sklearn-color-border-box);\n",
       "  border-radius: 0.25em;\n",
       "  box-sizing: border-box;\n",
       "  margin-bottom: 0.5em;\n",
       "  /* unfitted */\n",
       "  background-color: var(--sklearn-color-unfitted-level-0);\n",
       "}\n",
       "\n",
       "#sk-container-id-1 div.sk-estimator.fitted {\n",
       "  /* fitted */\n",
       "  background-color: var(--sklearn-color-fitted-level-0);\n",
       "}\n",
       "\n",
       "/* on hover */\n",
       "#sk-container-id-1 div.sk-estimator:hover {\n",
       "  /* unfitted */\n",
       "  background-color: var(--sklearn-color-unfitted-level-2);\n",
       "}\n",
       "\n",
       "#sk-container-id-1 div.sk-estimator.fitted:hover {\n",
       "  /* fitted */\n",
       "  background-color: var(--sklearn-color-fitted-level-2);\n",
       "}\n",
       "\n",
       "/* Specification for estimator info (e.g. \"i\" and \"?\") */\n",
       "\n",
       "/* Common style for \"i\" and \"?\" */\n",
       "\n",
       ".sk-estimator-doc-link,\n",
       "a:link.sk-estimator-doc-link,\n",
       "a:visited.sk-estimator-doc-link {\n",
       "  float: right;\n",
       "  font-size: smaller;\n",
       "  line-height: 1em;\n",
       "  font-family: monospace;\n",
       "  background-color: var(--sklearn-color-background);\n",
       "  border-radius: 1em;\n",
       "  height: 1em;\n",
       "  width: 1em;\n",
       "  text-decoration: none !important;\n",
       "  margin-left: 1ex;\n",
       "  /* unfitted */\n",
       "  border: var(--sklearn-color-unfitted-level-1) 1pt solid;\n",
       "  color: var(--sklearn-color-unfitted-level-1);\n",
       "}\n",
       "\n",
       ".sk-estimator-doc-link.fitted,\n",
       "a:link.sk-estimator-doc-link.fitted,\n",
       "a:visited.sk-estimator-doc-link.fitted {\n",
       "  /* fitted */\n",
       "  border: var(--sklearn-color-fitted-level-1) 1pt solid;\n",
       "  color: var(--sklearn-color-fitted-level-1);\n",
       "}\n",
       "\n",
       "/* On hover */\n",
       "div.sk-estimator:hover .sk-estimator-doc-link:hover,\n",
       ".sk-estimator-doc-link:hover,\n",
       "div.sk-label-container:hover .sk-estimator-doc-link:hover,\n",
       ".sk-estimator-doc-link:hover {\n",
       "  /* unfitted */\n",
       "  background-color: var(--sklearn-color-unfitted-level-3);\n",
       "  color: var(--sklearn-color-background);\n",
       "  text-decoration: none;\n",
       "}\n",
       "\n",
       "div.sk-estimator.fitted:hover .sk-estimator-doc-link.fitted:hover,\n",
       ".sk-estimator-doc-link.fitted:hover,\n",
       "div.sk-label-container:hover .sk-estimator-doc-link.fitted:hover,\n",
       ".sk-estimator-doc-link.fitted:hover {\n",
       "  /* fitted */\n",
       "  background-color: var(--sklearn-color-fitted-level-3);\n",
       "  color: var(--sklearn-color-background);\n",
       "  text-decoration: none;\n",
       "}\n",
       "\n",
       "/* Span, style for the box shown on hovering the info icon */\n",
       ".sk-estimator-doc-link span {\n",
       "  display: none;\n",
       "  z-index: 9999;\n",
       "  position: relative;\n",
       "  font-weight: normal;\n",
       "  right: .2ex;\n",
       "  padding: .5ex;\n",
       "  margin: .5ex;\n",
       "  width: min-content;\n",
       "  min-width: 20ex;\n",
       "  max-width: 50ex;\n",
       "  color: var(--sklearn-color-text);\n",
       "  box-shadow: 2pt 2pt 4pt #999;\n",
       "  /* unfitted */\n",
       "  background: var(--sklearn-color-unfitted-level-0);\n",
       "  border: .5pt solid var(--sklearn-color-unfitted-level-3);\n",
       "}\n",
       "\n",
       ".sk-estimator-doc-link.fitted span {\n",
       "  /* fitted */\n",
       "  background: var(--sklearn-color-fitted-level-0);\n",
       "  border: var(--sklearn-color-fitted-level-3);\n",
       "}\n",
       "\n",
       ".sk-estimator-doc-link:hover span {\n",
       "  display: block;\n",
       "}\n",
       "\n",
       "/* \"?\"-specific style due to the `<a>` HTML tag */\n",
       "\n",
       "#sk-container-id-1 a.estimator_doc_link {\n",
       "  float: right;\n",
       "  font-size: 1rem;\n",
       "  line-height: 1em;\n",
       "  font-family: monospace;\n",
       "  background-color: var(--sklearn-color-background);\n",
       "  border-radius: 1rem;\n",
       "  height: 1rem;\n",
       "  width: 1rem;\n",
       "  text-decoration: none;\n",
       "  /* unfitted */\n",
       "  color: var(--sklearn-color-unfitted-level-1);\n",
       "  border: var(--sklearn-color-unfitted-level-1) 1pt solid;\n",
       "}\n",
       "\n",
       "#sk-container-id-1 a.estimator_doc_link.fitted {\n",
       "  /* fitted */\n",
       "  border: var(--sklearn-color-fitted-level-1) 1pt solid;\n",
       "  color: var(--sklearn-color-fitted-level-1);\n",
       "}\n",
       "\n",
       "/* On hover */\n",
       "#sk-container-id-1 a.estimator_doc_link:hover {\n",
       "  /* unfitted */\n",
       "  background-color: var(--sklearn-color-unfitted-level-3);\n",
       "  color: var(--sklearn-color-background);\n",
       "  text-decoration: none;\n",
       "}\n",
       "\n",
       "#sk-container-id-1 a.estimator_doc_link.fitted:hover {\n",
       "  /* fitted */\n",
       "  background-color: var(--sklearn-color-fitted-level-3);\n",
       "}\n",
       "</style><div id=\"sk-container-id-1\" class=\"sk-top-container\"><div class=\"sk-text-repr-fallback\"><pre>RandomForestClassifier()</pre><b>In a Jupyter environment, please rerun this cell to show the HTML representation or trust the notebook. <br />On GitHub, the HTML representation is unable to render, please try loading this page with nbviewer.org.</b></div><div class=\"sk-container\" hidden><div class=\"sk-item\"><div class=\"sk-estimator fitted sk-toggleable\"><input class=\"sk-toggleable__control sk-hidden--visually\" id=\"sk-estimator-id-1\" type=\"checkbox\" checked><label for=\"sk-estimator-id-1\" class=\"sk-toggleable__label fitted sk-toggleable__label-arrow fitted\">&nbsp;&nbsp;RandomForestClassifier<a class=\"sk-estimator-doc-link fitted\" rel=\"noreferrer\" target=\"_blank\" href=\"https://scikit-learn.org/1.5/modules/generated/sklearn.ensemble.RandomForestClassifier.html\">?<span>Documentation for RandomForestClassifier</span></a><span class=\"sk-estimator-doc-link fitted\">i<span>Fitted</span></span></label><div class=\"sk-toggleable__content fitted\"><pre>RandomForestClassifier()</pre></div> </div></div></div></div>"
      ],
      "text/plain": [
       "RandomForestClassifier()"
      ]
     },
     "execution_count": 19,
     "metadata": {},
     "output_type": "execute_result"
    }
   ],
   "source": [
    "clf = RandomForestClassifier()\n",
    "clf.fit(X_train, y_train)"
   ]
  },
  {
   "cell_type": "code",
   "execution_count": 20,
   "metadata": {},
   "outputs": [
    {
     "name": "stdout",
     "output_type": "stream",
     "text": [
      "              precision    recall  f1-score   support\n",
      "\n",
      "           0       0.91      0.80      0.86        92\n",
      "           1       0.87      0.95      0.91       130\n",
      "\n",
      "    accuracy                           0.89       222\n",
      "   macro avg       0.89      0.88      0.88       222\n",
      "weighted avg       0.89      0.89      0.89       222\n",
      "\n"
     ]
    }
   ],
   "source": [
    "y_pred = clf.predict(X_test)\n",
    "print(classification_report(y_test, y_pred))"
   ]
  },
  {
   "cell_type": "markdown",
   "metadata": {},
   "source": [
    "### DWT+ANN"
   ]
  },
  {
   "cell_type": "code",
   "execution_count": 21,
   "metadata": {},
   "outputs": [
    {
     "name": "stderr",
     "output_type": "stream",
     "text": [
      "2024-08-30 20:32:08.493741: E external/local_xla/xla/stream_executor/cuda/cuda_fft.cc:485] Unable to register cuFFT factory: Attempting to register factory for plugin cuFFT when one has already been registered\n",
      "2024-08-30 20:32:08.530580: E external/local_xla/xla/stream_executor/cuda/cuda_dnn.cc:8454] Unable to register cuDNN factory: Attempting to register factory for plugin cuDNN when one has already been registered\n",
      "2024-08-30 20:32:08.541163: E external/local_xla/xla/stream_executor/cuda/cuda_blas.cc:1452] Unable to register cuBLAS factory: Attempting to register factory for plugin cuBLAS when one has already been registered\n",
      "2024-08-30 20:32:08.625026: I tensorflow/core/platform/cpu_feature_guard.cc:210] This TensorFlow binary is optimized to use available CPU instructions in performance-critical operations.\n",
      "To enable the following instructions: AVX2 FMA, in other operations, rebuild TensorFlow with the appropriate compiler flags.\n",
      "2024-08-30 20:32:09.946800: W tensorflow/compiler/tf2tensorrt/utils/py_utils.cc:38] TF-TRT Warning: Could not find TensorRT\n"
     ]
    }
   ],
   "source": [
    "import tensorflow as tf"
   ]
  },
  {
   "cell_type": "code",
   "execution_count": 22,
   "metadata": {},
   "outputs": [
    {
     "name": "stderr",
     "output_type": "stream",
     "text": [
      "WARNING: All log messages before absl::InitializeLog() is called are written to STDERR\n",
      "I0000 00:00:1725024733.941361  150872 cuda_executor.cc:1001] could not open file to read NUMA node: /sys/bus/pci/devices/0000:01:00.0/numa_node\n",
      "Your kernel may have been built without NUMA support.\n",
      "I0000 00:00:1725024734.193661  150872 cuda_executor.cc:1001] could not open file to read NUMA node: /sys/bus/pci/devices/0000:01:00.0/numa_node\n",
      "Your kernel may have been built without NUMA support.\n",
      "I0000 00:00:1725024734.193734  150872 cuda_executor.cc:1001] could not open file to read NUMA node: /sys/bus/pci/devices/0000:01:00.0/numa_node\n",
      "Your kernel may have been built without NUMA support.\n",
      "I0000 00:00:1725024734.195842  150872 cuda_executor.cc:1001] could not open file to read NUMA node: /sys/bus/pci/devices/0000:01:00.0/numa_node\n",
      "Your kernel may have been built without NUMA support.\n",
      "I0000 00:00:1725024734.195900  150872 cuda_executor.cc:1001] could not open file to read NUMA node: /sys/bus/pci/devices/0000:01:00.0/numa_node\n",
      "Your kernel may have been built without NUMA support.\n",
      "I0000 00:00:1725024734.195933  150872 cuda_executor.cc:1001] could not open file to read NUMA node: /sys/bus/pci/devices/0000:01:00.0/numa_node\n",
      "Your kernel may have been built without NUMA support.\n",
      "I0000 00:00:1725024734.490007  150872 cuda_executor.cc:1001] could not open file to read NUMA node: /sys/bus/pci/devices/0000:01:00.0/numa_node\n",
      "Your kernel may have been built without NUMA support.\n",
      "I0000 00:00:1725024734.490178  150872 cuda_executor.cc:1001] could not open file to read NUMA node: /sys/bus/pci/devices/0000:01:00.0/numa_node\n",
      "Your kernel may have been built without NUMA support.\n",
      "2024-08-30 20:32:14.490226: I tensorflow/core/common_runtime/gpu/gpu_device.cc:2112] Could not identify NUMA node of platform GPU id 0, defaulting to 0.  Your kernel may not have been built with NUMA support.\n",
      "I0000 00:00:1725024734.490343  150872 cuda_executor.cc:1001] could not open file to read NUMA node: /sys/bus/pci/devices/0000:01:00.0/numa_node\n",
      "Your kernel may have been built without NUMA support.\n",
      "2024-08-30 20:32:14.490473: I tensorflow/core/common_runtime/gpu/gpu_device.cc:2021] Created device /job:localhost/replica:0/task:0/device:GPU:0 with 8938 MB memory:  -> device: 0, name: NVIDIA GeForce RTX 3060, pci bus id: 0000:01:00.0, compute capability: 8.6\n"
     ]
    },
    {
     "data": {
      "text/html": [
       "<pre style=\"white-space:pre;overflow-x:auto;line-height:normal;font-family:Menlo,'DejaVu Sans Mono',consolas,'Courier New',monospace\"><span style=\"font-weight: bold\">Model: \"sequential\"</span>\n",
       "</pre>\n"
      ],
      "text/plain": [
       "\u001b[1mModel: \"sequential\"\u001b[0m\n"
      ]
     },
     "metadata": {},
     "output_type": "display_data"
    },
    {
     "data": {
      "text/html": [
       "<pre style=\"white-space:pre;overflow-x:auto;line-height:normal;font-family:Menlo,'DejaVu Sans Mono',consolas,'Courier New',monospace\">┏━━━━━━━━━━━━━━━━━━━━━━━━━━━━━━━━━┳━━━━━━━━━━━━━━━━━━━━━━━━┳━━━━━━━━━━━━━━━┓\n",
       "┃<span style=\"font-weight: bold\"> Layer (type)                    </span>┃<span style=\"font-weight: bold\"> Output Shape           </span>┃<span style=\"font-weight: bold\">       Param # </span>┃\n",
       "┡━━━━━━━━━━━━━━━━━━━━━━━━━━━━━━━━━╇━━━━━━━━━━━━━━━━━━━━━━━━╇━━━━━━━━━━━━━━━┩\n",
       "│ dense (<span style=\"color: #0087ff; text-decoration-color: #0087ff\">Dense</span>)                   │ (<span style=\"color: #00d7ff; text-decoration-color: #00d7ff\">None</span>, <span style=\"color: #00af00; text-decoration-color: #00af00\">1024</span>)           │        <span style=\"color: #00af00; text-decoration-color: #00af00\">47,104</span> │\n",
       "├─────────────────────────────────┼────────────────────────┼───────────────┤\n",
       "│ dense_1 (<span style=\"color: #0087ff; text-decoration-color: #0087ff\">Dense</span>)                 │ (<span style=\"color: #00d7ff; text-decoration-color: #00d7ff\">None</span>, <span style=\"color: #00af00; text-decoration-color: #00af00\">1024</span>)           │     <span style=\"color: #00af00; text-decoration-color: #00af00\">1,049,600</span> │\n",
       "├─────────────────────────────────┼────────────────────────┼───────────────┤\n",
       "│ dense_2 (<span style=\"color: #0087ff; text-decoration-color: #0087ff\">Dense</span>)                 │ (<span style=\"color: #00d7ff; text-decoration-color: #00d7ff\">None</span>, <span style=\"color: #00af00; text-decoration-color: #00af00\">1</span>)              │         <span style=\"color: #00af00; text-decoration-color: #00af00\">1,025</span> │\n",
       "└─────────────────────────────────┴────────────────────────┴───────────────┘\n",
       "</pre>\n"
      ],
      "text/plain": [
       "┏━━━━━━━━━━━━━━━━━━━━━━━━━━━━━━━━━┳━━━━━━━━━━━━━━━━━━━━━━━━┳━━━━━━━━━━━━━━━┓\n",
       "┃\u001b[1m \u001b[0m\u001b[1mLayer (type)                   \u001b[0m\u001b[1m \u001b[0m┃\u001b[1m \u001b[0m\u001b[1mOutput Shape          \u001b[0m\u001b[1m \u001b[0m┃\u001b[1m \u001b[0m\u001b[1m      Param #\u001b[0m\u001b[1m \u001b[0m┃\n",
       "┡━━━━━━━━━━━━━━━━━━━━━━━━━━━━━━━━━╇━━━━━━━━━━━━━━━━━━━━━━━━╇━━━━━━━━━━━━━━━┩\n",
       "│ dense (\u001b[38;5;33mDense\u001b[0m)                   │ (\u001b[38;5;45mNone\u001b[0m, \u001b[38;5;34m1024\u001b[0m)           │        \u001b[38;5;34m47,104\u001b[0m │\n",
       "├─────────────────────────────────┼────────────────────────┼───────────────┤\n",
       "│ dense_1 (\u001b[38;5;33mDense\u001b[0m)                 │ (\u001b[38;5;45mNone\u001b[0m, \u001b[38;5;34m1024\u001b[0m)           │     \u001b[38;5;34m1,049,600\u001b[0m │\n",
       "├─────────────────────────────────┼────────────────────────┼───────────────┤\n",
       "│ dense_2 (\u001b[38;5;33mDense\u001b[0m)                 │ (\u001b[38;5;45mNone\u001b[0m, \u001b[38;5;34m1\u001b[0m)              │         \u001b[38;5;34m1,025\u001b[0m │\n",
       "└─────────────────────────────────┴────────────────────────┴───────────────┘\n"
      ]
     },
     "metadata": {},
     "output_type": "display_data"
    },
    {
     "data": {
      "text/html": [
       "<pre style=\"white-space:pre;overflow-x:auto;line-height:normal;font-family:Menlo,'DejaVu Sans Mono',consolas,'Courier New',monospace\"><span style=\"font-weight: bold\"> Total params: </span><span style=\"color: #00af00; text-decoration-color: #00af00\">1,097,729</span> (4.19 MB)\n",
       "</pre>\n"
      ],
      "text/plain": [
       "\u001b[1m Total params: \u001b[0m\u001b[38;5;34m1,097,729\u001b[0m (4.19 MB)\n"
      ]
     },
     "metadata": {},
     "output_type": "display_data"
    },
    {
     "data": {
      "text/html": [
       "<pre style=\"white-space:pre;overflow-x:auto;line-height:normal;font-family:Menlo,'DejaVu Sans Mono',consolas,'Courier New',monospace\"><span style=\"font-weight: bold\"> Trainable params: </span><span style=\"color: #00af00; text-decoration-color: #00af00\">1,097,729</span> (4.19 MB)\n",
       "</pre>\n"
      ],
      "text/plain": [
       "\u001b[1m Trainable params: \u001b[0m\u001b[38;5;34m1,097,729\u001b[0m (4.19 MB)\n"
      ]
     },
     "metadata": {},
     "output_type": "display_data"
    },
    {
     "data": {
      "text/html": [
       "<pre style=\"white-space:pre;overflow-x:auto;line-height:normal;font-family:Menlo,'DejaVu Sans Mono',consolas,'Courier New',monospace\"><span style=\"font-weight: bold\"> Non-trainable params: </span><span style=\"color: #00af00; text-decoration-color: #00af00\">0</span> (0.00 B)\n",
       "</pre>\n"
      ],
      "text/plain": [
       "\u001b[1m Non-trainable params: \u001b[0m\u001b[38;5;34m0\u001b[0m (0.00 B)\n"
      ]
     },
     "metadata": {},
     "output_type": "display_data"
    }
   ],
   "source": [
    "model = tf.keras.Sequential([\n",
    "    tf.keras.layers.InputLayer((45,)),\n",
    "    tf.keras.layers.Dense(1024, activation=\"relu\"),\n",
    "    tf.keras.layers.Dense(1024, activation=\"relu\"),\n",
    "    tf.keras.layers.Dense(1, activation=\"sigmoid\"),\n",
    "])\n",
    "\n",
    "model.compile(loss=\"binary_crossentropy\", optimizer=\"adam\", metrics=[\"accuracy\"])\n",
    "model.summary()"
   ]
  },
  {
   "cell_type": "code",
   "execution_count": 23,
   "metadata": {},
   "outputs": [
    {
     "name": "stdout",
     "output_type": "stream",
     "text": [
      "Epoch 1/100\n"
     ]
    },
    {
     "name": "stderr",
     "output_type": "stream",
     "text": [
      "WARNING: All log messages before absl::InitializeLog() is called are written to STDERR\n",
      "I0000 00:00:1725024754.370644  240997 service.cc:146] XLA service 0x7f6af0005310 initialized for platform CUDA (this does not guarantee that XLA will be used). Devices:\n",
      "I0000 00:00:1725024754.370806  240997 service.cc:154]   StreamExecutor device (0): NVIDIA GeForce RTX 3060, Compute Capability 8.6\n",
      "2024-08-30 20:32:34.421815: I tensorflow/compiler/mlir/tensorflow/utils/dump_mlir_util.cc:268] disabling MLIR crash reproducer, set env var `MLIR_CRASH_REPRODUCER_DIRECTORY` to enable.\n",
      "2024-08-30 20:32:34.597181: I external/local_xla/xla/stream_executor/cuda/cuda_dnn.cc:531] Loaded cuDNN version 8907\n"
     ]
    },
    {
     "name": "stdout",
     "output_type": "stream",
     "text": [
      "\u001b[1m 1/28\u001b[0m \u001b[37m━━━━━━━━━━━━━━━━━━━━\u001b[0m \u001b[1m1:25\u001b[0m 3s/step - accuracy: 0.6875 - loss: 1221.1353"
     ]
    },
    {
     "name": "stderr",
     "output_type": "stream",
     "text": [
      "I0000 00:00:1725024756.752220  240997 device_compiler.h:188] Compiled cluster using XLA!  This line is logged at most once for the lifetime of the process.\n",
      "2024-08-30 20:32:38.132401: I external/local_xla/xla/stream_executor/cuda/cuda_asm_compiler.cc:393] ptxas warning : Registers are spilled to local memory in function 'gemm_fusion_dot_28', 4 bytes spill stores, 4 bytes spill loads\n",
      "\n"
     ]
    },
    {
     "name": "stdout",
     "output_type": "stream",
     "text": [
      "\u001b[1m28/28\u001b[0m \u001b[32m━━━━━━━━━━━━━━━━━━━━\u001b[0m\u001b[37m\u001b[0m \u001b[1m5s\u001b[0m 69ms/step - accuracy: 0.5379 - loss: 4485.9434 - val_accuracy: 0.5856 - val_loss: 1539.8015\n",
      "Epoch 2/100\n",
      "\u001b[1m28/28\u001b[0m \u001b[32m━━━━━━━━━━━━━━━━━━━━\u001b[0m\u001b[37m\u001b[0m \u001b[1m0s\u001b[0m 6ms/step - accuracy: 0.5393 - loss: 838.4384 - val_accuracy: 0.4775 - val_loss: 415.5085\n",
      "Epoch 3/100\n",
      "\u001b[1m28/28\u001b[0m \u001b[32m━━━━━━━━━━━━━━━━━━━━\u001b[0m\u001b[37m\u001b[0m \u001b[1m0s\u001b[0m 5ms/step - accuracy: 0.5487 - loss: 206.7712 - val_accuracy: 0.6171 - val_loss: 39.3782\n",
      "Epoch 4/100\n",
      "\u001b[1m28/28\u001b[0m \u001b[32m━━━━━━━━━━━━━━━━━━━━\u001b[0m\u001b[37m\u001b[0m \u001b[1m0s\u001b[0m 3ms/step - accuracy: 0.5403 - loss: 112.6592 - val_accuracy: 0.5856 - val_loss: 122.0910\n",
      "Epoch 5/100\n",
      "\u001b[1m28/28\u001b[0m \u001b[32m━━━━━━━━━━━━━━━━━━━━\u001b[0m\u001b[37m\u001b[0m \u001b[1m0s\u001b[0m 3ms/step - accuracy: 0.5573 - loss: 96.4391 - val_accuracy: 0.5901 - val_loss: 222.6428\n",
      "Epoch 6/100\n",
      "\u001b[1m28/28\u001b[0m \u001b[32m━━━━━━━━━━━━━━━━━━━━\u001b[0m\u001b[37m\u001b[0m \u001b[1m0s\u001b[0m 3ms/step - accuracy: 0.5729 - loss: 135.2994 - val_accuracy: 0.6216 - val_loss: 38.5201\n",
      "Epoch 7/100\n",
      "\u001b[1m28/28\u001b[0m \u001b[32m━━━━━━━━━━━━━━━━━━━━\u001b[0m\u001b[37m\u001b[0m \u001b[1m0s\u001b[0m 3ms/step - accuracy: 0.5775 - loss: 137.7488 - val_accuracy: 0.5856 - val_loss: 174.0112\n",
      "Epoch 8/100\n",
      "\u001b[1m28/28\u001b[0m \u001b[32m━━━━━━━━━━━━━━━━━━━━\u001b[0m\u001b[37m\u001b[0m \u001b[1m0s\u001b[0m 3ms/step - accuracy: 0.5293 - loss: 221.0245 - val_accuracy: 0.5045 - val_loss: 329.5599\n",
      "Epoch 9/100\n",
      "\u001b[1m28/28\u001b[0m \u001b[32m━━━━━━━━━━━━━━━━━━━━\u001b[0m\u001b[37m\u001b[0m \u001b[1m0s\u001b[0m 3ms/step - accuracy: 0.5046 - loss: 294.0688 - val_accuracy: 0.6216 - val_loss: 148.9189\n",
      "Epoch 10/100\n",
      "\u001b[1m28/28\u001b[0m \u001b[32m━━━━━━━━━━━━━━━━━━━━\u001b[0m\u001b[37m\u001b[0m \u001b[1m0s\u001b[0m 3ms/step - accuracy: 0.6629 - loss: 49.2460 - val_accuracy: 0.4144 - val_loss: 121.7475\n",
      "Epoch 11/100\n",
      "\u001b[1m28/28\u001b[0m \u001b[32m━━━━━━━━━━━━━━━━━━━━\u001b[0m\u001b[37m\u001b[0m \u001b[1m0s\u001b[0m 3ms/step - accuracy: 0.5201 - loss: 89.0270 - val_accuracy: 0.6081 - val_loss: 24.1230\n",
      "Epoch 12/100\n",
      "\u001b[1m28/28\u001b[0m \u001b[32m━━━━━━━━━━━━━━━━━━━━\u001b[0m\u001b[37m\u001b[0m \u001b[1m0s\u001b[0m 3ms/step - accuracy: 0.5813 - loss: 67.4718 - val_accuracy: 0.5090 - val_loss: 267.6042\n",
      "Epoch 13/100\n",
      "\u001b[1m28/28\u001b[0m \u001b[32m━━━━━━━━━━━━━━━━━━━━\u001b[0m\u001b[37m\u001b[0m \u001b[1m0s\u001b[0m 3ms/step - accuracy: 0.5383 - loss: 104.1453 - val_accuracy: 0.6306 - val_loss: 34.3955\n",
      "Epoch 14/100\n",
      "\u001b[1m28/28\u001b[0m \u001b[32m━━━━━━━━━━━━━━━━━━━━\u001b[0m\u001b[37m\u001b[0m \u001b[1m0s\u001b[0m 3ms/step - accuracy: 0.6533 - loss: 30.4076 - val_accuracy: 0.5856 - val_loss: 18.5806\n",
      "Epoch 15/100\n",
      "\u001b[1m28/28\u001b[0m \u001b[32m━━━━━━━━━━━━━━━━━━━━\u001b[0m\u001b[37m\u001b[0m \u001b[1m0s\u001b[0m 3ms/step - accuracy: 0.5822 - loss: 74.3121 - val_accuracy: 0.6216 - val_loss: 28.9694\n",
      "Epoch 16/100\n",
      "\u001b[1m28/28\u001b[0m \u001b[32m━━━━━━━━━━━━━━━━━━━━\u001b[0m\u001b[37m\u001b[0m \u001b[1m0s\u001b[0m 3ms/step - accuracy: 0.6073 - loss: 73.0628 - val_accuracy: 0.6306 - val_loss: 45.2606\n",
      "Epoch 17/100\n",
      "\u001b[1m28/28\u001b[0m \u001b[32m━━━━━━━━━━━━━━━━━━━━\u001b[0m\u001b[37m\u001b[0m \u001b[1m0s\u001b[0m 5ms/step - accuracy: 0.6221 - loss: 24.8984 - val_accuracy: 0.5541 - val_loss: 69.4560\n",
      "Epoch 18/100\n",
      "\u001b[1m28/28\u001b[0m \u001b[32m━━━━━━━━━━━━━━━━━━━━\u001b[0m\u001b[37m\u001b[0m \u001b[1m0s\u001b[0m 3ms/step - accuracy: 0.5867 - loss: 57.0010 - val_accuracy: 0.6171 - val_loss: 29.8312\n",
      "Epoch 19/100\n",
      "\u001b[1m28/28\u001b[0m \u001b[32m━━━━━━━━━━━━━━━━━━━━\u001b[0m\u001b[37m\u001b[0m \u001b[1m0s\u001b[0m 3ms/step - accuracy: 0.5856 - loss: 73.9976 - val_accuracy: 0.4144 - val_loss: 336.3543\n",
      "Epoch 20/100\n",
      "\u001b[1m28/28\u001b[0m \u001b[32m━━━━━━━━━━━━━━━━━━━━\u001b[0m\u001b[37m\u001b[0m \u001b[1m0s\u001b[0m 3ms/step - accuracy: 0.5189 - loss: 230.2890 - val_accuracy: 0.5811 - val_loss: 99.3150\n",
      "Epoch 21/100\n",
      "\u001b[1m28/28\u001b[0m \u001b[32m━━━━━━━━━━━━━━━━━━━━\u001b[0m\u001b[37m\u001b[0m \u001b[1m0s\u001b[0m 3ms/step - accuracy: 0.5916 - loss: 41.1257 - val_accuracy: 0.6216 - val_loss: 48.0945\n",
      "Epoch 22/100\n",
      "\u001b[1m28/28\u001b[0m \u001b[32m━━━━━━━━━━━━━━━━━━━━\u001b[0m\u001b[37m\u001b[0m \u001b[1m0s\u001b[0m 3ms/step - accuracy: 0.6402 - loss: 37.8669 - val_accuracy: 0.6622 - val_loss: 19.3904\n",
      "Epoch 23/100\n",
      "\u001b[1m28/28\u001b[0m \u001b[32m━━━━━━━━━━━━━━━━━━━━\u001b[0m\u001b[37m\u001b[0m \u001b[1m0s\u001b[0m 4ms/step - accuracy: 0.5989 - loss: 21.6588 - val_accuracy: 0.6171 - val_loss: 26.2434\n",
      "Epoch 24/100\n",
      "\u001b[1m28/28\u001b[0m \u001b[32m━━━━━━━━━━━━━━━━━━━━\u001b[0m\u001b[37m\u001b[0m \u001b[1m0s\u001b[0m 4ms/step - accuracy: 0.6327 - loss: 28.6427 - val_accuracy: 0.5495 - val_loss: 124.7135\n",
      "Epoch 25/100\n",
      "\u001b[1m28/28\u001b[0m \u001b[32m━━━━━━━━━━━━━━━━━━━━\u001b[0m\u001b[37m\u001b[0m \u001b[1m0s\u001b[0m 3ms/step - accuracy: 0.6082 - loss: 69.3326 - val_accuracy: 0.6396 - val_loss: 40.1422\n",
      "Epoch 26/100\n",
      "\u001b[1m28/28\u001b[0m \u001b[32m━━━━━━━━━━━━━━━━━━━━\u001b[0m\u001b[37m\u001b[0m \u001b[1m0s\u001b[0m 3ms/step - accuracy: 0.6189 - loss: 20.7051 - val_accuracy: 0.6306 - val_loss: 18.1844\n",
      "Epoch 27/100\n",
      "\u001b[1m28/28\u001b[0m \u001b[32m━━━━━━━━━━━━━━━━━━━━\u001b[0m\u001b[37m\u001b[0m \u001b[1m0s\u001b[0m 3ms/step - accuracy: 0.6453 - loss: 12.8543 - val_accuracy: 0.5946 - val_loss: 19.0936\n",
      "Epoch 28/100\n",
      "\u001b[1m28/28\u001b[0m \u001b[32m━━━━━━━━━━━━━━━━━━━━\u001b[0m\u001b[37m\u001b[0m \u001b[1m0s\u001b[0m 3ms/step - accuracy: 0.6489 - loss: 7.4049 - val_accuracy: 0.5676 - val_loss: 51.3907\n",
      "Epoch 29/100\n",
      "\u001b[1m28/28\u001b[0m \u001b[32m━━━━━━━━━━━━━━━━━━━━\u001b[0m\u001b[37m\u001b[0m \u001b[1m0s\u001b[0m 3ms/step - accuracy: 0.6025 - loss: 19.7056 - val_accuracy: 0.6577 - val_loss: 10.9589\n",
      "Epoch 30/100\n",
      "\u001b[1m28/28\u001b[0m \u001b[32m━━━━━━━━━━━━━━━━━━━━\u001b[0m\u001b[37m\u001b[0m \u001b[1m0s\u001b[0m 4ms/step - accuracy: 0.6310 - loss: 10.4151 - val_accuracy: 0.6306 - val_loss: 4.5633\n",
      "Epoch 31/100\n",
      "\u001b[1m28/28\u001b[0m \u001b[32m━━━━━━━━━━━━━━━━━━━━\u001b[0m\u001b[37m\u001b[0m \u001b[1m0s\u001b[0m 3ms/step - accuracy: 0.6899 - loss: 3.6890 - val_accuracy: 0.5541 - val_loss: 29.1080\n",
      "Epoch 32/100\n",
      "\u001b[1m28/28\u001b[0m \u001b[32m━━━━━━━━━━━━━━━━━━━━\u001b[0m\u001b[37m\u001b[0m \u001b[1m0s\u001b[0m 4ms/step - accuracy: 0.6261 - loss: 12.7247 - val_accuracy: 0.6171 - val_loss: 5.3608\n",
      "Epoch 33/100\n",
      "\u001b[1m28/28\u001b[0m \u001b[32m━━━━━━━━━━━━━━━━━━━━\u001b[0m\u001b[37m\u001b[0m \u001b[1m0s\u001b[0m 4ms/step - accuracy: 0.6440 - loss: 8.3267 - val_accuracy: 0.6261 - val_loss: 6.1725\n",
      "Epoch 34/100\n",
      "\u001b[1m28/28\u001b[0m \u001b[32m━━━━━━━━━━━━━━━━━━━━\u001b[0m\u001b[37m\u001b[0m \u001b[1m0s\u001b[0m 3ms/step - accuracy: 0.6198 - loss: 17.3764 - val_accuracy: 0.5901 - val_loss: 45.6433\n",
      "Epoch 35/100\n",
      "\u001b[1m28/28\u001b[0m \u001b[32m━━━━━━━━━━━━━━━━━━━━\u001b[0m\u001b[37m\u001b[0m \u001b[1m0s\u001b[0m 3ms/step - accuracy: 0.6648 - loss: 20.5506 - val_accuracy: 0.5135 - val_loss: 47.2339\n",
      "Epoch 36/100\n",
      "\u001b[1m28/28\u001b[0m \u001b[32m━━━━━━━━━━━━━━━━━━━━\u001b[0m\u001b[37m\u001b[0m \u001b[1m0s\u001b[0m 4ms/step - accuracy: 0.5538 - loss: 22.5499 - val_accuracy: 0.6396 - val_loss: 9.0344\n",
      "Epoch 37/100\n",
      "\u001b[1m28/28\u001b[0m \u001b[32m━━━━━━━━━━━━━━━━━━━━\u001b[0m\u001b[37m\u001b[0m \u001b[1m0s\u001b[0m 4ms/step - accuracy: 0.6489 - loss: 9.5232 - val_accuracy: 0.5901 - val_loss: 77.5554\n",
      "Epoch 38/100\n",
      "\u001b[1m28/28\u001b[0m \u001b[32m━━━━━━━━━━━━━━━━━━━━\u001b[0m\u001b[37m\u001b[0m \u001b[1m0s\u001b[0m 4ms/step - accuracy: 0.5924 - loss: 66.9737 - val_accuracy: 0.6396 - val_loss: 35.1246\n",
      "Epoch 39/100\n",
      "\u001b[1m28/28\u001b[0m \u001b[32m━━━━━━━━━━━━━━━━━━━━\u001b[0m\u001b[37m\u001b[0m \u001b[1m0s\u001b[0m 4ms/step - accuracy: 0.5579 - loss: 26.9626 - val_accuracy: 0.6126 - val_loss: 9.1257\n",
      "Epoch 40/100\n",
      "\u001b[1m28/28\u001b[0m \u001b[32m━━━━━━━━━━━━━━━━━━━━\u001b[0m\u001b[37m\u001b[0m \u001b[1m0s\u001b[0m 4ms/step - accuracy: 0.6744 - loss: 11.6934 - val_accuracy: 0.6441 - val_loss: 14.7658\n",
      "Epoch 41/100\n",
      "\u001b[1m28/28\u001b[0m \u001b[32m━━━━━━━━━━━━━━━━━━━━\u001b[0m\u001b[37m\u001b[0m \u001b[1m0s\u001b[0m 4ms/step - accuracy: 0.6154 - loss: 11.1026 - val_accuracy: 0.5991 - val_loss: 25.9263\n",
      "Epoch 42/100\n",
      "\u001b[1m28/28\u001b[0m \u001b[32m━━━━━━━━━━━━━━━━━━━━\u001b[0m\u001b[37m\u001b[0m \u001b[1m0s\u001b[0m 4ms/step - accuracy: 0.6548 - loss: 8.9161 - val_accuracy: 0.6667 - val_loss: 4.5084\n",
      "Epoch 43/100\n",
      "\u001b[1m28/28\u001b[0m \u001b[32m━━━━━━━━━━━━━━━━━━━━\u001b[0m\u001b[37m\u001b[0m \u001b[1m0s\u001b[0m 4ms/step - accuracy: 0.7356 - loss: 3.1076 - val_accuracy: 0.6306 - val_loss: 6.9622\n",
      "Epoch 44/100\n",
      "\u001b[1m28/28\u001b[0m \u001b[32m━━━━━━━━━━━━━━━━━━━━\u001b[0m\u001b[37m\u001b[0m \u001b[1m0s\u001b[0m 4ms/step - accuracy: 0.6778 - loss: 7.5935 - val_accuracy: 0.5631 - val_loss: 8.6878\n",
      "Epoch 45/100\n",
      "\u001b[1m28/28\u001b[0m \u001b[32m━━━━━━━━━━━━━━━━━━━━\u001b[0m\u001b[37m\u001b[0m \u001b[1m0s\u001b[0m 4ms/step - accuracy: 0.6727 - loss: 4.8276 - val_accuracy: 0.6802 - val_loss: 1.5420\n",
      "Epoch 46/100\n",
      "\u001b[1m28/28\u001b[0m \u001b[32m━━━━━━━━━━━━━━━━━━━━\u001b[0m\u001b[37m\u001b[0m \u001b[1m0s\u001b[0m 4ms/step - accuracy: 0.7451 - loss: 0.7059 - val_accuracy: 0.7162 - val_loss: 1.7783\n",
      "Epoch 47/100\n",
      "\u001b[1m28/28\u001b[0m \u001b[32m━━━━━━━━━━━━━━━━━━━━\u001b[0m\u001b[37m\u001b[0m \u001b[1m0s\u001b[0m 4ms/step - accuracy: 0.7910 - loss: 0.4533 - val_accuracy: 0.7432 - val_loss: 1.3776\n",
      "Epoch 48/100\n",
      "\u001b[1m28/28\u001b[0m \u001b[32m━━━━━━━━━━━━━━━━━━━━\u001b[0m\u001b[37m\u001b[0m \u001b[1m0s\u001b[0m 4ms/step - accuracy: 0.7820 - loss: 0.5371 - val_accuracy: 0.7207 - val_loss: 1.0513\n",
      "Epoch 49/100\n",
      "\u001b[1m28/28\u001b[0m \u001b[32m━━━━━━━━━━━━━━━━━━━━\u001b[0m\u001b[37m\u001b[0m \u001b[1m0s\u001b[0m 4ms/step - accuracy: 0.7537 - loss: 0.4480 - val_accuracy: 0.7477 - val_loss: 1.5234\n",
      "Epoch 50/100\n",
      "\u001b[1m28/28\u001b[0m \u001b[32m━━━━━━━━━━━━━━━━━━━━\u001b[0m\u001b[37m\u001b[0m \u001b[1m0s\u001b[0m 4ms/step - accuracy: 0.7835 - loss: 0.5876 - val_accuracy: 0.7072 - val_loss: 0.9825\n",
      "Epoch 51/100\n",
      "\u001b[1m28/28\u001b[0m \u001b[32m━━━━━━━━━━━━━━━━━━━━\u001b[0m\u001b[37m\u001b[0m \u001b[1m0s\u001b[0m 4ms/step - accuracy: 0.7707 - loss: 0.5451 - val_accuracy: 0.7027 - val_loss: 0.9188\n",
      "Epoch 52/100\n",
      "\u001b[1m28/28\u001b[0m \u001b[32m━━━━━━━━━━━━━━━━━━━━\u001b[0m\u001b[37m\u001b[0m \u001b[1m0s\u001b[0m 4ms/step - accuracy: 0.7745 - loss: 0.4635 - val_accuracy: 0.7162 - val_loss: 0.8841\n",
      "Epoch 53/100\n",
      "\u001b[1m28/28\u001b[0m \u001b[32m━━━━━━━━━━━━━━━━━━━━\u001b[0m\u001b[37m\u001b[0m \u001b[1m0s\u001b[0m 4ms/step - accuracy: 0.7669 - loss: 0.4586 - val_accuracy: 0.6667 - val_loss: 1.7277\n",
      "Epoch 54/100\n",
      "\u001b[1m28/28\u001b[0m \u001b[32m━━━━━━━━━━━━━━━━━━━━\u001b[0m\u001b[37m\u001b[0m \u001b[1m0s\u001b[0m 4ms/step - accuracy: 0.7185 - loss: 1.0238 - val_accuracy: 0.6802 - val_loss: 1.6872\n",
      "Epoch 55/100\n",
      "\u001b[1m28/28\u001b[0m \u001b[32m━━━━━━━━━━━━━━━━━━━━\u001b[0m\u001b[37m\u001b[0m \u001b[1m0s\u001b[0m 4ms/step - accuracy: 0.6772 - loss: 0.8453 - val_accuracy: 0.7117 - val_loss: 0.9355\n",
      "Epoch 56/100\n",
      "\u001b[1m28/28\u001b[0m \u001b[32m━━━━━━━━━━━━━━━━━━━━\u001b[0m\u001b[37m\u001b[0m \u001b[1m0s\u001b[0m 4ms/step - accuracy: 0.7382 - loss: 0.5108 - val_accuracy: 0.7568 - val_loss: 0.8191\n",
      "Epoch 57/100\n",
      "\u001b[1m28/28\u001b[0m \u001b[32m━━━━━━━━━━━━━━━━━━━━\u001b[0m\u001b[37m\u001b[0m \u001b[1m0s\u001b[0m 4ms/step - accuracy: 0.8012 - loss: 0.4423 - val_accuracy: 0.7117 - val_loss: 0.8656\n",
      "Epoch 58/100\n",
      "\u001b[1m28/28\u001b[0m \u001b[32m━━━━━━━━━━━━━━━━━━━━\u001b[0m\u001b[37m\u001b[0m \u001b[1m0s\u001b[0m 4ms/step - accuracy: 0.7228 - loss: 0.4871 - val_accuracy: 0.6982 - val_loss: 0.7977\n",
      "Epoch 59/100\n",
      "\u001b[1m28/28\u001b[0m \u001b[32m━━━━━━━━━━━━━━━━━━━━\u001b[0m\u001b[37m\u001b[0m \u001b[1m0s\u001b[0m 4ms/step - accuracy: 0.7534 - loss: 0.4662 - val_accuracy: 0.7523 - val_loss: 0.7480\n",
      "Epoch 60/100\n",
      "\u001b[1m28/28\u001b[0m \u001b[32m━━━━━━━━━━━━━━━━━━━━\u001b[0m\u001b[37m\u001b[0m \u001b[1m0s\u001b[0m 4ms/step - accuracy: 0.7314 - loss: 0.4474 - val_accuracy: 0.5991 - val_loss: 1.1264\n",
      "Epoch 61/100\n",
      "\u001b[1m28/28\u001b[0m \u001b[32m━━━━━━━━━━━━━━━━━━━━\u001b[0m\u001b[37m\u001b[0m \u001b[1m0s\u001b[0m 4ms/step - accuracy: 0.7819 - loss: 0.4801 - val_accuracy: 0.6892 - val_loss: 0.7077\n",
      "Epoch 62/100\n",
      "\u001b[1m28/28\u001b[0m \u001b[32m━━━━━━━━━━━━━━━━━━━━\u001b[0m\u001b[37m\u001b[0m \u001b[1m0s\u001b[0m 4ms/step - accuracy: 0.6420 - loss: 0.5651 - val_accuracy: 0.6306 - val_loss: 0.9261\n",
      "Epoch 63/100\n",
      "\u001b[1m28/28\u001b[0m \u001b[32m━━━━━━━━━━━━━━━━━━━━\u001b[0m\u001b[37m\u001b[0m \u001b[1m0s\u001b[0m 4ms/step - accuracy: 0.6718 - loss: 0.5193 - val_accuracy: 0.6532 - val_loss: 0.8026\n",
      "Epoch 64/100\n",
      "\u001b[1m28/28\u001b[0m \u001b[32m━━━━━━━━━━━━━━━━━━━━\u001b[0m\u001b[37m\u001b[0m \u001b[1m0s\u001b[0m 4ms/step - accuracy: 0.7373 - loss: 0.4667 - val_accuracy: 0.6712 - val_loss: 0.7614\n",
      "Epoch 65/100\n",
      "\u001b[1m28/28\u001b[0m \u001b[32m━━━━━━━━━━━━━━━━━━━━\u001b[0m\u001b[37m\u001b[0m \u001b[1m0s\u001b[0m 4ms/step - accuracy: 0.7018 - loss: 0.4865 - val_accuracy: 0.7477 - val_loss: 0.7410\n",
      "Epoch 66/100\n",
      "\u001b[1m28/28\u001b[0m \u001b[32m━━━━━━━━━━━━━━━━━━━━\u001b[0m\u001b[37m\u001b[0m \u001b[1m0s\u001b[0m 4ms/step - accuracy: 0.7385 - loss: 0.4564 - val_accuracy: 0.7523 - val_loss: 0.7348\n",
      "Epoch 67/100\n",
      "\u001b[1m28/28\u001b[0m \u001b[32m━━━━━━━━━━━━━━━━━━━━\u001b[0m\u001b[37m\u001b[0m \u001b[1m0s\u001b[0m 4ms/step - accuracy: 0.7847 - loss: 0.4818 - val_accuracy: 0.6622 - val_loss: 0.7674\n",
      "Epoch 68/100\n",
      "\u001b[1m28/28\u001b[0m \u001b[32m━━━━━━━━━━━━━━━━━━━━\u001b[0m\u001b[37m\u001b[0m \u001b[1m0s\u001b[0m 5ms/step - accuracy: 0.7049 - loss: 0.5058 - val_accuracy: 0.6622 - val_loss: 0.8383\n",
      "Epoch 69/100\n",
      "\u001b[1m28/28\u001b[0m \u001b[32m━━━━━━━━━━━━━━━━━━━━\u001b[0m\u001b[37m\u001b[0m \u001b[1m0s\u001b[0m 4ms/step - accuracy: 0.7338 - loss: 0.4873 - val_accuracy: 0.6486 - val_loss: 0.8098\n",
      "Epoch 70/100\n",
      "\u001b[1m28/28\u001b[0m \u001b[32m━━━━━━━━━━━━━━━━━━━━\u001b[0m\u001b[37m\u001b[0m \u001b[1m0s\u001b[0m 4ms/step - accuracy: 0.7520 - loss: 0.4542 - val_accuracy: 0.7297 - val_loss: 0.7394\n",
      "Epoch 71/100\n",
      "\u001b[1m28/28\u001b[0m \u001b[32m━━━━━━━━━━━━━━━━━━━━\u001b[0m\u001b[37m\u001b[0m \u001b[1m0s\u001b[0m 4ms/step - accuracy: 0.7433 - loss: 0.4474 - val_accuracy: 0.6847 - val_loss: 0.7973\n",
      "Epoch 72/100\n",
      "\u001b[1m28/28\u001b[0m \u001b[32m━━━━━━━━━━━━━━━━━━━━\u001b[0m\u001b[37m\u001b[0m \u001b[1m0s\u001b[0m 4ms/step - accuracy: 0.7287 - loss: 0.4916 - val_accuracy: 0.7342 - val_loss: 0.7715\n",
      "Epoch 73/100\n",
      "\u001b[1m28/28\u001b[0m \u001b[32m━━━━━━━━━━━━━━━━━━━━\u001b[0m\u001b[37m\u001b[0m \u001b[1m0s\u001b[0m 4ms/step - accuracy: 0.7721 - loss: 0.4453 - val_accuracy: 0.7387 - val_loss: 0.7715\n",
      "Epoch 74/100\n",
      "\u001b[1m28/28\u001b[0m \u001b[32m━━━━━━━━━━━━━━━━━━━━\u001b[0m\u001b[37m\u001b[0m \u001b[1m0s\u001b[0m 4ms/step - accuracy: 0.7857 - loss: 0.4374 - val_accuracy: 0.7703 - val_loss: 0.7359\n",
      "Epoch 75/100\n",
      "\u001b[1m28/28\u001b[0m \u001b[32m━━━━━━━━━━━━━━━━━━━━\u001b[0m\u001b[37m\u001b[0m \u001b[1m0s\u001b[0m 4ms/step - accuracy: 0.7778 - loss: 0.4320 - val_accuracy: 0.6532 - val_loss: 0.7900\n",
      "Epoch 76/100\n",
      "\u001b[1m28/28\u001b[0m \u001b[32m━━━━━━━━━━━━━━━━━━━━\u001b[0m\u001b[37m\u001b[0m \u001b[1m0s\u001b[0m 4ms/step - accuracy: 0.7263 - loss: 0.5094 - val_accuracy: 0.7207 - val_loss: 0.7466\n",
      "Epoch 77/100\n",
      "\u001b[1m28/28\u001b[0m \u001b[32m━━━━━━━━━━━━━━━━━━━━\u001b[0m\u001b[37m\u001b[0m \u001b[1m0s\u001b[0m 4ms/step - accuracy: 0.7533 - loss: 0.4383 - val_accuracy: 0.7793 - val_loss: 0.7399\n",
      "Epoch 78/100\n",
      "\u001b[1m28/28\u001b[0m \u001b[32m━━━━━━━━━━━━━━━━━━━━\u001b[0m\u001b[37m\u001b[0m \u001b[1m0s\u001b[0m 4ms/step - accuracy: 0.6748 - loss: 0.5720 - val_accuracy: 0.6396 - val_loss: 0.8123\n",
      "Epoch 79/100\n",
      "\u001b[1m28/28\u001b[0m \u001b[32m━━━━━━━━━━━━━━━━━━━━\u001b[0m\u001b[37m\u001b[0m \u001b[1m0s\u001b[0m 4ms/step - accuracy: 0.6969 - loss: 0.5145 - val_accuracy: 0.6802 - val_loss: 0.9364\n",
      "Epoch 80/100\n",
      "\u001b[1m28/28\u001b[0m \u001b[32m━━━━━━━━━━━━━━━━━━━━\u001b[0m\u001b[37m\u001b[0m \u001b[1m0s\u001b[0m 4ms/step - accuracy: 0.6530 - loss: 1.1232 - val_accuracy: 0.6532 - val_loss: 1.1623\n",
      "Epoch 81/100\n",
      "\u001b[1m28/28\u001b[0m \u001b[32m━━━━━━━━━━━━━━━━━━━━\u001b[0m\u001b[37m\u001b[0m \u001b[1m0s\u001b[0m 4ms/step - accuracy: 0.6279 - loss: 1.0683 - val_accuracy: 0.6712 - val_loss: 0.8488\n",
      "Epoch 82/100\n",
      "\u001b[1m28/28\u001b[0m \u001b[32m━━━━━━━━━━━━━━━━━━━━\u001b[0m\u001b[37m\u001b[0m \u001b[1m0s\u001b[0m 4ms/step - accuracy: 0.5911 - loss: 0.6316 - val_accuracy: 0.6261 - val_loss: 0.7613\n",
      "Epoch 83/100\n",
      "\u001b[1m28/28\u001b[0m \u001b[32m━━━━━━━━━━━━━━━━━━━━\u001b[0m\u001b[37m\u001b[0m \u001b[1m0s\u001b[0m 4ms/step - accuracy: 0.6797 - loss: 0.5300 - val_accuracy: 0.7162 - val_loss: 0.6950\n",
      "Epoch 84/100\n",
      "\u001b[1m28/28\u001b[0m \u001b[32m━━━━━━━━━━━━━━━━━━━━\u001b[0m\u001b[37m\u001b[0m \u001b[1m0s\u001b[0m 4ms/step - accuracy: 0.7229 - loss: 0.5553 - val_accuracy: 0.6261 - val_loss: 0.7331\n",
      "Epoch 85/100\n",
      "\u001b[1m28/28\u001b[0m \u001b[32m━━━━━━━━━━━━━━━━━━━━\u001b[0m\u001b[37m\u001b[0m \u001b[1m0s\u001b[0m 4ms/step - accuracy: 0.6485 - loss: 0.5542 - val_accuracy: 0.6577 - val_loss: 0.7961\n",
      "Epoch 86/100\n",
      "\u001b[1m28/28\u001b[0m \u001b[32m━━━━━━━━━━━━━━━━━━━━\u001b[0m\u001b[37m\u001b[0m \u001b[1m0s\u001b[0m 4ms/step - accuracy: 0.7206 - loss: 0.4744 - val_accuracy: 0.7072 - val_loss: 0.6802\n",
      "Epoch 87/100\n",
      "\u001b[1m28/28\u001b[0m \u001b[32m━━━━━━━━━━━━━━━━━━━━\u001b[0m\u001b[37m\u001b[0m \u001b[1m0s\u001b[0m 4ms/step - accuracy: 0.7263 - loss: 0.4829 - val_accuracy: 0.6802 - val_loss: 0.8123\n",
      "Epoch 88/100\n",
      "\u001b[1m28/28\u001b[0m \u001b[32m━━━━━━━━━━━━━━━━━━━━\u001b[0m\u001b[37m\u001b[0m \u001b[1m0s\u001b[0m 4ms/step - accuracy: 0.7575 - loss: 0.4601 - val_accuracy: 0.6892 - val_loss: 0.6554\n",
      "Epoch 89/100\n",
      "\u001b[1m28/28\u001b[0m \u001b[32m━━━━━━━━━━━━━━━━━━━━\u001b[0m\u001b[37m\u001b[0m \u001b[1m0s\u001b[0m 4ms/step - accuracy: 0.7344 - loss: 0.4919 - val_accuracy: 0.7027 - val_loss: 0.6825\n",
      "Epoch 90/100\n",
      "\u001b[1m28/28\u001b[0m \u001b[32m━━━━━━━━━━━━━━━━━━━━\u001b[0m\u001b[37m\u001b[0m \u001b[1m0s\u001b[0m 4ms/step - accuracy: 0.7038 - loss: 0.5123 - val_accuracy: 0.7342 - val_loss: 0.6444\n",
      "Epoch 91/100\n",
      "\u001b[1m28/28\u001b[0m \u001b[32m━━━━━━━━━━━━━━━━━━━━\u001b[0m\u001b[37m\u001b[0m \u001b[1m0s\u001b[0m 4ms/step - accuracy: 0.7616 - loss: 0.4922 - val_accuracy: 0.6937 - val_loss: 0.7265\n",
      "Epoch 92/100\n",
      "\u001b[1m28/28\u001b[0m \u001b[32m━━━━━━━━━━━━━━━━━━━━\u001b[0m\u001b[37m\u001b[0m \u001b[1m0s\u001b[0m 4ms/step - accuracy: 0.7523 - loss: 0.4847 - val_accuracy: 0.6622 - val_loss: 0.7398\n",
      "Epoch 93/100\n",
      "\u001b[1m28/28\u001b[0m \u001b[32m━━━━━━━━━━━━━━━━━━━━\u001b[0m\u001b[37m\u001b[0m \u001b[1m0s\u001b[0m 4ms/step - accuracy: 0.7367 - loss: 0.4668 - val_accuracy: 0.6577 - val_loss: 0.7180\n",
      "Epoch 94/100\n",
      "\u001b[1m28/28\u001b[0m \u001b[32m━━━━━━━━━━━━━━━━━━━━\u001b[0m\u001b[37m\u001b[0m \u001b[1m0s\u001b[0m 4ms/step - accuracy: 0.6825 - loss: 0.5215 - val_accuracy: 0.6306 - val_loss: 0.7682\n",
      "Epoch 95/100\n",
      "\u001b[1m28/28\u001b[0m \u001b[32m━━━━━━━━━━━━━━━━━━━━\u001b[0m\u001b[37m\u001b[0m \u001b[1m0s\u001b[0m 4ms/step - accuracy: 0.6441 - loss: 0.5614 - val_accuracy: 0.6622 - val_loss: 0.7582\n",
      "Epoch 96/100\n",
      "\u001b[1m28/28\u001b[0m \u001b[32m━━━━━━━━━━━━━━━━━━━━\u001b[0m\u001b[37m\u001b[0m \u001b[1m0s\u001b[0m 4ms/step - accuracy: 0.6798 - loss: 0.5231 - val_accuracy: 0.7072 - val_loss: 0.7285\n",
      "Epoch 97/100\n",
      "\u001b[1m28/28\u001b[0m \u001b[32m━━━━━━━━━━━━━━━━━━━━\u001b[0m\u001b[37m\u001b[0m \u001b[1m0s\u001b[0m 4ms/step - accuracy: 0.7253 - loss: 0.5056 - val_accuracy: 0.6982 - val_loss: 0.7308\n",
      "Epoch 98/100\n",
      "\u001b[1m28/28\u001b[0m \u001b[32m━━━━━━━━━━━━━━━━━━━━\u001b[0m\u001b[37m\u001b[0m \u001b[1m0s\u001b[0m 4ms/step - accuracy: 0.7696 - loss: 0.4846 - val_accuracy: 0.6396 - val_loss: 1.3027\n",
      "Epoch 99/100\n",
      "\u001b[1m28/28\u001b[0m \u001b[32m━━━━━━━━━━━━━━━━━━━━\u001b[0m\u001b[37m\u001b[0m \u001b[1m0s\u001b[0m 4ms/step - accuracy: 0.6521 - loss: 0.5954 - val_accuracy: 0.6396 - val_loss: 0.7814\n",
      "Epoch 100/100\n",
      "\u001b[1m28/28\u001b[0m \u001b[32m━━━━━━━━━━━━━━━━━━━━\u001b[0m\u001b[37m\u001b[0m \u001b[1m0s\u001b[0m 4ms/step - accuracy: 0.6537 - loss: 0.5618 - val_accuracy: 0.6982 - val_loss: 0.7472\n"
     ]
    },
    {
     "data": {
      "text/plain": [
       "<keras.src.callbacks.history.History at 0x7f6bbbf3d070>"
      ]
     },
     "execution_count": 23,
     "metadata": {},
     "output_type": "execute_result"
    }
   ],
   "source": [
    "model.fit(X_train, y_train, batch_size=16, epochs=100, validation_data=(X_test, y_test))"
   ]
  },
  {
   "cell_type": "markdown",
   "metadata": {},
   "source": [
    "### CNN1D"
   ]
  },
  {
   "cell_type": "code",
   "execution_count": 24,
   "metadata": {},
   "outputs": [
    {
     "data": {
      "text/plain": [
       "((448, 16, 2560), (222, 16, 2560), (448,), (222,))"
      ]
     },
     "execution_count": 24,
     "metadata": {},
     "output_type": "execute_result"
    }
   ],
   "source": [
    "X_train, X_test, y_train, y_test = train_test_split(X_arr, y_arr, test_size=0.33, stratify=y)\n",
    "X_train.shape, X_test.shape, y_train.shape, y_test.shape"
   ]
  },
  {
   "cell_type": "code",
   "execution_count": 25,
   "metadata": {},
   "outputs": [],
   "source": [
    "X_train = np.moveaxis(X_train, 1, 2)\n",
    "X_test = np.moveaxis(X_test, 1, 2)"
   ]
  },
  {
   "cell_type": "code",
   "execution_count": 26,
   "metadata": {},
   "outputs": [
    {
     "data": {
      "text/plain": [
       "(array([0, 1]), array([277, 393]))"
      ]
     },
     "execution_count": 26,
     "metadata": {},
     "output_type": "execute_result"
    }
   ],
   "source": [
    "np.unique(y, return_counts=True)"
   ]
  },
  {
   "cell_type": "code",
   "execution_count": 27,
   "metadata": {},
   "outputs": [
    {
     "data": {
      "text/html": [
       "<pre style=\"white-space:pre;overflow-x:auto;line-height:normal;font-family:Menlo,'DejaVu Sans Mono',consolas,'Courier New',monospace\"><span style=\"font-weight: bold\">Model: \"functional_1\"</span>\n",
       "</pre>\n"
      ],
      "text/plain": [
       "\u001b[1mModel: \"functional_1\"\u001b[0m\n"
      ]
     },
     "metadata": {},
     "output_type": "display_data"
    },
    {
     "data": {
      "text/html": [
       "<pre style=\"white-space:pre;overflow-x:auto;line-height:normal;font-family:Menlo,'DejaVu Sans Mono',consolas,'Courier New',monospace\">┏━━━━━━━━━━━━━━━━━━━━━━━━━━━━━━━━━┳━━━━━━━━━━━━━━━━━━━━━━━━┳━━━━━━━━━━━━━━━┓\n",
       "┃<span style=\"font-weight: bold\"> Layer (type)                    </span>┃<span style=\"font-weight: bold\"> Output Shape           </span>┃<span style=\"font-weight: bold\">       Param # </span>┃\n",
       "┡━━━━━━━━━━━━━━━━━━━━━━━━━━━━━━━━━╇━━━━━━━━━━━━━━━━━━━━━━━━╇━━━━━━━━━━━━━━━┩\n",
       "│ input_layer_1 (<span style=\"color: #0087ff; text-decoration-color: #0087ff\">InputLayer</span>)      │ (<span style=\"color: #00d7ff; text-decoration-color: #00d7ff\">None</span>, <span style=\"color: #00af00; text-decoration-color: #00af00\">2560</span>, <span style=\"color: #00af00; text-decoration-color: #00af00\">16</span>)       │             <span style=\"color: #00af00; text-decoration-color: #00af00\">0</span> │\n",
       "├─────────────────────────────────┼────────────────────────┼───────────────┤\n",
       "│ conv1d (<span style=\"color: #0087ff; text-decoration-color: #0087ff\">Conv1D</span>)                 │ (<span style=\"color: #00d7ff; text-decoration-color: #00d7ff\">None</span>, <span style=\"color: #00af00; text-decoration-color: #00af00\">1278</span>, <span style=\"color: #00af00; text-decoration-color: #00af00\">32</span>)       │         <span style=\"color: #00af00; text-decoration-color: #00af00\">3,072</span> │\n",
       "├─────────────────────────────────┼────────────────────────┼───────────────┤\n",
       "│ global_average_pooling1d        │ (<span style=\"color: #00d7ff; text-decoration-color: #00d7ff\">None</span>, <span style=\"color: #00af00; text-decoration-color: #00af00\">32</span>)             │             <span style=\"color: #00af00; text-decoration-color: #00af00\">0</span> │\n",
       "│ (<span style=\"color: #0087ff; text-decoration-color: #0087ff\">GlobalAveragePooling1D</span>)        │                        │               │\n",
       "├─────────────────────────────────┼────────────────────────┼───────────────┤\n",
       "│ dense_3 (<span style=\"color: #0087ff; text-decoration-color: #0087ff\">Dense</span>)                 │ (<span style=\"color: #00d7ff; text-decoration-color: #00d7ff\">None</span>, <span style=\"color: #00af00; text-decoration-color: #00af00\">1024</span>)           │        <span style=\"color: #00af00; text-decoration-color: #00af00\">33,792</span> │\n",
       "├─────────────────────────────────┼────────────────────────┼───────────────┤\n",
       "│ dense_4 (<span style=\"color: #0087ff; text-decoration-color: #0087ff\">Dense</span>)                 │ (<span style=\"color: #00d7ff; text-decoration-color: #00d7ff\">None</span>, <span style=\"color: #00af00; text-decoration-color: #00af00\">1</span>)              │         <span style=\"color: #00af00; text-decoration-color: #00af00\">1,025</span> │\n",
       "└─────────────────────────────────┴────────────────────────┴───────────────┘\n",
       "</pre>\n"
      ],
      "text/plain": [
       "┏━━━━━━━━━━━━━━━━━━━━━━━━━━━━━━━━━┳━━━━━━━━━━━━━━━━━━━━━━━━┳━━━━━━━━━━━━━━━┓\n",
       "┃\u001b[1m \u001b[0m\u001b[1mLayer (type)                   \u001b[0m\u001b[1m \u001b[0m┃\u001b[1m \u001b[0m\u001b[1mOutput Shape          \u001b[0m\u001b[1m \u001b[0m┃\u001b[1m \u001b[0m\u001b[1m      Param #\u001b[0m\u001b[1m \u001b[0m┃\n",
       "┡━━━━━━━━━━━━━━━━━━━━━━━━━━━━━━━━━╇━━━━━━━━━━━━━━━━━━━━━━━━╇━━━━━━━━━━━━━━━┩\n",
       "│ input_layer_1 (\u001b[38;5;33mInputLayer\u001b[0m)      │ (\u001b[38;5;45mNone\u001b[0m, \u001b[38;5;34m2560\u001b[0m, \u001b[38;5;34m16\u001b[0m)       │             \u001b[38;5;34m0\u001b[0m │\n",
       "├─────────────────────────────────┼────────────────────────┼───────────────┤\n",
       "│ conv1d (\u001b[38;5;33mConv1D\u001b[0m)                 │ (\u001b[38;5;45mNone\u001b[0m, \u001b[38;5;34m1278\u001b[0m, \u001b[38;5;34m32\u001b[0m)       │         \u001b[38;5;34m3,072\u001b[0m │\n",
       "├─────────────────────────────────┼────────────────────────┼───────────────┤\n",
       "│ global_average_pooling1d        │ (\u001b[38;5;45mNone\u001b[0m, \u001b[38;5;34m32\u001b[0m)             │             \u001b[38;5;34m0\u001b[0m │\n",
       "│ (\u001b[38;5;33mGlobalAveragePooling1D\u001b[0m)        │                        │               │\n",
       "├─────────────────────────────────┼────────────────────────┼───────────────┤\n",
       "│ dense_3 (\u001b[38;5;33mDense\u001b[0m)                 │ (\u001b[38;5;45mNone\u001b[0m, \u001b[38;5;34m1024\u001b[0m)           │        \u001b[38;5;34m33,792\u001b[0m │\n",
       "├─────────────────────────────────┼────────────────────────┼───────────────┤\n",
       "│ dense_4 (\u001b[38;5;33mDense\u001b[0m)                 │ (\u001b[38;5;45mNone\u001b[0m, \u001b[38;5;34m1\u001b[0m)              │         \u001b[38;5;34m1,025\u001b[0m │\n",
       "└─────────────────────────────────┴────────────────────────┴───────────────┘\n"
      ]
     },
     "metadata": {},
     "output_type": "display_data"
    },
    {
     "data": {
      "text/html": [
       "<pre style=\"white-space:pre;overflow-x:auto;line-height:normal;font-family:Menlo,'DejaVu Sans Mono',consolas,'Courier New',monospace\"><span style=\"font-weight: bold\"> Total params: </span><span style=\"color: #00af00; text-decoration-color: #00af00\">37,889</span> (148.00 KB)\n",
       "</pre>\n"
      ],
      "text/plain": [
       "\u001b[1m Total params: \u001b[0m\u001b[38;5;34m37,889\u001b[0m (148.00 KB)\n"
      ]
     },
     "metadata": {},
     "output_type": "display_data"
    },
    {
     "data": {
      "text/html": [
       "<pre style=\"white-space:pre;overflow-x:auto;line-height:normal;font-family:Menlo,'DejaVu Sans Mono',consolas,'Courier New',monospace\"><span style=\"font-weight: bold\"> Trainable params: </span><span style=\"color: #00af00; text-decoration-color: #00af00\">37,889</span> (148.00 KB)\n",
       "</pre>\n"
      ],
      "text/plain": [
       "\u001b[1m Trainable params: \u001b[0m\u001b[38;5;34m37,889\u001b[0m (148.00 KB)\n"
      ]
     },
     "metadata": {},
     "output_type": "display_data"
    },
    {
     "data": {
      "text/html": [
       "<pre style=\"white-space:pre;overflow-x:auto;line-height:normal;font-family:Menlo,'DejaVu Sans Mono',consolas,'Courier New',monospace\"><span style=\"font-weight: bold\"> Non-trainable params: </span><span style=\"color: #00af00; text-decoration-color: #00af00\">0</span> (0.00 B)\n",
       "</pre>\n"
      ],
      "text/plain": [
       "\u001b[1m Non-trainable params: \u001b[0m\u001b[38;5;34m0\u001b[0m (0.00 B)\n"
      ]
     },
     "metadata": {},
     "output_type": "display_data"
    }
   ],
   "source": [
    "inputs = tf.keras.layers.Input(shape=(X_train.shape[1], X_train.shape[2],))\n",
    "# x = tf.keras.layers.Conv1D(32, kernel_size=8, strides=2, activation=\"relu\", use_bias=False)(inputs)\n",
    "x = tf.keras.layers.Conv1D(32, kernel_size=6, strides=2, activation=\"relu\", use_bias=False)(inputs)\n",
    "\n",
    "x = tf.keras.layers.GlobalAveragePooling1D()(x)\n",
    "x = tf.keras.layers.Dense(1024, activation=\"relu\")(x)\n",
    "outputs = tf.keras.layers.Dense(1, activation=\"sigmoid\")(x)\n",
    "\n",
    "model = tf.keras.Model(inputs=inputs, outputs=outputs)\n",
    "model.summary()"
   ]
  },
  {
   "cell_type": "code",
   "execution_count": 28,
   "metadata": {},
   "outputs": [],
   "source": [
    "model.compile(\n",
    "    optimizer=tf.keras.optimizers.Adam(learning_rate=1e-3),\n",
    "    # loss=tf.keras.losses.BinaryFocalCrossentropy(),\n",
    "    loss=tf.keras.losses.BinaryCrossentropy(),\n",
    "    metrics=[\n",
    "      tf.keras.metrics.TruePositives(name='tp'),\n",
    "      tf.keras.metrics.FalsePositives(name='fp'),\n",
    "      tf.keras.metrics.TrueNegatives(name='tn'),\n",
    "      tf.keras.metrics.FalseNegatives(name='fn'),\n",
    "      tf.keras.metrics.BinaryAccuracy(name='accuracy'),\n",
    "    #   tf.keras.metrics.Precision(name='precision'),\n",
    "    #   tf.keras.metrics.Recall(name='recall'),\n",
    "    #   tf.keras.metrics.AUC(name='auc'),\n",
    "    #   tf.keras.metrics.AUC(name='prc', curve='PR'), # precision-recall curve\n",
    "])"
   ]
  },
  {
   "cell_type": "code",
   "execution_count": 29,
   "metadata": {},
   "outputs": [
    {
     "name": "stdout",
     "output_type": "stream",
     "text": [
      "Epoch 1/100\n",
      "\u001b[1m28/28\u001b[0m \u001b[32m━━━━━━━━━━━━━━━━━━━━\u001b[0m\u001b[37m\u001b[0m \u001b[1m6s\u001b[0m 66ms/step - accuracy: 0.5051 - fn: 52.5517 - fp: 60.6552 - loss: 1.6855 - tn: 41.3793 - tp: 84.8621 - val_accuracy: 0.4820 - val_fn: 110.0000 - val_fp: 5.0000 - val_loss: 0.8170 - val_tn: 87.0000 - val_tp: 20.0000\n",
      "Epoch 2/100\n",
      "\u001b[1m28/28\u001b[0m \u001b[32m━━━━━━━━━━━━━━━━━━━━\u001b[0m\u001b[37m\u001b[0m \u001b[1m0s\u001b[0m 6ms/step - accuracy: 0.6067 - fn: 33.9310 - fp: 54.4138 - loss: 0.6259 - tn: 48.8276 - tp: 102.2759 - val_accuracy: 0.6802 - val_fn: 1.0000 - val_fp: 70.0000 - val_loss: 0.5937 - val_tn: 22.0000 - val_tp: 129.0000\n",
      "Epoch 3/100\n",
      "\u001b[1m28/28\u001b[0m \u001b[32m━━━━━━━━━━━━━━━━━━━━\u001b[0m\u001b[37m\u001b[0m \u001b[1m0s\u001b[0m 6ms/step - accuracy: 0.7045 - fn: 21.4483 - fp: 46.8966 - loss: 0.5492 - tn: 57.5862 - tp: 113.5172 - val_accuracy: 0.6892 - val_fn: 0.0000e+00 - val_fp: 69.0000 - val_loss: 0.5430 - val_tn: 23.0000 - val_tp: 130.0000\n",
      "Epoch 4/100\n",
      "\u001b[1m28/28\u001b[0m \u001b[32m━━━━━━━━━━━━━━━━━━━━\u001b[0m\u001b[37m\u001b[0m \u001b[1m0s\u001b[0m 6ms/step - accuracy: 0.7092 - fn: 13.2759 - fp: 53.5517 - loss: 0.4971 - tn: 46.2414 - tp: 126.3793 - val_accuracy: 0.6802 - val_fn: 2.0000 - val_fp: 69.0000 - val_loss: 0.5696 - val_tn: 23.0000 - val_tp: 128.0000\n",
      "Epoch 5/100\n",
      "\u001b[1m28/28\u001b[0m \u001b[32m━━━━━━━━━━━━━━━━━━━━\u001b[0m\u001b[37m\u001b[0m \u001b[1m0s\u001b[0m 6ms/step - accuracy: 0.8265 - fn: 9.9655 - fp: 31.9310 - loss: 0.3764 - tn: 64.7586 - tp: 132.7931 - val_accuracy: 0.7658 - val_fn: 35.0000 - val_fp: 17.0000 - val_loss: 0.5145 - val_tn: 75.0000 - val_tp: 95.0000\n",
      "Epoch 6/100\n",
      "\u001b[1m28/28\u001b[0m \u001b[32m━━━━━━━━━━━━━━━━━━━━\u001b[0m\u001b[37m\u001b[0m \u001b[1m0s\u001b[0m 6ms/step - accuracy: 0.8577 - fn: 13.5172 - fp: 25.3793 - loss: 0.3580 - tn: 75.5862 - tp: 124.9655 - val_accuracy: 0.8243 - val_fn: 16.0000 - val_fp: 23.0000 - val_loss: 0.5167 - val_tn: 69.0000 - val_tp: 114.0000\n",
      "Epoch 7/100\n",
      "\u001b[1m28/28\u001b[0m \u001b[32m━━━━━━━━━━━━━━━━━━━━\u001b[0m\u001b[37m\u001b[0m \u001b[1m0s\u001b[0m 8ms/step - accuracy: 0.8119 - fn: 21.4828 - fp: 29.1379 - loss: 0.5207 - tn: 69.2759 - tp: 119.5517 - val_accuracy: 0.7297 - val_fn: 56.0000 - val_fp: 4.0000 - val_loss: 0.6300 - val_tn: 88.0000 - val_tp: 74.0000\n",
      "Epoch 8/100\n",
      "\u001b[1m28/28\u001b[0m \u001b[32m━━━━━━━━━━━━━━━━━━━━\u001b[0m\u001b[37m\u001b[0m \u001b[1m0s\u001b[0m 7ms/step - accuracy: 0.7543 - fn: 25.0000 - fp: 32.2759 - loss: 0.4639 - tn: 61.5172 - tp: 120.6552 - val_accuracy: 0.8468 - val_fn: 7.0000 - val_fp: 27.0000 - val_loss: 0.4593 - val_tn: 65.0000 - val_tp: 123.0000\n",
      "Epoch 9/100\n",
      "\u001b[1m28/28\u001b[0m \u001b[32m━━━━━━━━━━━━━━━━━━━━\u001b[0m\u001b[37m\u001b[0m \u001b[1m0s\u001b[0m 7ms/step - accuracy: 0.8767 - fn: 10.5517 - fp: 19.8276 - loss: 0.3213 - tn: 83.2759 - tp: 125.7931 - val_accuracy: 0.7207 - val_fn: 3.0000 - val_fp: 59.0000 - val_loss: 0.5916 - val_tn: 33.0000 - val_tp: 127.0000\n",
      "Epoch 10/100\n",
      "\u001b[1m28/28\u001b[0m \u001b[32m━━━━━━━━━━━━━━━━━━━━\u001b[0m\u001b[37m\u001b[0m \u001b[1m0s\u001b[0m 8ms/step - accuracy: 0.8132 - fn: 11.7931 - fp: 28.0345 - loss: 0.3732 - tn: 74.1034 - tp: 125.5172 - val_accuracy: 0.8198 - val_fn: 5.0000 - val_fp: 35.0000 - val_loss: 0.5755 - val_tn: 57.0000 - val_tp: 125.0000\n",
      "Epoch 11/100\n",
      "\u001b[1m28/28\u001b[0m \u001b[32m━━━━━━━━━━━━━━━━━━━━\u001b[0m\u001b[37m\u001b[0m \u001b[1m0s\u001b[0m 8ms/step - accuracy: 0.9032 - fn: 10.2414 - fp: 13.8966 - loss: 0.2635 - tn: 86.4483 - tp: 128.8621 - val_accuracy: 0.8333 - val_fn: 6.0000 - val_fp: 31.0000 - val_loss: 0.5426 - val_tn: 61.0000 - val_tp: 124.0000\n",
      "Epoch 12/100\n",
      "\u001b[1m28/28\u001b[0m \u001b[32m━━━━━━━━━━━━━━━━━━━━\u001b[0m\u001b[37m\u001b[0m \u001b[1m0s\u001b[0m 8ms/step - accuracy: 0.8854 - fn: 6.9310 - fp: 20.5862 - loss: 0.2868 - tn: 79.5172 - tp: 132.4138 - val_accuracy: 0.8243 - val_fn: 8.0000 - val_fp: 31.0000 - val_loss: 0.7285 - val_tn: 61.0000 - val_tp: 122.0000\n",
      "Epoch 13/100\n",
      "\u001b[1m28/28\u001b[0m \u001b[32m━━━━━━━━━━━━━━━━━━━━\u001b[0m\u001b[37m\u001b[0m \u001b[1m0s\u001b[0m 8ms/step - accuracy: 0.8983 - fn: 10.8966 - fp: 13.3103 - loss: 0.2405 - tn: 82.2414 - tp: 133.0000 - val_accuracy: 0.8243 - val_fn: 5.0000 - val_fp: 34.0000 - val_loss: 0.6585 - val_tn: 58.0000 - val_tp: 125.0000\n",
      "Epoch 14/100\n",
      "\u001b[1m28/28\u001b[0m \u001b[32m━━━━━━━━━━━━━━━━━━━━\u001b[0m\u001b[37m\u001b[0m \u001b[1m0s\u001b[0m 8ms/step - accuracy: 0.9239 - fn: 7.2414 - fp: 11.1379 - loss: 0.2150 - tn: 85.4828 - tp: 135.5862 - val_accuracy: 0.8468 - val_fn: 21.0000 - val_fp: 13.0000 - val_loss: 0.6187 - val_tn: 79.0000 - val_tp: 109.0000\n",
      "Epoch 15/100\n",
      "\u001b[1m28/28\u001b[0m \u001b[32m━━━━━━━━━━━━━━━━━━━━\u001b[0m\u001b[37m\u001b[0m \u001b[1m0s\u001b[0m 9ms/step - accuracy: 0.8956 - fn: 11.2414 - fp: 15.1034 - loss: 0.2728 - tn: 87.3103 - tp: 125.7931 - val_accuracy: 0.8423 - val_fn: 19.0000 - val_fp: 16.0000 - val_loss: 0.5876 - val_tn: 76.0000 - val_tp: 111.0000\n",
      "Epoch 16/100\n",
      "\u001b[1m28/28\u001b[0m \u001b[32m━━━━━━━━━━━━━━━━━━━━\u001b[0m\u001b[37m\u001b[0m \u001b[1m0s\u001b[0m 9ms/step - accuracy: 0.8980 - fn: 9.8966 - fp: 12.2414 - loss: 0.2437 - tn: 86.9310 - tp: 130.3793 - val_accuracy: 0.8378 - val_fn: 24.0000 - val_fp: 12.0000 - val_loss: 0.6223 - val_tn: 80.0000 - val_tp: 106.0000\n",
      "Epoch 17/100\n",
      "\u001b[1m28/28\u001b[0m \u001b[32m━━━━━━━━━━━━━━━━━━━━\u001b[0m\u001b[37m\u001b[0m \u001b[1m0s\u001b[0m 8ms/step - accuracy: 0.8378 - fn: 19.7586 - fp: 25.0345 - loss: 0.3746 - tn: 70.0000 - tp: 124.6552 - val_accuracy: 0.8604 - val_fn: 14.0000 - val_fp: 17.0000 - val_loss: 0.5260 - val_tn: 75.0000 - val_tp: 116.0000\n",
      "Epoch 18/100\n",
      "\u001b[1m28/28\u001b[0m \u001b[32m━━━━━━━━━━━━━━━━━━━━\u001b[0m\u001b[37m\u001b[0m \u001b[1m0s\u001b[0m 8ms/step - accuracy: 0.8320 - fn: 24.7931 - fp: 20.0345 - loss: 0.3799 - tn: 75.2414 - tp: 119.3793 - val_accuracy: 0.8649 - val_fn: 19.0000 - val_fp: 11.0000 - val_loss: 0.5385 - val_tn: 81.0000 - val_tp: 111.0000\n",
      "Epoch 19/100\n",
      "\u001b[1m28/28\u001b[0m \u001b[32m━━━━━━━━━━━━━━━━━━━━\u001b[0m\u001b[37m\u001b[0m \u001b[1m0s\u001b[0m 8ms/step - accuracy: 0.9074 - fn: 7.0000 - fp: 14.6897 - loss: 0.2308 - tn: 82.0690 - tp: 135.6897 - val_accuracy: 0.8423 - val_fn: 25.0000 - val_fp: 10.0000 - val_loss: 0.5473 - val_tn: 82.0000 - val_tp: 105.0000\n",
      "Epoch 20/100\n",
      "\u001b[1m28/28\u001b[0m \u001b[32m━━━━━━━━━━━━━━━━━━━━\u001b[0m\u001b[37m\u001b[0m \u001b[1m0s\u001b[0m 9ms/step - accuracy: 0.9461 - fn: 5.7586 - fp: 9.8966 - loss: 0.1665 - tn: 85.0690 - tp: 138.7241 - val_accuracy: 0.8739 - val_fn: 8.0000 - val_fp: 20.0000 - val_loss: 0.5604 - val_tn: 72.0000 - val_tp: 122.0000\n",
      "Epoch 21/100\n",
      "\u001b[1m28/28\u001b[0m \u001b[32m━━━━━━━━━━━━━━━━━━━━\u001b[0m\u001b[37m\u001b[0m \u001b[1m0s\u001b[0m 6ms/step - accuracy: 0.9299 - fn: 8.0345 - fp: 8.9655 - loss: 0.1831 - tn: 88.4828 - tp: 133.9655 - val_accuracy: 0.8559 - val_fn: 21.0000 - val_fp: 11.0000 - val_loss: 0.5687 - val_tn: 81.0000 - val_tp: 109.0000\n",
      "Epoch 22/100\n",
      "\u001b[1m28/28\u001b[0m \u001b[32m━━━━━━━━━━━━━━━━━━━━\u001b[0m\u001b[37m\u001b[0m \u001b[1m0s\u001b[0m 6ms/step - accuracy: 0.9419 - fn: 6.9655 - fp: 8.7586 - loss: 0.1625 - tn: 90.0345 - tp: 133.6897 - val_accuracy: 0.8288 - val_fn: 32.0000 - val_fp: 6.0000 - val_loss: 0.7347 - val_tn: 86.0000 - val_tp: 98.0000\n",
      "Epoch 23/100\n",
      "\u001b[1m28/28\u001b[0m \u001b[32m━━━━━━━━━━━━━━━━━━━━\u001b[0m\u001b[37m\u001b[0m \u001b[1m0s\u001b[0m 6ms/step - accuracy: 0.9278 - fn: 7.8966 - fp: 10.4138 - loss: 0.1897 - tn: 87.9310 - tp: 133.2069 - val_accuracy: 0.7928 - val_fn: 42.0000 - val_fp: 4.0000 - val_loss: 0.8650 - val_tn: 88.0000 - val_tp: 88.0000\n",
      "Epoch 24/100\n",
      "\u001b[1m28/28\u001b[0m \u001b[32m━━━━━━━━━━━━━━━━━━━━\u001b[0m\u001b[37m\u001b[0m \u001b[1m0s\u001b[0m 6ms/step - accuracy: 0.9014 - fn: 11.1379 - fp: 10.9310 - loss: 0.2181 - tn: 88.1724 - tp: 129.2069 - val_accuracy: 0.8378 - val_fn: 31.0000 - val_fp: 5.0000 - val_loss: 0.7158 - val_tn: 87.0000 - val_tp: 99.0000\n",
      "Epoch 25/100\n",
      "\u001b[1m28/28\u001b[0m \u001b[32m━━━━━━━━━━━━━━━━━━━━\u001b[0m\u001b[37m\u001b[0m \u001b[1m0s\u001b[0m 6ms/step - accuracy: 0.8901 - fn: 10.0690 - fp: 13.4828 - loss: 0.2418 - tn: 82.8276 - tp: 133.0690 - val_accuracy: 0.8604 - val_fn: 8.0000 - val_fp: 23.0000 - val_loss: 0.6175 - val_tn: 69.0000 - val_tp: 122.0000\n",
      "Epoch 26/100\n",
      "\u001b[1m28/28\u001b[0m \u001b[32m━━━━━━━━━━━━━━━━━━━━\u001b[0m\u001b[37m\u001b[0m \u001b[1m0s\u001b[0m 6ms/step - accuracy: 0.9295 - fn: 8.7931 - fp: 8.3103 - loss: 0.1604 - tn: 89.6552 - tp: 132.6897 - val_accuracy: 0.8784 - val_fn: 13.0000 - val_fp: 14.0000 - val_loss: 0.6041 - val_tn: 78.0000 - val_tp: 117.0000\n",
      "Epoch 27/100\n",
      "\u001b[1m28/28\u001b[0m \u001b[32m━━━━━━━━━━━━━━━━━━━━\u001b[0m\u001b[37m\u001b[0m \u001b[1m0s\u001b[0m 6ms/step - accuracy: 0.9468 - fn: 6.2414 - fp: 7.0000 - loss: 0.1178 - tn: 96.4483 - tp: 129.7586 - val_accuracy: 0.8468 - val_fn: 24.0000 - val_fp: 10.0000 - val_loss: 0.6080 - val_tn: 82.0000 - val_tp: 106.0000\n",
      "Epoch 28/100\n",
      "\u001b[1m28/28\u001b[0m \u001b[32m━━━━━━━━━━━━━━━━━━━━\u001b[0m\u001b[37m\u001b[0m \u001b[1m0s\u001b[0m 6ms/step - accuracy: 0.9362 - fn: 7.4138 - fp: 6.6207 - loss: 0.1408 - tn: 85.2759 - tp: 140.1379 - val_accuracy: 0.8874 - val_fn: 14.0000 - val_fp: 11.0000 - val_loss: 0.7076 - val_tn: 81.0000 - val_tp: 116.0000\n",
      "Epoch 29/100\n",
      "\u001b[1m28/28\u001b[0m \u001b[32m━━━━━━━━━━━━━━━━━━━━\u001b[0m\u001b[37m\u001b[0m \u001b[1m0s\u001b[0m 6ms/step - accuracy: 0.9484 - fn: 7.2069 - fp: 5.3103 - loss: 0.1313 - tn: 90.4138 - tp: 136.5172 - val_accuracy: 0.8468 - val_fn: 7.0000 - val_fp: 27.0000 - val_loss: 0.6829 - val_tn: 65.0000 - val_tp: 123.0000\n",
      "Epoch 30/100\n",
      "\u001b[1m28/28\u001b[0m \u001b[32m━━━━━━━━━━━━━━━━━━━━\u001b[0m\u001b[37m\u001b[0m \u001b[1m0s\u001b[0m 6ms/step - accuracy: 0.9379 - fn: 4.5862 - fp: 9.1724 - loss: 0.1415 - tn: 92.4828 - tp: 133.2069 - val_accuracy: 0.8694 - val_fn: 17.0000 - val_fp: 12.0000 - val_loss: 0.7083 - val_tn: 80.0000 - val_tp: 113.0000\n",
      "Epoch 31/100\n",
      "\u001b[1m28/28\u001b[0m \u001b[32m━━━━━━━━━━━━━━━━━━━━\u001b[0m\u001b[37m\u001b[0m \u001b[1m0s\u001b[0m 8ms/step - accuracy: 0.9787 - fn: 3.7586 - fp: 2.0690 - loss: 0.0861 - tn: 101.6552 - tp: 131.9655 - val_accuracy: 0.8649 - val_fn: 13.0000 - val_fp: 17.0000 - val_loss: 0.7334 - val_tn: 75.0000 - val_tp: 117.0000\n",
      "Epoch 32/100\n",
      "\u001b[1m28/28\u001b[0m \u001b[32m━━━━━━━━━━━━━━━━━━━━\u001b[0m\u001b[37m\u001b[0m \u001b[1m0s\u001b[0m 7ms/step - accuracy: 0.9332 - fn: 7.8276 - fp: 9.4138 - loss: 0.1357 - tn: 90.7241 - tp: 131.4828 - val_accuracy: 0.8288 - val_fn: 22.0000 - val_fp: 16.0000 - val_loss: 0.7737 - val_tn: 76.0000 - val_tp: 108.0000\n",
      "Epoch 33/100\n",
      "\u001b[1m28/28\u001b[0m \u001b[32m━━━━━━━━━━━━━━━━━━━━\u001b[0m\u001b[37m\u001b[0m \u001b[1m0s\u001b[0m 7ms/step - accuracy: 0.9372 - fn: 5.8621 - fp: 6.3103 - loss: 0.1451 - tn: 92.9655 - tp: 134.3103 - val_accuracy: 0.8829 - val_fn: 14.0000 - val_fp: 12.0000 - val_loss: 0.7954 - val_tn: 80.0000 - val_tp: 116.0000\n",
      "Epoch 34/100\n",
      "\u001b[1m28/28\u001b[0m \u001b[32m━━━━━━━━━━━━━━━━━━━━\u001b[0m\u001b[37m\u001b[0m \u001b[1m0s\u001b[0m 8ms/step - accuracy: 0.9606 - fn: 3.4483 - fp: 6.0000 - loss: 0.0981 - tn: 93.1724 - tp: 136.8276 - val_accuracy: 0.8559 - val_fn: 13.0000 - val_fp: 19.0000 - val_loss: 0.6415 - val_tn: 73.0000 - val_tp: 117.0000\n",
      "Epoch 35/100\n",
      "\u001b[1m28/28\u001b[0m \u001b[32m━━━━━━━━━━━━━━━━━━━━\u001b[0m\u001b[37m\u001b[0m \u001b[1m0s\u001b[0m 8ms/step - accuracy: 0.9738 - fn: 2.6552 - fp: 4.7241 - loss: 0.0997 - tn: 89.9655 - tp: 142.1035 - val_accuracy: 0.8739 - val_fn: 18.0000 - val_fp: 10.0000 - val_loss: 0.8347 - val_tn: 82.0000 - val_tp: 112.0000\n",
      "Epoch 36/100\n",
      "\u001b[1m28/28\u001b[0m \u001b[32m━━━━━━━━━━━━━━━━━━━━\u001b[0m\u001b[37m\u001b[0m \u001b[1m0s\u001b[0m 8ms/step - accuracy: 0.9515 - fn: 5.0690 - fp: 4.3103 - loss: 0.1206 - tn: 94.8966 - tp: 135.1724 - val_accuracy: 0.8784 - val_fn: 14.0000 - val_fp: 13.0000 - val_loss: 0.7692 - val_tn: 79.0000 - val_tp: 116.0000\n",
      "Epoch 37/100\n",
      "\u001b[1m28/28\u001b[0m \u001b[32m━━━━━━━━━━━━━━━━━━━━\u001b[0m\u001b[37m\u001b[0m \u001b[1m0s\u001b[0m 8ms/step - accuracy: 0.9382 - fn: 5.3103 - fp: 9.1379 - loss: 0.1714 - tn: 90.7586 - tp: 134.2414 - val_accuracy: 0.8514 - val_fn: 19.0000 - val_fp: 14.0000 - val_loss: 0.8209 - val_tn: 78.0000 - val_tp: 111.0000\n",
      "Epoch 38/100\n",
      "\u001b[1m28/28\u001b[0m \u001b[32m━━━━━━━━━━━━━━━━━━━━\u001b[0m\u001b[37m\u001b[0m \u001b[1m0s\u001b[0m 9ms/step - accuracy: 0.9335 - fn: 9.9655 - fp: 5.0690 - loss: 0.1311 - tn: 92.9310 - tp: 131.4828 - val_accuracy: 0.8559 - val_fn: 25.0000 - val_fp: 7.0000 - val_loss: 0.7016 - val_tn: 85.0000 - val_tp: 105.0000\n",
      "Epoch 39/100\n",
      "\u001b[1m28/28\u001b[0m \u001b[32m━━━━━━━━━━━━━━━━━━━━\u001b[0m\u001b[37m\u001b[0m \u001b[1m0s\u001b[0m 8ms/step - accuracy: 0.9549 - fn: 6.5517 - fp: 3.8276 - loss: 0.1410 - tn: 96.8966 - tp: 132.1724 - val_accuracy: 0.8964 - val_fn: 12.0000 - val_fp: 11.0000 - val_loss: 0.5865 - val_tn: 81.0000 - val_tp: 118.0000\n",
      "Epoch 40/100\n",
      "\u001b[1m28/28\u001b[0m \u001b[32m━━━━━━━━━━━━━━━━━━━━\u001b[0m\u001b[37m\u001b[0m \u001b[1m0s\u001b[0m 8ms/step - accuracy: 0.9786 - fn: 2.2414 - fp: 3.6897 - loss: 0.0781 - tn: 92.8276 - tp: 140.6897 - val_accuracy: 0.8514 - val_fn: 27.0000 - val_fp: 6.0000 - val_loss: 0.9178 - val_tn: 86.0000 - val_tp: 103.0000\n",
      "Epoch 41/100\n",
      "\u001b[1m28/28\u001b[0m \u001b[32m━━━━━━━━━━━━━━━━━━━━\u001b[0m\u001b[37m\u001b[0m \u001b[1m0s\u001b[0m 8ms/step - accuracy: 0.9221 - fn: 9.6897 - fp: 9.0345 - loss: 0.1884 - tn: 89.7931 - tp: 130.9310 - val_accuracy: 0.8649 - val_fn: 7.0000 - val_fp: 23.0000 - val_loss: 0.6269 - val_tn: 69.0000 - val_tp: 123.0000\n",
      "Epoch 42/100\n",
      "\u001b[1m28/28\u001b[0m \u001b[32m━━━━━━━━━━━━━━━━━━━━\u001b[0m\u001b[37m\u001b[0m \u001b[1m0s\u001b[0m 6ms/step - accuracy: 0.9298 - fn: 8.1379 - fp: 8.3103 - loss: 0.1719 - tn: 91.9310 - tp: 131.0690 - val_accuracy: 0.8784 - val_fn: 10.0000 - val_fp: 17.0000 - val_loss: 0.4132 - val_tn: 75.0000 - val_tp: 120.0000\n",
      "Epoch 43/100\n",
      "\u001b[1m28/28\u001b[0m \u001b[32m━━━━━━━━━━━━━━━━━━━━\u001b[0m\u001b[37m\u001b[0m \u001b[1m0s\u001b[0m 6ms/step - accuracy: 0.9583 - fn: 3.7241 - fp: 5.3793 - loss: 0.1098 - tn: 95.6552 - tp: 134.6897 - val_accuracy: 0.8874 - val_fn: 5.0000 - val_fp: 20.0000 - val_loss: 0.4165 - val_tn: 72.0000 - val_tp: 125.0000\n",
      "Epoch 44/100\n",
      "\u001b[1m28/28\u001b[0m \u001b[32m━━━━━━━━━━━━━━━━━━━━\u001b[0m\u001b[37m\u001b[0m \u001b[1m0s\u001b[0m 6ms/step - accuracy: 0.9366 - fn: 5.1379 - fp: 7.7241 - loss: 0.1309 - tn: 93.7931 - tp: 132.7931 - val_accuracy: 0.8694 - val_fn: 16.0000 - val_fp: 13.0000 - val_loss: 0.4900 - val_tn: 79.0000 - val_tp: 114.0000\n",
      "Epoch 45/100\n",
      "\u001b[1m28/28\u001b[0m \u001b[32m━━━━━━━━━━━━━━━━━━━━\u001b[0m\u001b[37m\u001b[0m \u001b[1m0s\u001b[0m 6ms/step - accuracy: 0.9851 - fn: 3.0690 - fp: 1.4138 - loss: 0.0577 - tn: 100.2759 - tp: 134.6897 - val_accuracy: 0.8964 - val_fn: 14.0000 - val_fp: 9.0000 - val_loss: 0.6048 - val_tn: 83.0000 - val_tp: 116.0000\n",
      "Epoch 46/100\n",
      "\u001b[1m28/28\u001b[0m \u001b[32m━━━━━━━━━━━━━━━━━━━━\u001b[0m\u001b[37m\u001b[0m \u001b[1m0s\u001b[0m 6ms/step - accuracy: 0.9753 - fn: 2.7241 - fp: 3.5517 - loss: 0.0759 - tn: 94.0345 - tp: 139.1379 - val_accuracy: 0.8874 - val_fn: 15.0000 - val_fp: 10.0000 - val_loss: 0.6554 - val_tn: 82.0000 - val_tp: 115.0000\n",
      "Epoch 47/100\n",
      "\u001b[1m28/28\u001b[0m \u001b[32m━━━━━━━━━━━━━━━━━━━━\u001b[0m\u001b[37m\u001b[0m \u001b[1m0s\u001b[0m 6ms/step - accuracy: 0.9843 - fn: 1.7931 - fp: 1.9310 - loss: 0.0563 - tn: 99.0690 - tp: 136.6552 - val_accuracy: 0.8874 - val_fn: 8.0000 - val_fp: 17.0000 - val_loss: 0.6757 - val_tn: 75.0000 - val_tp: 122.0000\n",
      "Epoch 48/100\n",
      "\u001b[1m28/28\u001b[0m \u001b[32m━━━━━━━━━━━━━━━━━━━━\u001b[0m\u001b[37m\u001b[0m \u001b[1m0s\u001b[0m 6ms/step - accuracy: 0.9591 - fn: 3.8966 - fp: 5.8621 - loss: 0.0968 - tn: 95.0000 - tp: 134.6897 - val_accuracy: 0.7252 - val_fn: 4.0000 - val_fp: 57.0000 - val_loss: 1.2791 - val_tn: 35.0000 - val_tp: 126.0000\n",
      "Epoch 49/100\n",
      "\u001b[1m28/28\u001b[0m \u001b[32m━━━━━━━━━━━━━━━━━━━━\u001b[0m\u001b[37m\u001b[0m \u001b[1m0s\u001b[0m 6ms/step - accuracy: 0.8812 - fn: 7.6552 - fp: 17.2069 - loss: 0.3294 - tn: 83.2414 - tp: 131.3448 - val_accuracy: 0.8649 - val_fn: 21.0000 - val_fp: 9.0000 - val_loss: 0.4473 - val_tn: 83.0000 - val_tp: 109.0000\n",
      "Epoch 50/100\n",
      "\u001b[1m28/28\u001b[0m \u001b[32m━━━━━━━━━━━━━━━━━━━━\u001b[0m\u001b[37m\u001b[0m \u001b[1m0s\u001b[0m 5ms/step - accuracy: 0.9369 - fn: 7.0000 - fp: 10.3448 - loss: 0.1522 - tn: 96.2069 - tp: 125.8966 - val_accuracy: 0.7928 - val_fn: 4.0000 - val_fp: 42.0000 - val_loss: 0.6358 - val_tn: 50.0000 - val_tp: 126.0000\n",
      "Epoch 51/100\n",
      "\u001b[1m28/28\u001b[0m \u001b[32m━━━━━━━━━━━━━━━━━━━━\u001b[0m\u001b[37m\u001b[0m \u001b[1m0s\u001b[0m 6ms/step - accuracy: 0.8977 - fn: 12.2414 - fp: 9.0000 - loss: 0.2414 - tn: 96.6207 - tp: 121.5862 - val_accuracy: 0.8198 - val_fn: 4.0000 - val_fp: 36.0000 - val_loss: 0.5928 - val_tn: 56.0000 - val_tp: 126.0000\n",
      "Epoch 52/100\n",
      "\u001b[1m28/28\u001b[0m \u001b[32m━━━━━━━━━━━━━━━━━━━━\u001b[0m\u001b[37m\u001b[0m \u001b[1m0s\u001b[0m 7ms/step - accuracy: 0.9387 - fn: 4.3103 - fp: 6.7931 - loss: 0.1431 - tn: 86.5517 - tp: 141.7931 - val_accuracy: 0.8739 - val_fn: 5.0000 - val_fp: 23.0000 - val_loss: 0.5304 - val_tn: 69.0000 - val_tp: 125.0000\n",
      "Epoch 53/100\n",
      "\u001b[1m28/28\u001b[0m \u001b[32m━━━━━━━━━━━━━━━━━━━━\u001b[0m\u001b[37m\u001b[0m \u001b[1m0s\u001b[0m 6ms/step - accuracy: 0.9719 - fn: 4.2414 - fp: 2.5172 - loss: 0.1243 - tn: 98.2759 - tp: 134.4138 - val_accuracy: 0.8964 - val_fn: 9.0000 - val_fp: 14.0000 - val_loss: 0.5691 - val_tn: 78.0000 - val_tp: 121.0000\n",
      "Epoch 54/100\n",
      "\u001b[1m28/28\u001b[0m \u001b[32m━━━━━━━━━━━━━━━━━━━━\u001b[0m\u001b[37m\u001b[0m \u001b[1m0s\u001b[0m 6ms/step - accuracy: 0.9785 - fn: 2.0690 - fp: 3.1034 - loss: 0.0583 - tn: 94.5172 - tp: 139.7586 - val_accuracy: 0.8919 - val_fn: 7.0000 - val_fp: 17.0000 - val_loss: 0.6890 - val_tn: 75.0000 - val_tp: 123.0000\n",
      "Epoch 55/100\n",
      "\u001b[1m28/28\u001b[0m \u001b[32m━━━━━━━━━━━━━━━━━━━━\u001b[0m\u001b[37m\u001b[0m \u001b[1m0s\u001b[0m 6ms/step - accuracy: 0.9787 - fn: 1.8621 - fp: 2.9310 - loss: 0.0542 - tn: 95.4483 - tp: 139.2069 - val_accuracy: 0.8874 - val_fn: 12.0000 - val_fp: 13.0000 - val_loss: 0.7275 - val_tn: 79.0000 - val_tp: 118.0000\n",
      "Epoch 56/100\n",
      "\u001b[1m28/28\u001b[0m \u001b[32m━━━━━━━━━━━━━━━━━━━━\u001b[0m\u001b[37m\u001b[0m \u001b[1m0s\u001b[0m 6ms/step - accuracy: 0.9776 - fn: 3.3448 - fp: 3.6552 - loss: 0.0629 - tn: 98.8621 - tp: 133.5862 - val_accuracy: 0.8964 - val_fn: 6.0000 - val_fp: 17.0000 - val_loss: 0.7484 - val_tn: 75.0000 - val_tp: 124.0000\n",
      "Epoch 57/100\n",
      "\u001b[1m28/28\u001b[0m \u001b[32m━━━━━━━━━━━━━━━━━━━━\u001b[0m\u001b[37m\u001b[0m \u001b[1m0s\u001b[0m 6ms/step - accuracy: 0.9712 - fn: 1.6552 - fp: 3.5172 - loss: 0.0614 - tn: 100.8966 - tp: 133.3793 - val_accuracy: 0.8964 - val_fn: 12.0000 - val_fp: 11.0000 - val_loss: 0.7769 - val_tn: 81.0000 - val_tp: 118.0000\n",
      "Epoch 58/100\n",
      "\u001b[1m28/28\u001b[0m \u001b[32m━━━━━━━━━━━━━━━━━━━━\u001b[0m\u001b[37m\u001b[0m \u001b[1m0s\u001b[0m 6ms/step - accuracy: 0.9838 - fn: 1.8621 - fp: 1.6897 - loss: 0.0439 - tn: 103.2759 - tp: 132.6207 - val_accuracy: 0.8874 - val_fn: 12.0000 - val_fp: 13.0000 - val_loss: 0.8027 - val_tn: 79.0000 - val_tp: 118.0000\n",
      "Epoch 59/100\n",
      "\u001b[1m28/28\u001b[0m \u001b[32m━━━━━━━━━━━━━━━━━━━━\u001b[0m\u001b[37m\u001b[0m \u001b[1m0s\u001b[0m 8ms/step - accuracy: 0.9768 - fn: 2.9655 - fp: 2.8621 - loss: 0.0594 - tn: 96.7586 - tp: 136.8621 - val_accuracy: 0.8919 - val_fn: 6.0000 - val_fp: 18.0000 - val_loss: 0.8445 - val_tn: 74.0000 - val_tp: 124.0000\n",
      "Epoch 60/100\n",
      "\u001b[1m28/28\u001b[0m \u001b[32m━━━━━━━━━━━━━━━━━━━━\u001b[0m\u001b[37m\u001b[0m \u001b[1m0s\u001b[0m 11ms/step - accuracy: 0.9857 - fn: 2.1034 - fp: 1.8966 - loss: 0.0632 - tn: 96.7931 - tp: 138.6552 - val_accuracy: 0.9099 - val_fn: 10.0000 - val_fp: 10.0000 - val_loss: 0.7006 - val_tn: 82.0000 - val_tp: 120.0000\n",
      "Epoch 61/100\n",
      "\u001b[1m28/28\u001b[0m \u001b[32m━━━━━━━━━━━━━━━━━━━━\u001b[0m\u001b[37m\u001b[0m \u001b[1m0s\u001b[0m 6ms/step - accuracy: 0.9846 - fn: 1.1724 - fp: 3.0000 - loss: 0.0509 - tn: 98.0345 - tp: 137.2414 - val_accuracy: 0.8874 - val_fn: 15.0000 - val_fp: 10.0000 - val_loss: 0.6258 - val_tn: 82.0000 - val_tp: 115.0000\n",
      "Epoch 62/100\n",
      "\u001b[1m28/28\u001b[0m \u001b[32m━━━━━━━━━━━━━━━━━━━━\u001b[0m\u001b[37m\u001b[0m \u001b[1m0s\u001b[0m 8ms/step - accuracy: 0.9875 - fn: 1.5862 - fp: 2.3793 - loss: 0.0417 - tn: 89.0690 - tp: 146.4138 - val_accuracy: 0.8694 - val_fn: 22.0000 - val_fp: 7.0000 - val_loss: 0.8507 - val_tn: 85.0000 - val_tp: 108.0000\n",
      "Epoch 63/100\n",
      "\u001b[1m28/28\u001b[0m \u001b[32m━━━━━━━━━━━━━━━━━━━━\u001b[0m\u001b[37m\u001b[0m \u001b[1m0s\u001b[0m 6ms/step - accuracy: 0.9797 - fn: 3.4138 - fp: 0.8276 - loss: 0.0495 - tn: 101.5517 - tp: 133.6552 - val_accuracy: 0.8964 - val_fn: 16.0000 - val_fp: 7.0000 - val_loss: 0.7611 - val_tn: 85.0000 - val_tp: 114.0000\n",
      "Epoch 64/100\n",
      "\u001b[1m28/28\u001b[0m \u001b[32m━━━━━━━━━━━━━━━━━━━━\u001b[0m\u001b[37m\u001b[0m \u001b[1m0s\u001b[0m 6ms/step - accuracy: 0.9689 - fn: 3.4138 - fp: 2.5862 - loss: 0.0553 - tn: 96.5862 - tp: 136.8621 - val_accuracy: 0.9144 - val_fn: 7.0000 - val_fp: 12.0000 - val_loss: 0.7195 - val_tn: 80.0000 - val_tp: 123.0000\n",
      "Epoch 65/100\n",
      "\u001b[1m28/28\u001b[0m \u001b[32m━━━━━━━━━━━━━━━━━━━━\u001b[0m\u001b[37m\u001b[0m \u001b[1m0s\u001b[0m 6ms/step - accuracy: 0.9977 - fn: 0.3448 - fp: 0.5172 - loss: 0.0305 - tn: 101.4828 - tp: 137.1035 - val_accuracy: 0.9009 - val_fn: 6.0000 - val_fp: 16.0000 - val_loss: 0.7204 - val_tn: 76.0000 - val_tp: 124.0000\n",
      "Epoch 66/100\n",
      "\u001b[1m28/28\u001b[0m \u001b[32m━━━━━━━━━━━━━━━━━━━━\u001b[0m\u001b[37m\u001b[0m \u001b[1m0s\u001b[0m 6ms/step - accuracy: 0.9844 - fn: 0.0000e+00 - fp: 2.2414 - loss: 0.0364 - tn: 97.6207 - tp: 139.5862 - val_accuracy: 0.9099 - val_fn: 12.0000 - val_fp: 8.0000 - val_loss: 0.8408 - val_tn: 84.0000 - val_tp: 118.0000\n",
      "Epoch 67/100\n",
      "\u001b[1m28/28\u001b[0m \u001b[32m━━━━━━━━━━━━━━━━━━━━\u001b[0m\u001b[37m\u001b[0m \u001b[1m0s\u001b[0m 6ms/step - accuracy: 0.9982 - fn: 0.4138 - fp: 0.3103 - loss: 0.0291 - tn: 97.4483 - tp: 141.2759 - val_accuracy: 0.8694 - val_fn: 25.0000 - val_fp: 4.0000 - val_loss: 0.9825 - val_tn: 88.0000 - val_tp: 105.0000\n",
      "Epoch 68/100\n",
      "\u001b[1m28/28\u001b[0m \u001b[32m━━━━━━━━━━━━━━━━━━━━\u001b[0m\u001b[37m\u001b[0m \u001b[1m0s\u001b[0m 6ms/step - accuracy: 0.9626 - fn: 3.7586 - fp: 2.8966 - loss: 0.0671 - tn: 93.4483 - tp: 139.3448 - val_accuracy: 0.8874 - val_fn: 10.0000 - val_fp: 15.0000 - val_loss: 0.7005 - val_tn: 77.0000 - val_tp: 120.0000\n",
      "Epoch 69/100\n",
      "\u001b[1m28/28\u001b[0m \u001b[32m━━━━━━━━━━━━━━━━━━━━\u001b[0m\u001b[37m\u001b[0m \u001b[1m0s\u001b[0m 7ms/step - accuracy: 0.9664 - fn: 1.3793 - fp: 6.7931 - loss: 0.1367 - tn: 90.4828 - tp: 140.7931 - val_accuracy: 0.9009 - val_fn: 4.0000 - val_fp: 18.0000 - val_loss: 0.6435 - val_tn: 74.0000 - val_tp: 126.0000\n",
      "Epoch 70/100\n",
      "\u001b[1m28/28\u001b[0m \u001b[32m━━━━━━━━━━━━━━━━━━━━\u001b[0m\u001b[37m\u001b[0m \u001b[1m0s\u001b[0m 6ms/step - accuracy: 0.9746 - fn: 4.8276 - fp: 1.7586 - loss: 0.0712 - tn: 92.1379 - tp: 140.7241 - val_accuracy: 0.8694 - val_fn: 19.0000 - val_fp: 10.0000 - val_loss: 0.4857 - val_tn: 82.0000 - val_tp: 111.0000\n",
      "Epoch 71/100\n",
      "\u001b[1m28/28\u001b[0m \u001b[32m━━━━━━━━━━━━━━━━━━━━\u001b[0m\u001b[37m\u001b[0m \u001b[1m0s\u001b[0m 6ms/step - accuracy: 0.9824 - fn: 2.7931 - fp: 1.7931 - loss: 0.0537 - tn: 100.0345 - tp: 134.8276 - val_accuracy: 0.8874 - val_fn: 15.0000 - val_fp: 10.0000 - val_loss: 0.4601 - val_tn: 82.0000 - val_tp: 115.0000\n",
      "Epoch 72/100\n",
      "\u001b[1m28/28\u001b[0m \u001b[32m━━━━━━━━━━━━━━━━━━━━\u001b[0m\u001b[37m\u001b[0m \u001b[1m0s\u001b[0m 6ms/step - accuracy: 0.9407 - fn: 8.2069 - fp: 8.7586 - loss: 0.2306 - tn: 90.6552 - tp: 131.8276 - val_accuracy: 0.8604 - val_fn: 5.0000 - val_fp: 26.0000 - val_loss: 0.8624 - val_tn: 66.0000 - val_tp: 125.0000\n",
      "Epoch 73/100\n",
      "\u001b[1m28/28\u001b[0m \u001b[32m━━━━━━━━━━━━━━━━━━━━\u001b[0m\u001b[37m\u001b[0m \u001b[1m0s\u001b[0m 6ms/step - accuracy: 0.9120 - fn: 11.5172 - fp: 11.2414 - loss: 0.2941 - tn: 89.4138 - tp: 127.2759 - val_accuracy: 0.8739 - val_fn: 4.0000 - val_fp: 24.0000 - val_loss: 0.4968 - val_tn: 68.0000 - val_tp: 126.0000\n",
      "Epoch 74/100\n",
      "\u001b[1m28/28\u001b[0m \u001b[32m━━━━━━━━━━━━━━━━━━━━\u001b[0m\u001b[37m\u001b[0m \u001b[1m0s\u001b[0m 7ms/step - accuracy: 0.8880 - fn: 13.0345 - fp: 15.1724 - loss: 0.2540 - tn: 85.5862 - tp: 125.6552 - val_accuracy: 0.8108 - val_fn: 3.0000 - val_fp: 39.0000 - val_loss: 0.6425 - val_tn: 53.0000 - val_tp: 127.0000\n",
      "Epoch 75/100\n",
      "\u001b[1m28/28\u001b[0m \u001b[32m━━━━━━━━━━━━━━━━━━━━\u001b[0m\u001b[37m\u001b[0m \u001b[1m0s\u001b[0m 8ms/step - accuracy: 0.9343 - fn: 6.7931 - fp: 8.0345 - loss: 0.1747 - tn: 87.8966 - tp: 136.7241 - val_accuracy: 0.8964 - val_fn: 16.0000 - val_fp: 7.0000 - val_loss: 0.5039 - val_tn: 85.0000 - val_tp: 114.0000\n",
      "Epoch 76/100\n",
      "\u001b[1m28/28\u001b[0m \u001b[32m━━━━━━━━━━━━━━━━━━━━\u001b[0m\u001b[37m\u001b[0m \u001b[1m0s\u001b[0m 8ms/step - accuracy: 0.9524 - fn: 5.3793 - fp: 5.9310 - loss: 0.0978 - tn: 91.0000 - tp: 137.1379 - val_accuracy: 0.9234 - val_fn: 11.0000 - val_fp: 6.0000 - val_loss: 0.4525 - val_tn: 86.0000 - val_tp: 119.0000\n",
      "Epoch 77/100\n",
      "\u001b[1m28/28\u001b[0m \u001b[32m━━━━━━━━━━━━━━━━━━━━\u001b[0m\u001b[37m\u001b[0m \u001b[1m0s\u001b[0m 9ms/step - accuracy: 0.9870 - fn: 0.9655 - fp: 2.4138 - loss: 0.0554 - tn: 94.6897 - tp: 141.3793 - val_accuracy: 0.9099 - val_fn: 8.0000 - val_fp: 12.0000 - val_loss: 0.4770 - val_tn: 80.0000 - val_tp: 122.0000\n",
      "Epoch 78/100\n",
      "\u001b[1m28/28\u001b[0m \u001b[32m━━━━━━━━━━━━━━━━━━━━\u001b[0m\u001b[37m\u001b[0m \u001b[1m0s\u001b[0m 6ms/step - accuracy: 0.9865 - fn: 0.2069 - fp: 2.6207 - loss: 0.0473 - tn: 93.9655 - tp: 142.6552 - val_accuracy: 0.9189 - val_fn: 11.0000 - val_fp: 7.0000 - val_loss: 0.5328 - val_tn: 85.0000 - val_tp: 119.0000\n",
      "Epoch 79/100\n",
      "\u001b[1m28/28\u001b[0m \u001b[32m━━━━━━━━━━━━━━━━━━━━\u001b[0m\u001b[37m\u001b[0m \u001b[1m0s\u001b[0m 6ms/step - accuracy: 0.9996 - fn: 0.0000e+00 - fp: 0.1724 - loss: 0.0275 - tn: 99.4828 - tp: 139.7931 - val_accuracy: 0.9144 - val_fn: 13.0000 - val_fp: 6.0000 - val_loss: 0.5718 - val_tn: 86.0000 - val_tp: 117.0000\n",
      "Epoch 80/100\n",
      "\u001b[1m28/28\u001b[0m \u001b[32m━━━━━━━━━━━━━━━━━━━━\u001b[0m\u001b[37m\u001b[0m \u001b[1m0s\u001b[0m 6ms/step - accuracy: 0.9974 - fn: 0.2414 - fp: 0.6207 - loss: 0.0280 - tn: 96.5172 - tp: 142.0690 - val_accuracy: 0.9234 - val_fn: 5.0000 - val_fp: 12.0000 - val_loss: 0.5339 - val_tn: 80.0000 - val_tp: 125.0000\n",
      "Epoch 81/100\n",
      "\u001b[1m28/28\u001b[0m \u001b[32m━━━━━━━━━━━━━━━━━━━━\u001b[0m\u001b[37m\u001b[0m \u001b[1m0s\u001b[0m 6ms/step - accuracy: 0.9985 - fn: 0.0000e+00 - fp: 0.5172 - loss: 0.0227 - tn: 96.9310 - tp: 142.0000 - val_accuracy: 0.9189 - val_fn: 9.0000 - val_fp: 9.0000 - val_loss: 0.5556 - val_tn: 83.0000 - val_tp: 121.0000\n",
      "Epoch 82/100\n",
      "\u001b[1m28/28\u001b[0m \u001b[32m━━━━━━━━━━━━━━━━━━━━\u001b[0m\u001b[37m\u001b[0m \u001b[1m0s\u001b[0m 6ms/step - accuracy: 0.9994 - fn: 0.2414 - fp: 0.0000e+00 - loss: 0.0170 - tn: 100.0345 - tp: 139.1724 - val_accuracy: 0.9189 - val_fn: 5.0000 - val_fp: 13.0000 - val_loss: 0.5630 - val_tn: 79.0000 - val_tp: 125.0000\n",
      "Epoch 83/100\n",
      "\u001b[1m28/28\u001b[0m \u001b[32m━━━━━━━━━━━━━━━━━━━━\u001b[0m\u001b[37m\u001b[0m \u001b[1m0s\u001b[0m 6ms/step - accuracy: 0.9894 - fn: 0.5172 - fp: 2.0000 - loss: 0.0350 - tn: 99.1379 - tp: 137.7931 - val_accuracy: 0.8964 - val_fn: 16.0000 - val_fp: 7.0000 - val_loss: 0.6498 - val_tn: 85.0000 - val_tp: 114.0000\n",
      "Epoch 84/100\n",
      "\u001b[1m28/28\u001b[0m \u001b[32m━━━━━━━━━━━━━━━━━━━━\u001b[0m\u001b[37m\u001b[0m \u001b[1m0s\u001b[0m 6ms/step - accuracy: 0.9879 - fn: 1.0000 - fp: 2.6207 - loss: 0.0426 - tn: 93.4138 - tp: 142.4138 - val_accuracy: 0.9054 - val_fn: 6.0000 - val_fp: 15.0000 - val_loss: 0.5318 - val_tn: 77.0000 - val_tp: 124.0000\n",
      "Epoch 85/100\n",
      "\u001b[1m28/28\u001b[0m \u001b[32m━━━━━━━━━━━━━━━━━━━━\u001b[0m\u001b[37m\u001b[0m \u001b[1m0s\u001b[0m 6ms/step - accuracy: 0.9666 - fn: 3.3793 - fp: 2.8966 - loss: 0.0584 - tn: 97.1034 - tp: 136.0690 - val_accuracy: 0.9099 - val_fn: 6.0000 - val_fp: 14.0000 - val_loss: 0.6000 - val_tn: 78.0000 - val_tp: 124.0000\n",
      "Epoch 86/100\n",
      "\u001b[1m28/28\u001b[0m \u001b[32m━━━━━━━━━━━━━━━━━━━━\u001b[0m\u001b[37m\u001b[0m \u001b[1m0s\u001b[0m 6ms/step - accuracy: 0.9982 - fn: 0.2759 - fp: 0.4828 - loss: 0.0164 - tn: 102.6897 - tp: 136.0000 - val_accuracy: 0.9099 - val_fn: 14.0000 - val_fp: 6.0000 - val_loss: 0.6744 - val_tn: 86.0000 - val_tp: 116.0000\n",
      "Epoch 87/100\n",
      "\u001b[1m28/28\u001b[0m \u001b[32m━━━━━━━━━━━━━━━━━━━━\u001b[0m\u001b[37m\u001b[0m \u001b[1m0s\u001b[0m 8ms/step - accuracy: 0.9949 - fn: 0.0690 - fp: 1.2414 - loss: 0.0199 - tn: 98.4828 - tp: 139.6552 - val_accuracy: 0.8784 - val_fn: 22.0000 - val_fp: 5.0000 - val_loss: 0.8437 - val_tn: 87.0000 - val_tp: 108.0000\n",
      "Epoch 88/100\n",
      "\u001b[1m28/28\u001b[0m \u001b[32m━━━━━━━━━━━━━━━━━━━━\u001b[0m\u001b[37m\u001b[0m \u001b[1m0s\u001b[0m 8ms/step - accuracy: 0.9954 - fn: 0.8966 - fp: 0.0000e+00 - loss: 0.0217 - tn: 98.7931 - tp: 139.7586 - val_accuracy: 0.9144 - val_fn: 8.0000 - val_fp: 11.0000 - val_loss: 0.7439 - val_tn: 81.0000 - val_tp: 122.0000\n",
      "Epoch 89/100\n",
      "\u001b[1m28/28\u001b[0m \u001b[32m━━━━━━━━━━━━━━━━━━━━\u001b[0m\u001b[37m\u001b[0m \u001b[1m0s\u001b[0m 8ms/step - accuracy: 1.0000 - fn: 0.0000e+00 - fp: 0.0000e+00 - loss: 0.0112 - tn: 99.1724 - tp: 140.2759 - val_accuracy: 0.9189 - val_fn: 7.0000 - val_fp: 11.0000 - val_loss: 0.7187 - val_tn: 81.0000 - val_tp: 123.0000\n",
      "Epoch 90/100\n",
      "\u001b[1m28/28\u001b[0m \u001b[32m━━━━━━━━━━━━━━━━━━━━\u001b[0m\u001b[37m\u001b[0m \u001b[1m0s\u001b[0m 8ms/step - accuracy: 1.0000 - fn: 0.0000e+00 - fp: 0.0000e+00 - loss: 0.0164 - tn: 92.7586 - tp: 146.6897 - val_accuracy: 0.9144 - val_fn: 6.0000 - val_fp: 13.0000 - val_loss: 0.6627 - val_tn: 79.0000 - val_tp: 124.0000\n",
      "Epoch 91/100\n",
      "\u001b[1m28/28\u001b[0m \u001b[32m━━━━━━━━━━━━━━━━━━━━\u001b[0m\u001b[37m\u001b[0m \u001b[1m0s\u001b[0m 8ms/step - accuracy: 0.9978 - fn: 0.0000e+00 - fp: 0.6552 - loss: 0.0149 - tn: 103.6207 - tp: 135.1724 - val_accuracy: 0.9189 - val_fn: 10.0000 - val_fp: 8.0000 - val_loss: 0.7579 - val_tn: 84.0000 - val_tp: 120.0000\n",
      "Epoch 92/100\n",
      "\u001b[1m28/28\u001b[0m \u001b[32m━━━━━━━━━━━━━━━━━━━━\u001b[0m\u001b[37m\u001b[0m \u001b[1m0s\u001b[0m 9ms/step - accuracy: 1.0000 - fn: 0.0000e+00 - fp: 0.0000e+00 - loss: 0.0161 - tn: 100.1379 - tp: 139.3103 - val_accuracy: 0.9234 - val_fn: 8.0000 - val_fp: 9.0000 - val_loss: 0.8107 - val_tn: 83.0000 - val_tp: 122.0000\n",
      "Epoch 93/100\n",
      "\u001b[1m28/28\u001b[0m \u001b[32m━━━━━━━━━━━━━━━━━━━━\u001b[0m\u001b[37m\u001b[0m \u001b[1m0s\u001b[0m 8ms/step - accuracy: 1.0000 - fn: 0.0000e+00 - fp: 0.0000e+00 - loss: 0.0140 - tn: 103.0690 - tp: 136.3793 - val_accuracy: 0.9144 - val_fn: 11.0000 - val_fp: 8.0000 - val_loss: 0.8208 - val_tn: 84.0000 - val_tp: 119.0000\n",
      "Epoch 94/100\n",
      "\u001b[1m28/28\u001b[0m \u001b[32m━━━━━━━━━━━━━━━━━━━━\u001b[0m\u001b[37m\u001b[0m \u001b[1m0s\u001b[0m 8ms/step - accuracy: 1.0000 - fn: 0.0000e+00 - fp: 0.0000e+00 - loss: 0.0082 - tn: 94.5862 - tp: 144.8621 - val_accuracy: 0.9234 - val_fn: 9.0000 - val_fp: 8.0000 - val_loss: 0.7559 - val_tn: 84.0000 - val_tp: 121.0000\n",
      "Epoch 95/100\n",
      "\u001b[1m28/28\u001b[0m \u001b[32m━━━━━━━━━━━━━━━━━━━━\u001b[0m\u001b[37m\u001b[0m \u001b[1m0s\u001b[0m 8ms/step - accuracy: 1.0000 - fn: 0.0000e+00 - fp: 0.0000e+00 - loss: 0.0077 - tn: 101.3448 - tp: 138.1035 - val_accuracy: 0.9234 - val_fn: 8.0000 - val_fp: 9.0000 - val_loss: 0.7853 - val_tn: 83.0000 - val_tp: 122.0000\n",
      "Epoch 96/100\n",
      "\u001b[1m28/28\u001b[0m \u001b[32m━━━━━━━━━━━━━━━━━━━━\u001b[0m\u001b[37m\u001b[0m \u001b[1m0s\u001b[0m 8ms/step - accuracy: 1.0000 - fn: 0.0000e+00 - fp: 0.0000e+00 - loss: 0.0082 - tn: 96.6207 - tp: 142.8276 - val_accuracy: 0.9189 - val_fn: 11.0000 - val_fp: 7.0000 - val_loss: 0.8538 - val_tn: 85.0000 - val_tp: 119.0000\n",
      "Epoch 97/100\n",
      "\u001b[1m28/28\u001b[0m \u001b[32m━━━━━━━━━━━━━━━━━━━━\u001b[0m\u001b[37m\u001b[0m \u001b[1m0s\u001b[0m 8ms/step - accuracy: 1.0000 - fn: 0.0000e+00 - fp: 0.0000e+00 - loss: 0.0121 - tn: 101.3103 - tp: 138.1379 - val_accuracy: 0.9324 - val_fn: 6.0000 - val_fp: 9.0000 - val_loss: 0.8161 - val_tn: 83.0000 - val_tp: 124.0000\n",
      "Epoch 98/100\n",
      "\u001b[1m28/28\u001b[0m \u001b[32m━━━━━━━━━━━━━━━━━━━━\u001b[0m\u001b[37m\u001b[0m \u001b[1m0s\u001b[0m 8ms/step - accuracy: 1.0000 - fn: 0.0000e+00 - fp: 0.0000e+00 - loss: 0.0078 - tn: 98.9310 - tp: 140.5172 - val_accuracy: 0.9189 - val_fn: 6.0000 - val_fp: 12.0000 - val_loss: 0.7964 - val_tn: 80.0000 - val_tp: 124.0000\n",
      "Epoch 99/100\n",
      "\u001b[1m28/28\u001b[0m \u001b[32m━━━━━━━━━━━━━━━━━━━━\u001b[0m\u001b[37m\u001b[0m \u001b[1m0s\u001b[0m 8ms/step - accuracy: 1.0000 - fn: 0.0000e+00 - fp: 0.0000e+00 - loss: 0.0115 - tn: 101.2414 - tp: 138.2069 - val_accuracy: 0.9279 - val_fn: 10.0000 - val_fp: 6.0000 - val_loss: 0.7958 - val_tn: 86.0000 - val_tp: 120.0000\n",
      "Epoch 100/100\n",
      "\u001b[1m28/28\u001b[0m \u001b[32m━━━━━━━━━━━━━━━━━━━━\u001b[0m\u001b[37m\u001b[0m \u001b[1m0s\u001b[0m 6ms/step - accuracy: 1.0000 - fn: 0.0000e+00 - fp: 0.0000e+00 - loss: 0.0119 - tn: 99.6552 - tp: 139.7931 - val_accuracy: 0.9324 - val_fn: 6.0000 - val_fp: 9.0000 - val_loss: 0.7834 - val_tn: 83.0000 - val_tp: 124.0000\n"
     ]
    }
   ],
   "source": [
    "history = model.fit(X_train, y_train, batch_size=16, epochs=100, validation_data=(X_test, y_test))"
   ]
  },
  {
   "cell_type": "code",
   "execution_count": 30,
   "metadata": {},
   "outputs": [
    {
     "name": "stdout",
     "output_type": "stream",
     "text": [
      "\u001b[1m7/7\u001b[0m \u001b[32m━━━━━━━━━━━━━━━━━━━━\u001b[0m\u001b[37m\u001b[0m \u001b[1m2s\u001b[0m 125ms/step - accuracy: 0.9271 - fn: 4.7500 - fp: 5.6250 - loss: 0.8694 - tn: 51.2500 - tp: 77.8750\n"
     ]
    },
    {
     "data": {
      "text/plain": [
       "[0.7833694815635681, 124.0, 9.0, 83.0, 6.0, 0.9324324131011963]"
      ]
     },
     "execution_count": 30,
     "metadata": {},
     "output_type": "execute_result"
    }
   ],
   "source": [
    "model.evaluate(X_test, y_test)"
   ]
  },
  {
   "cell_type": "code",
   "execution_count": null,
   "metadata": {},
   "outputs": [],
   "source": []
  }
 ],
 "metadata": {
  "kernelspec": {
   "display_name": ".venv",
   "language": "python",
   "name": "python3"
  },
  "language_info": {
   "codemirror_mode": {
    "name": "ipython",
    "version": 3
   },
   "file_extension": ".py",
   "mimetype": "text/x-python",
   "name": "python",
   "nbconvert_exporter": "python",
   "pygments_lexer": "ipython3",
   "version": "3.12.3"
  }
 },
 "nbformat": 4,
 "nbformat_minor": 2
}
