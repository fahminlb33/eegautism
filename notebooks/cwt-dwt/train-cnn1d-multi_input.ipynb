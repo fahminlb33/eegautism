{
 "cells": [
  {
   "cell_type": "code",
   "execution_count": 1,
   "metadata": {},
   "outputs": [
    {
     "name": "stderr",
     "output_type": "stream",
     "text": [
      "2024-08-24 15:16:39.478954: E external/local_xla/xla/stream_executor/cuda/cuda_fft.cc:485] Unable to register cuFFT factory: Attempting to register factory for plugin cuFFT when one has already been registered\n",
      "2024-08-24 15:16:39.492573: E external/local_xla/xla/stream_executor/cuda/cuda_dnn.cc:8454] Unable to register cuDNN factory: Attempting to register factory for plugin cuDNN when one has already been registered\n",
      "2024-08-24 15:16:39.496740: E external/local_xla/xla/stream_executor/cuda/cuda_blas.cc:1452] Unable to register cuBLAS factory: Attempting to register factory for plugin cuBLAS when one has already been registered\n",
      "2024-08-24 15:16:39.506790: I tensorflow/core/platform/cpu_feature_guard.cc:210] This TensorFlow binary is optimized to use available CPU instructions in performance-critical operations.\n",
      "To enable the following instructions: AVX2 FMA, in other operations, rebuild TensorFlow with the appropriate compiler flags.\n",
      "2024-08-24 15:16:40.284194: W tensorflow/compiler/tf2tensorrt/utils/py_utils.cc:38] TF-TRT Warning: Could not find TensorRT\n"
     ]
    }
   ],
   "source": [
    "import pywt\n",
    "\n",
    "from netCDF4 import Dataset\n",
    "import numpy as np\n",
    "import xarray as xr\n",
    "import pandas as pd\n",
    "import matplotlib.pyplot as plt\n",
    "\n",
    "import tensorflow as tf\n",
    "from sklearn.model_selection import train_test_split\n",
    "from sklearn.metrics import classification_report, matthews_corrcoef, accuracy_score, precision_score, recall_score, f1_score, ConfusionMatrixDisplay"
   ]
  },
  {
   "cell_type": "markdown",
   "metadata": {},
   "source": [
    "## Input Data"
   ]
  },
  {
   "cell_type": "code",
   "execution_count": 2,
   "metadata": {},
   "outputs": [
    {
     "data": {
      "text/html": [
       "<div><svg style=\"position: absolute; width: 0; height: 0; overflow: hidden\">\n",
       "<defs>\n",
       "<symbol id=\"icon-database\" viewBox=\"0 0 32 32\">\n",
       "<path d=\"M16 0c-8.837 0-16 2.239-16 5v4c0 2.761 7.163 5 16 5s16-2.239 16-5v-4c0-2.761-7.163-5-16-5z\"></path>\n",
       "<path d=\"M16 17c-8.837 0-16-2.239-16-5v6c0 2.761 7.163 5 16 5s16-2.239 16-5v-6c0 2.761-7.163 5-16 5z\"></path>\n",
       "<path d=\"M16 26c-8.837 0-16-2.239-16-5v6c0 2.761 7.163 5 16 5s16-2.239 16-5v-6c0 2.761-7.163 5-16 5z\"></path>\n",
       "</symbol>\n",
       "<symbol id=\"icon-file-text2\" viewBox=\"0 0 32 32\">\n",
       "<path d=\"M28.681 7.159c-0.694-0.947-1.662-2.053-2.724-3.116s-2.169-2.030-3.116-2.724c-1.612-1.182-2.393-1.319-2.841-1.319h-15.5c-1.378 0-2.5 1.121-2.5 2.5v27c0 1.378 1.122 2.5 2.5 2.5h23c1.378 0 2.5-1.122 2.5-2.5v-19.5c0-0.448-0.137-1.23-1.319-2.841zM24.543 5.457c0.959 0.959 1.712 1.825 2.268 2.543h-4.811v-4.811c0.718 0.556 1.584 1.309 2.543 2.268zM28 29.5c0 0.271-0.229 0.5-0.5 0.5h-23c-0.271 0-0.5-0.229-0.5-0.5v-27c0-0.271 0.229-0.5 0.5-0.5 0 0 15.499-0 15.5 0v7c0 0.552 0.448 1 1 1h7v19.5z\"></path>\n",
       "<path d=\"M23 26h-14c-0.552 0-1-0.448-1-1s0.448-1 1-1h14c0.552 0 1 0.448 1 1s-0.448 1-1 1z\"></path>\n",
       "<path d=\"M23 22h-14c-0.552 0-1-0.448-1-1s0.448-1 1-1h14c0.552 0 1 0.448 1 1s-0.448 1-1 1z\"></path>\n",
       "<path d=\"M23 18h-14c-0.552 0-1-0.448-1-1s0.448-1 1-1h14c0.552 0 1 0.448 1 1s-0.448 1-1 1z\"></path>\n",
       "</symbol>\n",
       "</defs>\n",
       "</svg>\n",
       "<style>/* CSS stylesheet for displaying xarray objects in jupyterlab.\n",
       " *\n",
       " */\n",
       "\n",
       ":root {\n",
       "  --xr-font-color0: var(--jp-content-font-color0, rgba(0, 0, 0, 1));\n",
       "  --xr-font-color2: var(--jp-content-font-color2, rgba(0, 0, 0, 0.54));\n",
       "  --xr-font-color3: var(--jp-content-font-color3, rgba(0, 0, 0, 0.38));\n",
       "  --xr-border-color: var(--jp-border-color2, #e0e0e0);\n",
       "  --xr-disabled-color: var(--jp-layout-color3, #bdbdbd);\n",
       "  --xr-background-color: var(--jp-layout-color0, white);\n",
       "  --xr-background-color-row-even: var(--jp-layout-color1, white);\n",
       "  --xr-background-color-row-odd: var(--jp-layout-color2, #eeeeee);\n",
       "}\n",
       "\n",
       "html[theme=dark],\n",
       "html[data-theme=dark],\n",
       "body[data-theme=dark],\n",
       "body.vscode-dark {\n",
       "  --xr-font-color0: rgba(255, 255, 255, 1);\n",
       "  --xr-font-color2: rgba(255, 255, 255, 0.54);\n",
       "  --xr-font-color3: rgba(255, 255, 255, 0.38);\n",
       "  --xr-border-color: #1F1F1F;\n",
       "  --xr-disabled-color: #515151;\n",
       "  --xr-background-color: #111111;\n",
       "  --xr-background-color-row-even: #111111;\n",
       "  --xr-background-color-row-odd: #313131;\n",
       "}\n",
       "\n",
       ".xr-wrap {\n",
       "  display: block !important;\n",
       "  min-width: 300px;\n",
       "  max-width: 700px;\n",
       "}\n",
       "\n",
       ".xr-text-repr-fallback {\n",
       "  /* fallback to plain text repr when CSS is not injected (untrusted notebook) */\n",
       "  display: none;\n",
       "}\n",
       "\n",
       ".xr-header {\n",
       "  padding-top: 6px;\n",
       "  padding-bottom: 6px;\n",
       "  margin-bottom: 4px;\n",
       "  border-bottom: solid 1px var(--xr-border-color);\n",
       "}\n",
       "\n",
       ".xr-header > div,\n",
       ".xr-header > ul {\n",
       "  display: inline;\n",
       "  margin-top: 0;\n",
       "  margin-bottom: 0;\n",
       "}\n",
       "\n",
       ".xr-obj-type,\n",
       ".xr-array-name {\n",
       "  margin-left: 2px;\n",
       "  margin-right: 10px;\n",
       "}\n",
       "\n",
       ".xr-obj-type {\n",
       "  color: var(--xr-font-color2);\n",
       "}\n",
       "\n",
       ".xr-sections {\n",
       "  padding-left: 0 !important;\n",
       "  display: grid;\n",
       "  grid-template-columns: 150px auto auto 1fr 20px 20px;\n",
       "}\n",
       "\n",
       ".xr-section-item {\n",
       "  display: contents;\n",
       "}\n",
       "\n",
       ".xr-section-item input {\n",
       "  display: none;\n",
       "}\n",
       "\n",
       ".xr-section-item input + label {\n",
       "  color: var(--xr-disabled-color);\n",
       "}\n",
       "\n",
       ".xr-section-item input:enabled + label {\n",
       "  cursor: pointer;\n",
       "  color: var(--xr-font-color2);\n",
       "}\n",
       "\n",
       ".xr-section-item input:enabled + label:hover {\n",
       "  color: var(--xr-font-color0);\n",
       "}\n",
       "\n",
       ".xr-section-summary {\n",
       "  grid-column: 1;\n",
       "  color: var(--xr-font-color2);\n",
       "  font-weight: 500;\n",
       "}\n",
       "\n",
       ".xr-section-summary > span {\n",
       "  display: inline-block;\n",
       "  padding-left: 0.5em;\n",
       "}\n",
       "\n",
       ".xr-section-summary-in:disabled + label {\n",
       "  color: var(--xr-font-color2);\n",
       "}\n",
       "\n",
       ".xr-section-summary-in + label:before {\n",
       "  display: inline-block;\n",
       "  content: '►';\n",
       "  font-size: 11px;\n",
       "  width: 15px;\n",
       "  text-align: center;\n",
       "}\n",
       "\n",
       ".xr-section-summary-in:disabled + label:before {\n",
       "  color: var(--xr-disabled-color);\n",
       "}\n",
       "\n",
       ".xr-section-summary-in:checked + label:before {\n",
       "  content: '▼';\n",
       "}\n",
       "\n",
       ".xr-section-summary-in:checked + label > span {\n",
       "  display: none;\n",
       "}\n",
       "\n",
       ".xr-section-summary,\n",
       ".xr-section-inline-details {\n",
       "  padding-top: 4px;\n",
       "  padding-bottom: 4px;\n",
       "}\n",
       "\n",
       ".xr-section-inline-details {\n",
       "  grid-column: 2 / -1;\n",
       "}\n",
       "\n",
       ".xr-section-details {\n",
       "  display: none;\n",
       "  grid-column: 1 / -1;\n",
       "  margin-bottom: 5px;\n",
       "}\n",
       "\n",
       ".xr-section-summary-in:checked ~ .xr-section-details {\n",
       "  display: contents;\n",
       "}\n",
       "\n",
       ".xr-array-wrap {\n",
       "  grid-column: 1 / -1;\n",
       "  display: grid;\n",
       "  grid-template-columns: 20px auto;\n",
       "}\n",
       "\n",
       ".xr-array-wrap > label {\n",
       "  grid-column: 1;\n",
       "  vertical-align: top;\n",
       "}\n",
       "\n",
       ".xr-preview {\n",
       "  color: var(--xr-font-color3);\n",
       "}\n",
       "\n",
       ".xr-array-preview,\n",
       ".xr-array-data {\n",
       "  padding: 0 5px !important;\n",
       "  grid-column: 2;\n",
       "}\n",
       "\n",
       ".xr-array-data,\n",
       ".xr-array-in:checked ~ .xr-array-preview {\n",
       "  display: none;\n",
       "}\n",
       "\n",
       ".xr-array-in:checked ~ .xr-array-data,\n",
       ".xr-array-preview {\n",
       "  display: inline-block;\n",
       "}\n",
       "\n",
       ".xr-dim-list {\n",
       "  display: inline-block !important;\n",
       "  list-style: none;\n",
       "  padding: 0 !important;\n",
       "  margin: 0;\n",
       "}\n",
       "\n",
       ".xr-dim-list li {\n",
       "  display: inline-block;\n",
       "  padding: 0;\n",
       "  margin: 0;\n",
       "}\n",
       "\n",
       ".xr-dim-list:before {\n",
       "  content: '(';\n",
       "}\n",
       "\n",
       ".xr-dim-list:after {\n",
       "  content: ')';\n",
       "}\n",
       "\n",
       ".xr-dim-list li:not(:last-child):after {\n",
       "  content: ',';\n",
       "  padding-right: 5px;\n",
       "}\n",
       "\n",
       ".xr-has-index {\n",
       "  font-weight: bold;\n",
       "}\n",
       "\n",
       ".xr-var-list,\n",
       ".xr-var-item {\n",
       "  display: contents;\n",
       "}\n",
       "\n",
       ".xr-var-item > div,\n",
       ".xr-var-item label,\n",
       ".xr-var-item > .xr-var-name span {\n",
       "  background-color: var(--xr-background-color-row-even);\n",
       "  margin-bottom: 0;\n",
       "}\n",
       "\n",
       ".xr-var-item > .xr-var-name:hover span {\n",
       "  padding-right: 5px;\n",
       "}\n",
       "\n",
       ".xr-var-list > li:nth-child(odd) > div,\n",
       ".xr-var-list > li:nth-child(odd) > label,\n",
       ".xr-var-list > li:nth-child(odd) > .xr-var-name span {\n",
       "  background-color: var(--xr-background-color-row-odd);\n",
       "}\n",
       "\n",
       ".xr-var-name {\n",
       "  grid-column: 1;\n",
       "}\n",
       "\n",
       ".xr-var-dims {\n",
       "  grid-column: 2;\n",
       "}\n",
       "\n",
       ".xr-var-dtype {\n",
       "  grid-column: 3;\n",
       "  text-align: right;\n",
       "  color: var(--xr-font-color2);\n",
       "}\n",
       "\n",
       ".xr-var-preview {\n",
       "  grid-column: 4;\n",
       "}\n",
       "\n",
       ".xr-index-preview {\n",
       "  grid-column: 2 / 5;\n",
       "  color: var(--xr-font-color2);\n",
       "}\n",
       "\n",
       ".xr-var-name,\n",
       ".xr-var-dims,\n",
       ".xr-var-dtype,\n",
       ".xr-preview,\n",
       ".xr-attrs dt {\n",
       "  white-space: nowrap;\n",
       "  overflow: hidden;\n",
       "  text-overflow: ellipsis;\n",
       "  padding-right: 10px;\n",
       "}\n",
       "\n",
       ".xr-var-name:hover,\n",
       ".xr-var-dims:hover,\n",
       ".xr-var-dtype:hover,\n",
       ".xr-attrs dt:hover {\n",
       "  overflow: visible;\n",
       "  width: auto;\n",
       "  z-index: 1;\n",
       "}\n",
       "\n",
       ".xr-var-attrs,\n",
       ".xr-var-data,\n",
       ".xr-index-data {\n",
       "  display: none;\n",
       "  background-color: var(--xr-background-color) !important;\n",
       "  padding-bottom: 5px !important;\n",
       "}\n",
       "\n",
       ".xr-var-attrs-in:checked ~ .xr-var-attrs,\n",
       ".xr-var-data-in:checked ~ .xr-var-data,\n",
       ".xr-index-data-in:checked ~ .xr-index-data {\n",
       "  display: block;\n",
       "}\n",
       "\n",
       ".xr-var-data > table {\n",
       "  float: right;\n",
       "}\n",
       "\n",
       ".xr-var-name span,\n",
       ".xr-var-data,\n",
       ".xr-index-name div,\n",
       ".xr-index-data,\n",
       ".xr-attrs {\n",
       "  padding-left: 25px !important;\n",
       "}\n",
       "\n",
       ".xr-attrs,\n",
       ".xr-var-attrs,\n",
       ".xr-var-data,\n",
       ".xr-index-data {\n",
       "  grid-column: 1 / -1;\n",
       "}\n",
       "\n",
       "dl.xr-attrs {\n",
       "  padding: 0;\n",
       "  margin: 0;\n",
       "  display: grid;\n",
       "  grid-template-columns: 125px auto;\n",
       "}\n",
       "\n",
       ".xr-attrs dt,\n",
       ".xr-attrs dd {\n",
       "  padding: 0;\n",
       "  margin: 0;\n",
       "  float: left;\n",
       "  padding-right: 10px;\n",
       "  width: auto;\n",
       "}\n",
       "\n",
       ".xr-attrs dt {\n",
       "  font-weight: normal;\n",
       "  grid-column: 1;\n",
       "}\n",
       "\n",
       ".xr-attrs dt:hover span {\n",
       "  display: inline-block;\n",
       "  background: var(--xr-background-color);\n",
       "  padding-right: 10px;\n",
       "}\n",
       "\n",
       ".xr-attrs dd {\n",
       "  grid-column: 2;\n",
       "  white-space: pre-wrap;\n",
       "  word-break: break-all;\n",
       "}\n",
       "\n",
       ".xr-icon-database,\n",
       ".xr-icon-file-text2,\n",
       ".xr-no-icon {\n",
       "  display: inline-block;\n",
       "  vertical-align: middle;\n",
       "  width: 1em;\n",
       "  height: 1.5em !important;\n",
       "  stroke-width: 0;\n",
       "  stroke: currentColor;\n",
       "  fill: currentColor;\n",
       "}\n",
       "</style><pre class='xr-text-repr-fallback'>&lt;xarray.Dataset&gt; Size: 804MB\n",
       "Dimensions:            (samples: 409, time_steps: 15361, channels: 16)\n",
       "Coordinates:\n",
       "  * samples            (samples) int64 3kB 0 1 2 3 4 5 ... 404 405 406 407 408\n",
       "Dimensions without coordinates: time_steps, channels\n",
       "Data variables:\n",
       "    signal             (samples, time_steps, channels) float64 804MB ...\n",
       "    label              (samples) int64 3kB ...\n",
       "    segments           (samples) int64 3kB ...\n",
       "    patient_names      (samples) &lt;U8 13kB ...\n",
       "    recording_numbers  (samples) int64 3kB ...</pre><div class='xr-wrap' style='display:none'><div class='xr-header'><div class='xr-obj-type'>xarray.Dataset</div></div><ul class='xr-sections'><li class='xr-section-item'><input id='section-a6ffb0a5-3e5a-4f18-a124-4cd127360518' class='xr-section-summary-in' type='checkbox' disabled ><label for='section-a6ffb0a5-3e5a-4f18-a124-4cd127360518' class='xr-section-summary'  title='Expand/collapse section'>Dimensions:</label><div class='xr-section-inline-details'><ul class='xr-dim-list'><li><span class='xr-has-index'>samples</span>: 409</li><li><span>time_steps</span>: 15361</li><li><span>channels</span>: 16</li></ul></div><div class='xr-section-details'></div></li><li class='xr-section-item'><input id='section-8895f888-f676-4acb-a0bd-b2fe0382ae5c' class='xr-section-summary-in' type='checkbox'  checked><label for='section-8895f888-f676-4acb-a0bd-b2fe0382ae5c' class='xr-section-summary' >Coordinates: <span>(1)</span></label><div class='xr-section-inline-details'></div><div class='xr-section-details'><ul class='xr-var-list'><li class='xr-var-item'><div class='xr-var-name'><span class='xr-has-index'>samples</span></div><div class='xr-var-dims'>(samples)</div><div class='xr-var-dtype'>int64</div><div class='xr-var-preview xr-preview'>0 1 2 3 4 5 ... 404 405 406 407 408</div><input id='attrs-45666c24-8034-4fa6-9715-cce5512c2494' class='xr-var-attrs-in' type='checkbox' disabled><label for='attrs-45666c24-8034-4fa6-9715-cce5512c2494' title='Show/Hide attributes'><svg class='icon xr-icon-file-text2'><use xlink:href='#icon-file-text2'></use></svg></label><input id='data-92e34c6e-5077-4b4b-809c-6532988b45db' class='xr-var-data-in' type='checkbox'><label for='data-92e34c6e-5077-4b4b-809c-6532988b45db' title='Show/Hide data repr'><svg class='icon xr-icon-database'><use xlink:href='#icon-database'></use></svg></label><div class='xr-var-attrs'><dl class='xr-attrs'></dl></div><div class='xr-var-data'><pre>array([  0,   1,   2, ..., 406, 407, 408])</pre></div></li></ul></div></li><li class='xr-section-item'><input id='section-198c0015-2820-4050-81ac-59024ffe2ccc' class='xr-section-summary-in' type='checkbox'  checked><label for='section-198c0015-2820-4050-81ac-59024ffe2ccc' class='xr-section-summary' >Data variables: <span>(5)</span></label><div class='xr-section-inline-details'></div><div class='xr-section-details'><ul class='xr-var-list'><li class='xr-var-item'><div class='xr-var-name'><span>signal</span></div><div class='xr-var-dims'>(samples, time_steps, channels)</div><div class='xr-var-dtype'>float64</div><div class='xr-var-preview xr-preview'>...</div><input id='attrs-72c01613-81fc-44b4-817e-af6b7bdd9505' class='xr-var-attrs-in' type='checkbox' disabled><label for='attrs-72c01613-81fc-44b4-817e-af6b7bdd9505' title='Show/Hide attributes'><svg class='icon xr-icon-file-text2'><use xlink:href='#icon-file-text2'></use></svg></label><input id='data-a4ed22f9-780b-46ef-be08-8645b340b081' class='xr-var-data-in' type='checkbox'><label for='data-a4ed22f9-780b-46ef-be08-8645b340b081' title='Show/Hide data repr'><svg class='icon xr-icon-database'><use xlink:href='#icon-database'></use></svg></label><div class='xr-var-attrs'><dl class='xr-attrs'></dl></div><div class='xr-var-data'><pre>[100522384 values with dtype=float64]</pre></div></li><li class='xr-var-item'><div class='xr-var-name'><span>label</span></div><div class='xr-var-dims'>(samples)</div><div class='xr-var-dtype'>int64</div><div class='xr-var-preview xr-preview'>...</div><input id='attrs-dc872d84-d772-423d-aadc-05fecb345d95' class='xr-var-attrs-in' type='checkbox' disabled><label for='attrs-dc872d84-d772-423d-aadc-05fecb345d95' title='Show/Hide attributes'><svg class='icon xr-icon-file-text2'><use xlink:href='#icon-file-text2'></use></svg></label><input id='data-a591b2d6-1ff2-4ad0-9ad0-a2f8deda918c' class='xr-var-data-in' type='checkbox'><label for='data-a591b2d6-1ff2-4ad0-9ad0-a2f8deda918c' title='Show/Hide data repr'><svg class='icon xr-icon-database'><use xlink:href='#icon-database'></use></svg></label><div class='xr-var-attrs'><dl class='xr-attrs'></dl></div><div class='xr-var-data'><pre>[409 values with dtype=int64]</pre></div></li><li class='xr-var-item'><div class='xr-var-name'><span>segments</span></div><div class='xr-var-dims'>(samples)</div><div class='xr-var-dtype'>int64</div><div class='xr-var-preview xr-preview'>...</div><input id='attrs-1b67b136-38d4-48ea-aa93-33078ee66172' class='xr-var-attrs-in' type='checkbox' disabled><label for='attrs-1b67b136-38d4-48ea-aa93-33078ee66172' title='Show/Hide attributes'><svg class='icon xr-icon-file-text2'><use xlink:href='#icon-file-text2'></use></svg></label><input id='data-606c081a-14dc-4ef4-9aba-d44b1f5ae0fe' class='xr-var-data-in' type='checkbox'><label for='data-606c081a-14dc-4ef4-9aba-d44b1f5ae0fe' title='Show/Hide data repr'><svg class='icon xr-icon-database'><use xlink:href='#icon-database'></use></svg></label><div class='xr-var-attrs'><dl class='xr-attrs'></dl></div><div class='xr-var-data'><pre>[409 values with dtype=int64]</pre></div></li><li class='xr-var-item'><div class='xr-var-name'><span>patient_names</span></div><div class='xr-var-dims'>(samples)</div><div class='xr-var-dtype'>&lt;U8</div><div class='xr-var-preview xr-preview'>...</div><input id='attrs-81eeb9a0-b5b9-4db2-90a0-4e7211788e19' class='xr-var-attrs-in' type='checkbox' disabled><label for='attrs-81eeb9a0-b5b9-4db2-90a0-4e7211788e19' title='Show/Hide attributes'><svg class='icon xr-icon-file-text2'><use xlink:href='#icon-file-text2'></use></svg></label><input id='data-d9782165-d270-4c35-865c-0fe0905f2c36' class='xr-var-data-in' type='checkbox'><label for='data-d9782165-d270-4c35-865c-0fe0905f2c36' title='Show/Hide data repr'><svg class='icon xr-icon-database'><use xlink:href='#icon-database'></use></svg></label><div class='xr-var-attrs'><dl class='xr-attrs'></dl></div><div class='xr-var-data'><pre>[409 values with dtype=&lt;U8]</pre></div></li><li class='xr-var-item'><div class='xr-var-name'><span>recording_numbers</span></div><div class='xr-var-dims'>(samples)</div><div class='xr-var-dtype'>int64</div><div class='xr-var-preview xr-preview'>...</div><input id='attrs-9cabe175-274e-4fc8-bd18-4a0706b886eb' class='xr-var-attrs-in' type='checkbox' disabled><label for='attrs-9cabe175-274e-4fc8-bd18-4a0706b886eb' title='Show/Hide attributes'><svg class='icon xr-icon-file-text2'><use xlink:href='#icon-file-text2'></use></svg></label><input id='data-6929d682-fc1c-4afc-9042-5fad98794b4b' class='xr-var-data-in' type='checkbox'><label for='data-6929d682-fc1c-4afc-9042-5fad98794b4b' title='Show/Hide data repr'><svg class='icon xr-icon-database'><use xlink:href='#icon-database'></use></svg></label><div class='xr-var-attrs'><dl class='xr-attrs'></dl></div><div class='xr-var-data'><pre>[409 values with dtype=int64]</pre></div></li></ul></div></li><li class='xr-section-item'><input id='section-96c6f51f-93e5-409b-8be5-1803bbf0d2e4' class='xr-section-summary-in' type='checkbox'  ><label for='section-96c6f51f-93e5-409b-8be5-1803bbf0d2e4' class='xr-section-summary' >Indexes: <span>(1)</span></label><div class='xr-section-inline-details'></div><div class='xr-section-details'><ul class='xr-var-list'><li class='xr-var-item'><div class='xr-index-name'><div>samples</div></div><div class='xr-index-preview'>PandasIndex</div><div></div><input id='index-585097fe-03e9-4ccd-8636-410d40e09638' class='xr-index-data-in' type='checkbox'/><label for='index-585097fe-03e9-4ccd-8636-410d40e09638' title='Show/Hide index repr'><svg class='icon xr-icon-database'><use xlink:href='#icon-database'></use></svg></label><div class='xr-index-data'><pre>PandasIndex(Index([  0,   1,   2,   3,   4,   5,   6,   7,   8,   9,\n",
       "       ...\n",
       "       399, 400, 401, 402, 403, 404, 405, 406, 407, 408],\n",
       "      dtype=&#x27;int64&#x27;, name=&#x27;samples&#x27;, length=409))</pre></div></li></ul></div></li><li class='xr-section-item'><input id='section-b1bc8e1a-2826-4ec6-9a50-9809dce784e4' class='xr-section-summary-in' type='checkbox' disabled ><label for='section-b1bc8e1a-2826-4ec6-9a50-9809dce784e4' class='xr-section-summary'  title='Expand/collapse section'>Attributes: <span>(0)</span></label><div class='xr-section-inline-details'></div><div class='xr-section-details'><dl class='xr-attrs'></dl></div></li></ul></div></div>"
      ],
      "text/plain": [
       "<xarray.Dataset> Size: 804MB\n",
       "Dimensions:            (samples: 409, time_steps: 15361, channels: 16)\n",
       "Coordinates:\n",
       "  * samples            (samples) int64 3kB 0 1 2 3 4 5 ... 404 405 406 407 408\n",
       "Dimensions without coordinates: time_steps, channels\n",
       "Data variables:\n",
       "    signal             (samples, time_steps, channels) float64 804MB ...\n",
       "    label              (samples) int64 3kB ...\n",
       "    segments           (samples) int64 3kB ...\n",
       "    patient_names      (samples) <U8 13kB ...\n",
       "    recording_numbers  (samples) int64 3kB ..."
      ]
     },
     "execution_count": 2,
     "metadata": {},
     "output_type": "execute_result"
    }
   ],
   "source": [
    "dataset = xr.open_dataset(\"../data/dataset_raw2_overlap.nc\")\n",
    "dataset"
   ]
  },
  {
   "cell_type": "code",
   "execution_count": 9,
   "metadata": {},
   "outputs": [],
   "source": [
    "def min_max(m):\n",
    "        min_val = np.min(m)\n",
    "        max_val = np.max(m)\n",
    "\n",
    "        return (m - min_val) / (max_val - min_val)"
   ]
  },
  {
   "cell_type": "code",
   "execution_count": 10,
   "metadata": {},
   "outputs": [
    {
     "data": {
      "text/plain": [
       "(409, 15361, 16)"
      ]
     },
     "execution_count": 10,
     "metadata": {},
     "output_type": "execute_result"
    }
   ],
   "source": [
    "xx = dataset[\"signal\"].to_numpy()\n",
    "xx.shape"
   ]
  },
  {
   "cell_type": "code",
   "execution_count": 11,
   "metadata": {},
   "outputs": [
    {
     "data": {
      "text/plain": [
       "(409, 15361, 16)"
      ]
     },
     "execution_count": 11,
     "metadata": {},
     "output_type": "execute_result"
    }
   ],
   "source": [
    "xm = min_max(xx)\n",
    "xm.shape"
   ]
  },
  {
   "cell_type": "code",
   "execution_count": 13,
   "metadata": {},
   "outputs": [
    {
     "data": {
      "text/plain": [
       "array([0.50569655, 0.50725144, 0.50601467, ..., 0.48146879, 0.48270199,\n",
       "       0.48428905])"
      ]
     },
     "execution_count": 13,
     "metadata": {},
     "output_type": "execute_result"
    }
   ],
   "source": [
    "xm[0, :, 1]"
   ]
  },
  {
   "cell_type": "code",
   "execution_count": 21,
   "metadata": {},
   "outputs": [],
   "source": [
    "df = dataset[[\"label\", \"patient_names\", \"samples\"]].to_dataframe()"
   ]
  },
  {
   "cell_type": "code",
   "execution_count": 22,
   "metadata": {},
   "outputs": [
    {
     "data": {
      "text/plain": [
       "label  patient_names\n",
       "0      amer             25\n",
       "       dhelal           32\n",
       "       mahmud           20\n",
       "       majdolin         26\n",
       "       omran            25\n",
       "1      bader            37\n",
       "       deena             4\n",
       "       duaa             11\n",
       "       mada             24\n",
       "       mohammed         30\n",
       "       nour             29\n",
       "       omar             68\n",
       "       saud             20\n",
       "       shahad           34\n",
       "       yahia            24\n",
       "Name: count, dtype: int64"
      ]
     },
     "execution_count": 22,
     "metadata": {},
     "output_type": "execute_result"
    }
   ],
   "source": [
    "df.value_counts().sort_index()"
   ]
  },
  {
   "cell_type": "code",
   "execution_count": 28,
   "metadata": {},
   "outputs": [],
   "source": [
    "test_dataset = dataset.sel(samples=df[df[\"patient_names\"].isin([\"mahmud\", \"mada\", \"saud\"])].index.tolist())\n",
    "train_dataset = dataset.sel(samples=df[~df[\"patient_names\"].isin([\"mahmud\", \"mada\", \"saud\"])].index.tolist())\n",
    "\n",
    "X_train = train_dataset[\"signal\"].to_numpy()\n",
    "y_train = train_dataset[\"label\"].to_numpy()\n",
    "\n",
    "X_test = test_dataset[\"signal\"].to_numpy()\n",
    "y_test = test_dataset[\"label\"].to_numpy()"
   ]
  },
  {
   "cell_type": "code",
   "execution_count": 29,
   "metadata": {},
   "outputs": [
    {
     "data": {
      "text/plain": [
       "((array([0, 1]), array([108, 237])), (array([0, 1]), array([20, 44])))"
      ]
     },
     "execution_count": 29,
     "metadata": {},
     "output_type": "execute_result"
    }
   ],
   "source": [
    "np.unique(y_train, return_counts=True), np.unique(y_test, return_counts=True)"
   ]
  },
  {
   "cell_type": "code",
   "execution_count": 30,
   "metadata": {},
   "outputs": [
    {
     "data": {
      "text/plain": [
       "['bior1.1',\n",
       " 'bior1.3',\n",
       " 'bior1.5',\n",
       " 'bior2.2',\n",
       " 'bior2.4',\n",
       " 'bior2.6',\n",
       " 'bior2.8',\n",
       " 'bior3.1',\n",
       " 'bior3.3',\n",
       " 'bior3.5',\n",
       " 'bior3.7',\n",
       " 'bior3.9',\n",
       " 'bior4.4',\n",
       " 'bior5.5',\n",
       " 'bior6.8',\n",
       " 'coif1',\n",
       " 'coif2',\n",
       " 'coif3',\n",
       " 'coif4',\n",
       " 'coif5',\n",
       " 'coif6',\n",
       " 'coif7',\n",
       " 'coif8',\n",
       " 'coif9',\n",
       " 'coif10',\n",
       " 'coif11',\n",
       " 'coif12',\n",
       " 'coif13',\n",
       " 'coif14',\n",
       " 'coif15',\n",
       " 'coif16',\n",
       " 'coif17',\n",
       " 'db1',\n",
       " 'db2',\n",
       " 'db3',\n",
       " 'db4',\n",
       " 'db5',\n",
       " 'db6',\n",
       " 'db7',\n",
       " 'db8',\n",
       " 'db9',\n",
       " 'db10',\n",
       " 'db11',\n",
       " 'db12',\n",
       " 'db13',\n",
       " 'db14',\n",
       " 'db15',\n",
       " 'db16',\n",
       " 'db17',\n",
       " 'db18',\n",
       " 'db19',\n",
       " 'db20',\n",
       " 'db21',\n",
       " 'db22',\n",
       " 'db23',\n",
       " 'db24',\n",
       " 'db25',\n",
       " 'db26',\n",
       " 'db27',\n",
       " 'db28',\n",
       " 'db29',\n",
       " 'db30',\n",
       " 'db31',\n",
       " 'db32',\n",
       " 'db33',\n",
       " 'db34',\n",
       " 'db35',\n",
       " 'db36',\n",
       " 'db37',\n",
       " 'db38',\n",
       " 'dmey',\n",
       " 'haar',\n",
       " 'rbio1.1',\n",
       " 'rbio1.3',\n",
       " 'rbio1.5',\n",
       " 'rbio2.2',\n",
       " 'rbio2.4',\n",
       " 'rbio2.6',\n",
       " 'rbio2.8',\n",
       " 'rbio3.1',\n",
       " 'rbio3.3',\n",
       " 'rbio3.5',\n",
       " 'rbio3.7',\n",
       " 'rbio3.9',\n",
       " 'rbio4.4',\n",
       " 'rbio5.5',\n",
       " 'rbio6.8',\n",
       " 'sym2',\n",
       " 'sym3',\n",
       " 'sym4',\n",
       " 'sym5',\n",
       " 'sym6',\n",
       " 'sym7',\n",
       " 'sym8',\n",
       " 'sym9',\n",
       " 'sym10',\n",
       " 'sym11',\n",
       " 'sym12',\n",
       " 'sym13',\n",
       " 'sym14',\n",
       " 'sym15',\n",
       " 'sym16',\n",
       " 'sym17',\n",
       " 'sym18',\n",
       " 'sym19',\n",
       " 'sym20']"
      ]
     },
     "execution_count": 30,
     "metadata": {},
     "output_type": "execute_result"
    }
   ],
   "source": [
    "pywt.wavelist(kind=\"discrete\")"
   ]
  },
  {
   "cell_type": "code",
   "execution_count": 7,
   "metadata": {},
   "outputs": [],
   "source": [
    "# perform decomposition\n",
    "X_train_dec = pywt.wavedec(X_train, \"bior2.6\", axis=1, level=5)\n",
    "X_test_dec = pywt.wavedec(X_test, \"bior2.6\", axis=1, level=5)"
   ]
  },
  {
   "cell_type": "code",
   "execution_count": 8,
   "metadata": {},
   "outputs": [
    {
     "name": "stderr",
     "output_type": "stream",
     "text": [
      "WARNING: All log messages before absl::InitializeLog() is called are written to STDERR\n",
      "I0000 00:00:1724480120.177710  248615 cuda_executor.cc:1001] could not open file to read NUMA node: /sys/bus/pci/devices/0000:01:00.0/numa_node\n",
      "Your kernel may have been built without NUMA support.\n",
      "I0000 00:00:1724480120.206711  248615 cuda_executor.cc:1001] could not open file to read NUMA node: /sys/bus/pci/devices/0000:01:00.0/numa_node\n",
      "Your kernel may have been built without NUMA support.\n",
      "I0000 00:00:1724480120.206820  248615 cuda_executor.cc:1001] could not open file to read NUMA node: /sys/bus/pci/devices/0000:01:00.0/numa_node\n",
      "Your kernel may have been built without NUMA support.\n",
      "I0000 00:00:1724480120.208054  248615 cuda_executor.cc:1001] could not open file to read NUMA node: /sys/bus/pci/devices/0000:01:00.0/numa_node\n",
      "Your kernel may have been built without NUMA support.\n",
      "I0000 00:00:1724480120.208098  248615 cuda_executor.cc:1001] could not open file to read NUMA node: /sys/bus/pci/devices/0000:01:00.0/numa_node\n",
      "Your kernel may have been built without NUMA support.\n",
      "I0000 00:00:1724480120.208128  248615 cuda_executor.cc:1001] could not open file to read NUMA node: /sys/bus/pci/devices/0000:01:00.0/numa_node\n",
      "Your kernel may have been built without NUMA support.\n",
      "I0000 00:00:1724480120.334091  248615 cuda_executor.cc:1001] could not open file to read NUMA node: /sys/bus/pci/devices/0000:01:00.0/numa_node\n",
      "Your kernel may have been built without NUMA support.\n",
      "I0000 00:00:1724480120.334183  248615 cuda_executor.cc:1001] could not open file to read NUMA node: /sys/bus/pci/devices/0000:01:00.0/numa_node\n",
      "Your kernel may have been built without NUMA support.\n",
      "2024-08-24 13:15:20.334194: I tensorflow/core/common_runtime/gpu/gpu_device.cc:2112] Could not identify NUMA node of platform GPU id 0, defaulting to 0.  Your kernel may not have been built with NUMA support.\n",
      "I0000 00:00:1724480120.334247  248615 cuda_executor.cc:1001] could not open file to read NUMA node: /sys/bus/pci/devices/0000:01:00.0/numa_node\n",
      "Your kernel may have been built without NUMA support.\n",
      "2024-08-24 13:15:20.334266: I tensorflow/core/common_runtime/gpu/gpu_device.cc:2021] Created device /job:localhost/replica:0/task:0/device:GPU:0 with 9711 MB memory:  -> device: 0, name: NVIDIA GeForce RTX 3060, pci bus id: 0000:01:00.0, compute capability: 8.6\n"
     ]
    }
   ],
   "source": [
    "train_ds = tf.data.Dataset.from_tensor_slices(({f\"coeff_{i}\":X_train_dec[i] for i in range(len(X_train_dec))}, y_train)).shuffle(X_train.shape[0]).batch(8)\n",
    "test_ds = tf.data.Dataset.from_tensor_slices(({f\"coeff_{i}\":X_test_dec[i] for i in range(len(X_test_dec))}, y_test)).batch(8)"
   ]
  },
  {
   "cell_type": "code",
   "execution_count": 9,
   "metadata": {},
   "outputs": [
    {
     "data": {
      "text/plain": [
       "(<_BatchDataset element_spec=({'coeff_0': TensorSpec(shape=(None, 492, 16), dtype=tf.float64, name=None), 'coeff_1': TensorSpec(shape=(None, 492, 16), dtype=tf.float64, name=None), 'coeff_2': TensorSpec(shape=(None, 972, 16), dtype=tf.float64, name=None), 'coeff_3': TensorSpec(shape=(None, 1931, 16), dtype=tf.float64, name=None), 'coeff_4': TensorSpec(shape=(None, 3850, 16), dtype=tf.float64, name=None), 'coeff_5': TensorSpec(shape=(None, 7687, 16), dtype=tf.float64, name=None)}, TensorSpec(shape=(None,), dtype=tf.int64, name=None))>,\n",
       " <_BatchDataset element_spec=({'coeff_0': TensorSpec(shape=(None, 492, 16), dtype=tf.float64, name=None), 'coeff_1': TensorSpec(shape=(None, 492, 16), dtype=tf.float64, name=None), 'coeff_2': TensorSpec(shape=(None, 972, 16), dtype=tf.float64, name=None), 'coeff_3': TensorSpec(shape=(None, 1931, 16), dtype=tf.float64, name=None), 'coeff_4': TensorSpec(shape=(None, 3850, 16), dtype=tf.float64, name=None), 'coeff_5': TensorSpec(shape=(None, 7687, 16), dtype=tf.float64, name=None)}, TensorSpec(shape=(None,), dtype=tf.int64, name=None))>)"
      ]
     },
     "execution_count": 9,
     "metadata": {},
     "output_type": "execute_result"
    }
   ],
   "source": [
    "train_ds, test_ds"
   ]
  },
  {
   "cell_type": "markdown",
   "metadata": {},
   "source": [
    "## Create Model"
   ]
  },
  {
   "cell_type": "code",
   "execution_count": 10,
   "metadata": {},
   "outputs": [],
   "source": [
    "# create inputs\n",
    "inputs = []\n",
    "\n",
    "for i, coeff in enumerate(X_train_dec):\n",
    "    inputs.append(tf.keras.layers.Input(shape=(coeff.shape[1], coeff.shape[2],), name=f\"coeff_{i}\"))"
   ]
  },
  {
   "cell_type": "code",
   "execution_count": 11,
   "metadata": {},
   "outputs": [],
   "source": [
    "class ConvolutionalBlock(tf.keras.Model):\n",
    "    def __init__(self, kernel_size=128):\n",
    "        super(ConvolutionalBlock, self).__init__()\n",
    "        self.conv1a = tf.keras.layers.Conv1D(64, kernel_size=kernel_size, padding=\"same\")\n",
    "        self.bn1a = tf.keras.layers.BatchNormalization()\n",
    "\n",
    "        self.conv2a = tf.keras.layers.Conv1D(64, kernel_size=kernel_size, padding=\"same\")\n",
    "        self.bn2a = tf.keras.layers.BatchNormalization()\n",
    "\n",
    "        # self.conv3a = tf.keras.layers.Conv1D(64, kernel_size=kernel_size, padding=\"same\")\n",
    "        # self.bn3a = tf.keras.layers.BatchNormalization()\n",
    "\n",
    "        self.convId = tf.keras.layers.Conv1D(64, kernel_size=kernel_size, padding=\"same\")\n",
    "\n",
    "        self.out_pool = tf.keras.layers.MaxPooling1D(pool_size=8, strides=4)\n",
    "\n",
    "    def call(self, inputs, training=False):\n",
    "        x = self.conv1a(inputs, training=training)\n",
    "        x = self.bn1a(x, training=training)\n",
    "        x = tf.nn.relu(x)\n",
    "\n",
    "        x = self.conv2a(x, training=training)\n",
    "        x = self.bn2a(x, training=training)\n",
    "        # x = tf.nn.relu(x)\n",
    "\n",
    "        # x = self.conv3a(x, training=training)\n",
    "        # x = self.bn3a(x, training=training)\n",
    "        # x = tf.nn.relu(x)\n",
    "\n",
    "        x += self.convId(inputs, training=training)\n",
    "        x = tf.nn.relu(x)\n",
    "\n",
    "        x = self.out_pool(x, training=training)\n",
    "        \n",
    "        return x"
   ]
  },
  {
   "cell_type": "code",
   "execution_count": 12,
   "metadata": {},
   "outputs": [],
   "source": [
    "# cA5\n",
    "cA5 = ConvolutionalBlock(kernel_size=64)(inputs[0])\n",
    "\n",
    "# cD5\n",
    "cD5 = ConvolutionalBlock(kernel_size=64)(inputs[1])\n",
    "\n",
    "# cD4\n",
    "cD4 = ConvolutionalBlock(kernel_size=128)(inputs[2])\n",
    "\n",
    "# cD3\n",
    "cD3 = ConvolutionalBlock(kernel_size=128)(inputs[3])\n",
    "\n",
    "# cD2\n",
    "cD2 = ConvolutionalBlock(kernel_size=256)(inputs[4])\n",
    "\n",
    "# cD1\n",
    "cD1 = ConvolutionalBlock(kernel_size=256)(inputs[5])\n",
    "\n",
    "# concat features\n",
    "conc = tf.keras.layers.Concatenate(axis=1)([cA5, cD5, cD4, cD3, cD2, cD1])\n",
    "\n",
    "# classification layer\n",
    "# x = tf.keras.layers.Flatten()(conc)\n",
    "x = tf.keras.layers.GlobalMaxPooling1D()(conc)\n",
    "x = tf.keras.layers.Dense(1024, activation=\"relu\")(x)\n",
    "\n",
    "outputs = tf.keras.layers.Dense(1, activation=\"sigmoid\")(x)\n",
    "\n",
    "model = tf.keras.Model(inputs=inputs, outputs=outputs)"
   ]
  },
  {
   "cell_type": "code",
   "execution_count": 13,
   "metadata": {},
   "outputs": [
    {
     "data": {
      "text/html": [
       "<pre style=\"white-space:pre;overflow-x:auto;line-height:normal;font-family:Menlo,'DejaVu Sans Mono',consolas,'Courier New',monospace\"><span style=\"font-weight: bold\">Model: \"functional\"</span>\n",
       "</pre>\n"
      ],
      "text/plain": [
       "\u001b[1mModel: \"functional\"\u001b[0m\n"
      ]
     },
     "metadata": {},
     "output_type": "display_data"
    },
    {
     "data": {
      "text/html": [
       "<pre style=\"white-space:pre;overflow-x:auto;line-height:normal;font-family:Menlo,'DejaVu Sans Mono',consolas,'Courier New',monospace\">┏━━━━━━━━━━━━━━━━━━━━━┳━━━━━━━━━━━━━━━━━━━┳━━━━━━━━━━━━┳━━━━━━━━━━━━━━━━━━━┓\n",
       "┃<span style=\"font-weight: bold\"> Layer (type)        </span>┃<span style=\"font-weight: bold\"> Output Shape      </span>┃<span style=\"font-weight: bold\">    Param # </span>┃<span style=\"font-weight: bold\"> Connected to      </span>┃\n",
       "┡━━━━━━━━━━━━━━━━━━━━━╇━━━━━━━━━━━━━━━━━━━╇━━━━━━━━━━━━╇━━━━━━━━━━━━━━━━━━━┩\n",
       "│ coeff_0             │ (<span style=\"color: #00d7ff; text-decoration-color: #00d7ff\">None</span>, <span style=\"color: #00af00; text-decoration-color: #00af00\">492</span>, <span style=\"color: #00af00; text-decoration-color: #00af00\">16</span>)   │          <span style=\"color: #00af00; text-decoration-color: #00af00\">0</span> │ -                 │\n",
       "│ (<span style=\"color: #0087ff; text-decoration-color: #0087ff\">InputLayer</span>)        │                   │            │                   │\n",
       "├─────────────────────┼───────────────────┼────────────┼───────────────────┤\n",
       "│ coeff_1             │ (<span style=\"color: #00d7ff; text-decoration-color: #00d7ff\">None</span>, <span style=\"color: #00af00; text-decoration-color: #00af00\">492</span>, <span style=\"color: #00af00; text-decoration-color: #00af00\">16</span>)   │          <span style=\"color: #00af00; text-decoration-color: #00af00\">0</span> │ -                 │\n",
       "│ (<span style=\"color: #0087ff; text-decoration-color: #0087ff\">InputLayer</span>)        │                   │            │                   │\n",
       "├─────────────────────┼───────────────────┼────────────┼───────────────────┤\n",
       "│ coeff_2             │ (<span style=\"color: #00d7ff; text-decoration-color: #00d7ff\">None</span>, <span style=\"color: #00af00; text-decoration-color: #00af00\">972</span>, <span style=\"color: #00af00; text-decoration-color: #00af00\">16</span>)   │          <span style=\"color: #00af00; text-decoration-color: #00af00\">0</span> │ -                 │\n",
       "│ (<span style=\"color: #0087ff; text-decoration-color: #0087ff\">InputLayer</span>)        │                   │            │                   │\n",
       "├─────────────────────┼───────────────────┼────────────┼───────────────────┤\n",
       "│ coeff_3             │ (<span style=\"color: #00d7ff; text-decoration-color: #00d7ff\">None</span>, <span style=\"color: #00af00; text-decoration-color: #00af00\">1931</span>, <span style=\"color: #00af00; text-decoration-color: #00af00\">16</span>)  │          <span style=\"color: #00af00; text-decoration-color: #00af00\">0</span> │ -                 │\n",
       "│ (<span style=\"color: #0087ff; text-decoration-color: #0087ff\">InputLayer</span>)        │                   │            │                   │\n",
       "├─────────────────────┼───────────────────┼────────────┼───────────────────┤\n",
       "│ coeff_4             │ (<span style=\"color: #00d7ff; text-decoration-color: #00d7ff\">None</span>, <span style=\"color: #00af00; text-decoration-color: #00af00\">3850</span>, <span style=\"color: #00af00; text-decoration-color: #00af00\">16</span>)  │          <span style=\"color: #00af00; text-decoration-color: #00af00\">0</span> │ -                 │\n",
       "│ (<span style=\"color: #0087ff; text-decoration-color: #0087ff\">InputLayer</span>)        │                   │            │                   │\n",
       "├─────────────────────┼───────────────────┼────────────┼───────────────────┤\n",
       "│ coeff_5             │ (<span style=\"color: #00d7ff; text-decoration-color: #00d7ff\">None</span>, <span style=\"color: #00af00; text-decoration-color: #00af00\">7687</span>, <span style=\"color: #00af00; text-decoration-color: #00af00\">16</span>)  │          <span style=\"color: #00af00; text-decoration-color: #00af00\">0</span> │ -                 │\n",
       "│ (<span style=\"color: #0087ff; text-decoration-color: #0087ff\">InputLayer</span>)        │                   │            │                   │\n",
       "├─────────────────────┼───────────────────┼────────────┼───────────────────┤\n",
       "│ convolutional_block │ (<span style=\"color: #00d7ff; text-decoration-color: #00d7ff\">None</span>, <span style=\"color: #00af00; text-decoration-color: #00af00\">122</span>, <span style=\"color: #00af00; text-decoration-color: #00af00\">64</span>)   │    <span style=\"color: #00af00; text-decoration-color: #00af00\">393,920</span> │ coeff_0[<span style=\"color: #00af00; text-decoration-color: #00af00\">0</span>][<span style=\"color: #00af00; text-decoration-color: #00af00\">0</span>]     │\n",
       "│ (<span style=\"color: #0087ff; text-decoration-color: #0087ff\">ConvolutionalBloc…</span> │                   │            │                   │\n",
       "├─────────────────────┼───────────────────┼────────────┼───────────────────┤\n",
       "│ convolutional_bloc… │ (<span style=\"color: #00d7ff; text-decoration-color: #00d7ff\">None</span>, <span style=\"color: #00af00; text-decoration-color: #00af00\">122</span>, <span style=\"color: #00af00; text-decoration-color: #00af00\">64</span>)   │    <span style=\"color: #00af00; text-decoration-color: #00af00\">393,920</span> │ coeff_1[<span style=\"color: #00af00; text-decoration-color: #00af00\">0</span>][<span style=\"color: #00af00; text-decoration-color: #00af00\">0</span>]     │\n",
       "│ (<span style=\"color: #0087ff; text-decoration-color: #0087ff\">ConvolutionalBloc…</span> │                   │            │                   │\n",
       "├─────────────────────┼───────────────────┼────────────┼───────────────────┤\n",
       "│ convolutional_bloc… │ (<span style=\"color: #00d7ff; text-decoration-color: #00d7ff\">None</span>, <span style=\"color: #00af00; text-decoration-color: #00af00\">242</span>, <span style=\"color: #00af00; text-decoration-color: #00af00\">64</span>)   │    <span style=\"color: #00af00; text-decoration-color: #00af00\">787,136</span> │ coeff_2[<span style=\"color: #00af00; text-decoration-color: #00af00\">0</span>][<span style=\"color: #00af00; text-decoration-color: #00af00\">0</span>]     │\n",
       "│ (<span style=\"color: #0087ff; text-decoration-color: #0087ff\">ConvolutionalBloc…</span> │                   │            │                   │\n",
       "├─────────────────────┼───────────────────┼────────────┼───────────────────┤\n",
       "│ convolutional_bloc… │ (<span style=\"color: #00d7ff; text-decoration-color: #00d7ff\">None</span>, <span style=\"color: #00af00; text-decoration-color: #00af00\">481</span>, <span style=\"color: #00af00; text-decoration-color: #00af00\">64</span>)   │    <span style=\"color: #00af00; text-decoration-color: #00af00\">787,136</span> │ coeff_3[<span style=\"color: #00af00; text-decoration-color: #00af00\">0</span>][<span style=\"color: #00af00; text-decoration-color: #00af00\">0</span>]     │\n",
       "│ (<span style=\"color: #0087ff; text-decoration-color: #0087ff\">ConvolutionalBloc…</span> │                   │            │                   │\n",
       "├─────────────────────┼───────────────────┼────────────┼───────────────────┤\n",
       "│ convolutional_bloc… │ (<span style=\"color: #00d7ff; text-decoration-color: #00d7ff\">None</span>, <span style=\"color: #00af00; text-decoration-color: #00af00\">961</span>, <span style=\"color: #00af00; text-decoration-color: #00af00\">64</span>)   │  <span style=\"color: #00af00; text-decoration-color: #00af00\">1,573,568</span> │ coeff_4[<span style=\"color: #00af00; text-decoration-color: #00af00\">0</span>][<span style=\"color: #00af00; text-decoration-color: #00af00\">0</span>]     │\n",
       "│ (<span style=\"color: #0087ff; text-decoration-color: #0087ff\">ConvolutionalBloc…</span> │                   │            │                   │\n",
       "├─────────────────────┼───────────────────┼────────────┼───────────────────┤\n",
       "│ convolutional_bloc… │ (<span style=\"color: #00d7ff; text-decoration-color: #00d7ff\">None</span>, <span style=\"color: #00af00; text-decoration-color: #00af00\">1920</span>, <span style=\"color: #00af00; text-decoration-color: #00af00\">64</span>)  │  <span style=\"color: #00af00; text-decoration-color: #00af00\">1,573,568</span> │ coeff_5[<span style=\"color: #00af00; text-decoration-color: #00af00\">0</span>][<span style=\"color: #00af00; text-decoration-color: #00af00\">0</span>]     │\n",
       "│ (<span style=\"color: #0087ff; text-decoration-color: #0087ff\">ConvolutionalBloc…</span> │                   │            │                   │\n",
       "├─────────────────────┼───────────────────┼────────────┼───────────────────┤\n",
       "│ concatenate         │ (<span style=\"color: #00d7ff; text-decoration-color: #00d7ff\">None</span>, <span style=\"color: #00af00; text-decoration-color: #00af00\">3848</span>, <span style=\"color: #00af00; text-decoration-color: #00af00\">64</span>)  │          <span style=\"color: #00af00; text-decoration-color: #00af00\">0</span> │ convolutional_bl… │\n",
       "│ (<span style=\"color: #0087ff; text-decoration-color: #0087ff\">Concatenate</span>)       │                   │            │ convolutional_bl… │\n",
       "│                     │                   │            │ convolutional_bl… │\n",
       "│                     │                   │            │ convolutional_bl… │\n",
       "│                     │                   │            │ convolutional_bl… │\n",
       "│                     │                   │            │ convolutional_bl… │\n",
       "├─────────────────────┼───────────────────┼────────────┼───────────────────┤\n",
       "│ global_max_pooling… │ (<span style=\"color: #00d7ff; text-decoration-color: #00d7ff\">None</span>, <span style=\"color: #00af00; text-decoration-color: #00af00\">64</span>)        │          <span style=\"color: #00af00; text-decoration-color: #00af00\">0</span> │ concatenate[<span style=\"color: #00af00; text-decoration-color: #00af00\">0</span>][<span style=\"color: #00af00; text-decoration-color: #00af00\">0</span>] │\n",
       "│ (<span style=\"color: #0087ff; text-decoration-color: #0087ff\">GlobalMaxPooling1…</span> │                   │            │                   │\n",
       "├─────────────────────┼───────────────────┼────────────┼───────────────────┤\n",
       "│ dense (<span style=\"color: #0087ff; text-decoration-color: #0087ff\">Dense</span>)       │ (<span style=\"color: #00d7ff; text-decoration-color: #00d7ff\">None</span>, <span style=\"color: #00af00; text-decoration-color: #00af00\">1024</span>)      │     <span style=\"color: #00af00; text-decoration-color: #00af00\">66,560</span> │ global_max_pooli… │\n",
       "├─────────────────────┼───────────────────┼────────────┼───────────────────┤\n",
       "│ dense_1 (<span style=\"color: #0087ff; text-decoration-color: #0087ff\">Dense</span>)     │ (<span style=\"color: #00d7ff; text-decoration-color: #00d7ff\">None</span>, <span style=\"color: #00af00; text-decoration-color: #00af00\">1</span>)         │      <span style=\"color: #00af00; text-decoration-color: #00af00\">1,025</span> │ dense[<span style=\"color: #00af00; text-decoration-color: #00af00\">0</span>][<span style=\"color: #00af00; text-decoration-color: #00af00\">0</span>]       │\n",
       "└─────────────────────┴───────────────────┴────────────┴───────────────────┘\n",
       "</pre>\n"
      ],
      "text/plain": [
       "┏━━━━━━━━━━━━━━━━━━━━━┳━━━━━━━━━━━━━━━━━━━┳━━━━━━━━━━━━┳━━━━━━━━━━━━━━━━━━━┓\n",
       "┃\u001b[1m \u001b[0m\u001b[1mLayer (type)       \u001b[0m\u001b[1m \u001b[0m┃\u001b[1m \u001b[0m\u001b[1mOutput Shape     \u001b[0m\u001b[1m \u001b[0m┃\u001b[1m \u001b[0m\u001b[1m   Param #\u001b[0m\u001b[1m \u001b[0m┃\u001b[1m \u001b[0m\u001b[1mConnected to     \u001b[0m\u001b[1m \u001b[0m┃\n",
       "┡━━━━━━━━━━━━━━━━━━━━━╇━━━━━━━━━━━━━━━━━━━╇━━━━━━━━━━━━╇━━━━━━━━━━━━━━━━━━━┩\n",
       "│ coeff_0             │ (\u001b[38;5;45mNone\u001b[0m, \u001b[38;5;34m492\u001b[0m, \u001b[38;5;34m16\u001b[0m)   │          \u001b[38;5;34m0\u001b[0m │ -                 │\n",
       "│ (\u001b[38;5;33mInputLayer\u001b[0m)        │                   │            │                   │\n",
       "├─────────────────────┼───────────────────┼────────────┼───────────────────┤\n",
       "│ coeff_1             │ (\u001b[38;5;45mNone\u001b[0m, \u001b[38;5;34m492\u001b[0m, \u001b[38;5;34m16\u001b[0m)   │          \u001b[38;5;34m0\u001b[0m │ -                 │\n",
       "│ (\u001b[38;5;33mInputLayer\u001b[0m)        │                   │            │                   │\n",
       "├─────────────────────┼───────────────────┼────────────┼───────────────────┤\n",
       "│ coeff_2             │ (\u001b[38;5;45mNone\u001b[0m, \u001b[38;5;34m972\u001b[0m, \u001b[38;5;34m16\u001b[0m)   │          \u001b[38;5;34m0\u001b[0m │ -                 │\n",
       "│ (\u001b[38;5;33mInputLayer\u001b[0m)        │                   │            │                   │\n",
       "├─────────────────────┼───────────────────┼────────────┼───────────────────┤\n",
       "│ coeff_3             │ (\u001b[38;5;45mNone\u001b[0m, \u001b[38;5;34m1931\u001b[0m, \u001b[38;5;34m16\u001b[0m)  │          \u001b[38;5;34m0\u001b[0m │ -                 │\n",
       "│ (\u001b[38;5;33mInputLayer\u001b[0m)        │                   │            │                   │\n",
       "├─────────────────────┼───────────────────┼────────────┼───────────────────┤\n",
       "│ coeff_4             │ (\u001b[38;5;45mNone\u001b[0m, \u001b[38;5;34m3850\u001b[0m, \u001b[38;5;34m16\u001b[0m)  │          \u001b[38;5;34m0\u001b[0m │ -                 │\n",
       "│ (\u001b[38;5;33mInputLayer\u001b[0m)        │                   │            │                   │\n",
       "├─────────────────────┼───────────────────┼────────────┼───────────────────┤\n",
       "│ coeff_5             │ (\u001b[38;5;45mNone\u001b[0m, \u001b[38;5;34m7687\u001b[0m, \u001b[38;5;34m16\u001b[0m)  │          \u001b[38;5;34m0\u001b[0m │ -                 │\n",
       "│ (\u001b[38;5;33mInputLayer\u001b[0m)        │                   │            │                   │\n",
       "├─────────────────────┼───────────────────┼────────────┼───────────────────┤\n",
       "│ convolutional_block │ (\u001b[38;5;45mNone\u001b[0m, \u001b[38;5;34m122\u001b[0m, \u001b[38;5;34m64\u001b[0m)   │    \u001b[38;5;34m393,920\u001b[0m │ coeff_0[\u001b[38;5;34m0\u001b[0m][\u001b[38;5;34m0\u001b[0m]     │\n",
       "│ (\u001b[38;5;33mConvolutionalBloc…\u001b[0m │                   │            │                   │\n",
       "├─────────────────────┼───────────────────┼────────────┼───────────────────┤\n",
       "│ convolutional_bloc… │ (\u001b[38;5;45mNone\u001b[0m, \u001b[38;5;34m122\u001b[0m, \u001b[38;5;34m64\u001b[0m)   │    \u001b[38;5;34m393,920\u001b[0m │ coeff_1[\u001b[38;5;34m0\u001b[0m][\u001b[38;5;34m0\u001b[0m]     │\n",
       "│ (\u001b[38;5;33mConvolutionalBloc…\u001b[0m │                   │            │                   │\n",
       "├─────────────────────┼───────────────────┼────────────┼───────────────────┤\n",
       "│ convolutional_bloc… │ (\u001b[38;5;45mNone\u001b[0m, \u001b[38;5;34m242\u001b[0m, \u001b[38;5;34m64\u001b[0m)   │    \u001b[38;5;34m787,136\u001b[0m │ coeff_2[\u001b[38;5;34m0\u001b[0m][\u001b[38;5;34m0\u001b[0m]     │\n",
       "│ (\u001b[38;5;33mConvolutionalBloc…\u001b[0m │                   │            │                   │\n",
       "├─────────────────────┼───────────────────┼────────────┼───────────────────┤\n",
       "│ convolutional_bloc… │ (\u001b[38;5;45mNone\u001b[0m, \u001b[38;5;34m481\u001b[0m, \u001b[38;5;34m64\u001b[0m)   │    \u001b[38;5;34m787,136\u001b[0m │ coeff_3[\u001b[38;5;34m0\u001b[0m][\u001b[38;5;34m0\u001b[0m]     │\n",
       "│ (\u001b[38;5;33mConvolutionalBloc…\u001b[0m │                   │            │                   │\n",
       "├─────────────────────┼───────────────────┼────────────┼───────────────────┤\n",
       "│ convolutional_bloc… │ (\u001b[38;5;45mNone\u001b[0m, \u001b[38;5;34m961\u001b[0m, \u001b[38;5;34m64\u001b[0m)   │  \u001b[38;5;34m1,573,568\u001b[0m │ coeff_4[\u001b[38;5;34m0\u001b[0m][\u001b[38;5;34m0\u001b[0m]     │\n",
       "│ (\u001b[38;5;33mConvolutionalBloc…\u001b[0m │                   │            │                   │\n",
       "├─────────────────────┼───────────────────┼────────────┼───────────────────┤\n",
       "│ convolutional_bloc… │ (\u001b[38;5;45mNone\u001b[0m, \u001b[38;5;34m1920\u001b[0m, \u001b[38;5;34m64\u001b[0m)  │  \u001b[38;5;34m1,573,568\u001b[0m │ coeff_5[\u001b[38;5;34m0\u001b[0m][\u001b[38;5;34m0\u001b[0m]     │\n",
       "│ (\u001b[38;5;33mConvolutionalBloc…\u001b[0m │                   │            │                   │\n",
       "├─────────────────────┼───────────────────┼────────────┼───────────────────┤\n",
       "│ concatenate         │ (\u001b[38;5;45mNone\u001b[0m, \u001b[38;5;34m3848\u001b[0m, \u001b[38;5;34m64\u001b[0m)  │          \u001b[38;5;34m0\u001b[0m │ convolutional_bl… │\n",
       "│ (\u001b[38;5;33mConcatenate\u001b[0m)       │                   │            │ convolutional_bl… │\n",
       "│                     │                   │            │ convolutional_bl… │\n",
       "│                     │                   │            │ convolutional_bl… │\n",
       "│                     │                   │            │ convolutional_bl… │\n",
       "│                     │                   │            │ convolutional_bl… │\n",
       "├─────────────────────┼───────────────────┼────────────┼───────────────────┤\n",
       "│ global_max_pooling… │ (\u001b[38;5;45mNone\u001b[0m, \u001b[38;5;34m64\u001b[0m)        │          \u001b[38;5;34m0\u001b[0m │ concatenate[\u001b[38;5;34m0\u001b[0m][\u001b[38;5;34m0\u001b[0m] │\n",
       "│ (\u001b[38;5;33mGlobalMaxPooling1…\u001b[0m │                   │            │                   │\n",
       "├─────────────────────┼───────────────────┼────────────┼───────────────────┤\n",
       "│ dense (\u001b[38;5;33mDense\u001b[0m)       │ (\u001b[38;5;45mNone\u001b[0m, \u001b[38;5;34m1024\u001b[0m)      │     \u001b[38;5;34m66,560\u001b[0m │ global_max_pooli… │\n",
       "├─────────────────────┼───────────────────┼────────────┼───────────────────┤\n",
       "│ dense_1 (\u001b[38;5;33mDense\u001b[0m)     │ (\u001b[38;5;45mNone\u001b[0m, \u001b[38;5;34m1\u001b[0m)         │      \u001b[38;5;34m1,025\u001b[0m │ dense[\u001b[38;5;34m0\u001b[0m][\u001b[38;5;34m0\u001b[0m]       │\n",
       "└─────────────────────┴───────────────────┴────────────┴───────────────────┘\n"
      ]
     },
     "metadata": {},
     "output_type": "display_data"
    },
    {
     "data": {
      "text/html": [
       "<pre style=\"white-space:pre;overflow-x:auto;line-height:normal;font-family:Menlo,'DejaVu Sans Mono',consolas,'Courier New',monospace\"><span style=\"font-weight: bold\"> Total params: </span><span style=\"color: #00af00; text-decoration-color: #00af00\">5,576,833</span> (21.27 MB)\n",
       "</pre>\n"
      ],
      "text/plain": [
       "\u001b[1m Total params: \u001b[0m\u001b[38;5;34m5,576,833\u001b[0m (21.27 MB)\n"
      ]
     },
     "metadata": {},
     "output_type": "display_data"
    },
    {
     "data": {
      "text/html": [
       "<pre style=\"white-space:pre;overflow-x:auto;line-height:normal;font-family:Menlo,'DejaVu Sans Mono',consolas,'Courier New',monospace\"><span style=\"font-weight: bold\"> Trainable params: </span><span style=\"color: #00af00; text-decoration-color: #00af00\">5,575,297</span> (21.27 MB)\n",
       "</pre>\n"
      ],
      "text/plain": [
       "\u001b[1m Trainable params: \u001b[0m\u001b[38;5;34m5,575,297\u001b[0m (21.27 MB)\n"
      ]
     },
     "metadata": {},
     "output_type": "display_data"
    },
    {
     "data": {
      "text/html": [
       "<pre style=\"white-space:pre;overflow-x:auto;line-height:normal;font-family:Menlo,'DejaVu Sans Mono',consolas,'Courier New',monospace\"><span style=\"font-weight: bold\"> Non-trainable params: </span><span style=\"color: #00af00; text-decoration-color: #00af00\">1,536</span> (6.00 KB)\n",
       "</pre>\n"
      ],
      "text/plain": [
       "\u001b[1m Non-trainable params: \u001b[0m\u001b[38;5;34m1,536\u001b[0m (6.00 KB)\n"
      ]
     },
     "metadata": {},
     "output_type": "display_data"
    }
   ],
   "source": [
    "model.summary()"
   ]
  },
  {
   "cell_type": "code",
   "execution_count": 31,
   "metadata": {},
   "outputs": [
    {
     "ename": "NameError",
     "evalue": "name 'model' is not defined",
     "output_type": "error",
     "traceback": [
      "\u001b[0;31m---------------------------------------------------------------------------\u001b[0m",
      "\u001b[0;31mNameError\u001b[0m                                 Traceback (most recent call last)",
      "Cell \u001b[0;32mIn[31], line 5\u001b[0m\n\u001b[1;32m      1\u001b[0m \u001b[38;5;66;03m# mp = tf.keras.utils.model_to_dot(model, show_layer_names=True, show_shapes=True, dpi=80)\u001b[39;00m\n\u001b[1;32m      2\u001b[0m \u001b[38;5;66;03m# with open(\"model_plot.dot\", \"w\") as f:\u001b[39;00m\n\u001b[1;32m      3\u001b[0m \u001b[38;5;66;03m#     f.write(mp.to_string())\u001b[39;00m\n\u001b[0;32m----> 5\u001b[0m tf\u001b[38;5;241m.\u001b[39mkeras\u001b[38;5;241m.\u001b[39mutils\u001b[38;5;241m.\u001b[39mplot_model(\u001b[43mmodel\u001b[49m, show_shapes\u001b[38;5;241m=\u001b[39m\u001b[38;5;28;01mTrue\u001b[39;00m, show_layer_names\u001b[38;5;241m=\u001b[39m\u001b[38;5;28;01mTrue\u001b[39;00m, dpi\u001b[38;5;241m=\u001b[39m\u001b[38;5;241m80\u001b[39m)\n",
      "\u001b[0;31mNameError\u001b[0m: name 'model' is not defined"
     ]
    }
   ],
   "source": [
    "# mp = tf.keras.utils.model_to_dot(model, show_layer_names=True, show_shapes=True, dpi=80)\n",
    "# with open(\"model_plot.dot\", \"w\") as f:\n",
    "#     f.write(mp.to_string())\n",
    "\n",
    "tf.keras.utils.plot_model(model, show_shapes=True, show_layer_names=True, dpi=80)"
   ]
  },
  {
   "cell_type": "code",
   "execution_count": 15,
   "metadata": {},
   "outputs": [],
   "source": [
    "model.compile(\n",
    "    optimizer=tf.keras.optimizers.Adam(learning_rate=1e-3),\n",
    "    # loss=tf.keras.losses.BinaryFocalCrossentropy(),\n",
    "    loss=tf.keras.losses.BinaryCrossentropy(),\n",
    "    metrics=[\n",
    "      tf.keras.metrics.TruePositives(name='tp'),\n",
    "      tf.keras.metrics.FalsePositives(name='fp'),\n",
    "      tf.keras.metrics.TrueNegatives(name='tn'),\n",
    "      tf.keras.metrics.FalseNegatives(name='fn'),\n",
    "      tf.keras.metrics.BinaryAccuracy(name='accuracy'),\n",
    "      tf.keras.metrics.Precision(name='precision'),\n",
    "      tf.keras.metrics.Recall(name='recall'),\n",
    "      tf.keras.metrics.AUC(name='auc'),\n",
    "      tf.keras.metrics.AUC(name='prc', curve='PR'), # precision-recall curve\n",
    "])"
   ]
  },
  {
   "cell_type": "code",
   "execution_count": 16,
   "metadata": {},
   "outputs": [
    {
     "name": "stdout",
     "output_type": "stream",
     "text": [
      "Epoch 1/100\n"
     ]
    },
    {
     "name": "stderr",
     "output_type": "stream",
     "text": [
      "WARNING: All log messages before absl::InitializeLog() is called are written to STDERR\n",
      "I0000 00:00:1724480130.122992  248757 service.cc:146] XLA service 0x7f34e008e2b0 initialized for platform CUDA (this does not guarantee that XLA will be used). Devices:\n",
      "I0000 00:00:1724480130.123033  248757 service.cc:154]   StreamExecutor device (0): NVIDIA GeForce RTX 3060, Compute Capability 8.6\n",
      "2024-08-24 13:15:30.368880: I tensorflow/compiler/mlir/tensorflow/utils/dump_mlir_util.cc:268] disabling MLIR crash reproducer, set env var `MLIR_CRASH_REPRODUCER_DIRECTORY` to enable.\n",
      "2024-08-24 13:15:31.346119: I external/local_xla/xla/stream_executor/cuda/cuda_dnn.cc:531] Loaded cuDNN version 8907\n",
      "E0000 00:00:1724480137.932241  248757 gpu_timer.cc:183] Delay kernel timed out: measured time has sub-optimal accuracy. There may be a missing warmup execution, please investigate in Nsight Systems.\n",
      "E0000 00:00:1724480138.250327  248757 gpu_timer.cc:183] Delay kernel timed out: measured time has sub-optimal accuracy. There may be a missing warmup execution, please investigate in Nsight Systems.\n",
      "E0000 00:00:1724480143.012035  248757 gpu_timer.cc:183] Delay kernel timed out: measured time has sub-optimal accuracy. There may be a missing warmup execution, please investigate in Nsight Systems.\n",
      "2024-08-24 13:15:43.181968: E external/local_xla/xla/service/slow_operation_alarm.cc:65] Trying algorithm eng5{} for conv (f32[8,64,1,7688]{3,2,1,0}, u8[0]{0}) custom-call(f32[8,64,1,7687]{3,2,1,0}, f32[64,64,1,256]{3,2,1,0}), window={size=1x256 pad=0_0x127_127}, dim_labels=bf01_oi01->bf01, custom_call_target=\"__cudnn$convBackwardInput\", backend_config={\"operation_queue_id\":\"0\",\"wait_on_operation_queues\":[],\"cudnn_conv_backend_config\":{\"conv_result_scale\":1,\"activation_mode\":\"kNone\",\"side_input_scale\":0,\"leakyrelu_alpha\":0},\"force_earliest_schedule\":false} is taking a while...\n",
      "E0000 00:00:1724480143.510734  248757 gpu_timer.cc:183] Delay kernel timed out: measured time has sub-optimal accuracy. There may be a missing warmup execution, please investigate in Nsight Systems.\n",
      "2024-08-24 13:15:43.547027: E external/local_xla/xla/service/slow_operation_alarm.cc:133] The operation took 1.365184498s\n",
      "Trying algorithm eng5{} for conv (f32[8,64,1,7688]{3,2,1,0}, u8[0]{0}) custom-call(f32[8,64,1,7687]{3,2,1,0}, f32[64,64,1,256]{3,2,1,0}), window={size=1x256 pad=0_0x127_127}, dim_labels=bf01_oi01->bf01, custom_call_target=\"__cudnn$convBackwardInput\", backend_config={\"operation_queue_id\":\"0\",\"wait_on_operation_queues\":[],\"cudnn_conv_backend_config\":{\"conv_result_scale\":1,\"activation_mode\":\"kNone\",\"side_input_scale\":0,\"leakyrelu_alpha\":0},\"force_earliest_schedule\":false} is taking a while...\n",
      "I0000 00:00:1724480156.304157  248757 device_compiler.h:188] Compiled cluster using XLA!  This line is logged at most once for the lifetime of the process.\n"
     ]
    },
    {
     "name": "stdout",
     "output_type": "stream",
     "text": [
      "\u001b[1m34/35\u001b[0m \u001b[32m━━━━━━━━━━━━━━━━━━━\u001b[0m\u001b[37m━\u001b[0m \u001b[1m0s\u001b[0m 128ms/step - accuracy: 0.6659 - auc: 0.5362 - fn: 7.3529 - fp: 38.5882 - loss: 0.7813 - prc: 0.7118 - precision: 0.6812 - recall: 0.8745 - tn: 5.9118 - tp: 88.1471"
     ]
    },
    {
     "name": "stderr",
     "output_type": "stream",
     "text": [
      "E0000 00:00:1724480164.951210  248757 gpu_timer.cc:183] Delay kernel timed out: measured time has sub-optimal accuracy. There may be a missing warmup execution, please investigate in Nsight Systems.\n",
      "E0000 00:00:1724480165.230537  248757 gpu_timer.cc:183] Delay kernel timed out: measured time has sub-optimal accuracy. There may be a missing warmup execution, please investigate in Nsight Systems.\n",
      "2024-08-24 13:16:05.480777: E external/local_xla/xla/service/slow_operation_alarm.cc:65] Trying algorithm eng5{} for conv (f32[2,64,1,3851]{3,2,1,0}, u8[0]{0}) custom-call(f32[2,64,1,3850]{3,2,1,0}, f32[64,64,1,256]{3,2,1,0}), window={size=1x256 pad=0_0x127_127}, dim_labels=bf01_oi01->bf01, custom_call_target=\"__cudnn$convBackwardInput\", backend_config={\"operation_queue_id\":\"0\",\"wait_on_operation_queues\":[],\"cudnn_conv_backend_config\":{\"conv_result_scale\":1,\"activation_mode\":\"kNone\",\"side_input_scale\":0,\"leakyrelu_alpha\":0},\"force_earliest_schedule\":false} is taking a while...\n",
      "E0000 00:00:1724480165.512283  248757 gpu_timer.cc:183] Delay kernel timed out: measured time has sub-optimal accuracy. There may be a missing warmup execution, please investigate in Nsight Systems.\n",
      "2024-08-24 13:16:05.545955: E external/local_xla/xla/service/slow_operation_alarm.cc:133] The operation took 1.065261493s\n",
      "Trying algorithm eng5{} for conv (f32[2,64,1,3851]{3,2,1,0}, u8[0]{0}) custom-call(f32[2,64,1,3850]{3,2,1,0}, f32[64,64,1,256]{3,2,1,0}), window={size=1x256 pad=0_0x127_127}, dim_labels=bf01_oi01->bf01, custom_call_target=\"__cudnn$convBackwardInput\", backend_config={\"operation_queue_id\":\"0\",\"wait_on_operation_queues\":[],\"cudnn_conv_backend_config\":{\"conv_result_scale\":1,\"activation_mode\":\"kNone\",\"side_input_scale\":0,\"leakyrelu_alpha\":0},\"force_earliest_schedule\":false} is taking a while...\n",
      "E0000 00:00:1724480167.483837  248757 gpu_timer.cc:183] Delay kernel timed out: measured time has sub-optimal accuracy. There may be a missing warmup execution, please investigate in Nsight Systems.\n",
      "2024-08-24 13:16:07.519523: E external/local_xla/xla/service/slow_operation_alarm.cc:65] Trying algorithm eng5{} for conv (f32[2,64,1,7688]{3,2,1,0}, u8[0]{0}) custom-call(f32[2,64,1,7687]{3,2,1,0}, f32[64,64,1,256]{3,2,1,0}), window={size=1x256 pad=0_0x127_127}, dim_labels=bf01_oi01->bf01, custom_call_target=\"__cudnn$convBackwardInput\", backend_config={\"operation_queue_id\":\"0\",\"wait_on_operation_queues\":[],\"cudnn_conv_backend_config\":{\"conv_result_scale\":1,\"activation_mode\":\"kNone\",\"side_input_scale\":0,\"leakyrelu_alpha\":0},\"force_earliest_schedule\":false} is taking a while...\n",
      "E0000 00:00:1724480167.924662  248757 gpu_timer.cc:183] Delay kernel timed out: measured time has sub-optimal accuracy. There may be a missing warmup execution, please investigate in Nsight Systems.\n",
      "E0000 00:00:1724480168.415417  248757 gpu_timer.cc:183] Delay kernel timed out: measured time has sub-optimal accuracy. There may be a missing warmup execution, please investigate in Nsight Systems.\n",
      "E0000 00:00:1724480168.881054  248757 gpu_timer.cc:183] Delay kernel timed out: measured time has sub-optimal accuracy. There may be a missing warmup execution, please investigate in Nsight Systems.\n",
      "2024-08-24 13:16:08.916121: E external/local_xla/xla/service/slow_operation_alarm.cc:133] The operation took 2.396700184s\n",
      "Trying algorithm eng5{} for conv (f32[2,64,1,7688]{3,2,1,0}, u8[0]{0}) custom-call(f32[2,64,1,7687]{3,2,1,0}, f32[64,64,1,256]{3,2,1,0}), window={size=1x256 pad=0_0x127_127}, dim_labels=bf01_oi01->bf01, custom_call_target=\"__cudnn$convBackwardInput\", backend_config={\"operation_queue_id\":\"0\",\"wait_on_operation_queues\":[],\"cudnn_conv_backend_config\":{\"conv_result_scale\":1,\"activation_mode\":\"kNone\",\"side_input_scale\":0,\"leakyrelu_alpha\":0},\"force_earliest_schedule\":false} is taking a while...\n"
     ]
    },
    {
     "name": "stdout",
     "output_type": "stream",
     "text": [
      "\u001b[1m35/35\u001b[0m \u001b[32m━━━━━━━━━━━━━━━━━━━━\u001b[0m\u001b[37m\u001b[0m \u001b[1m0s\u001b[0m 571ms/step - accuracy: 0.6660 - auc: 0.5363 - fn: 7.4857 - fp: 39.7143 - loss: 0.7788 - prc: 0.7124 - precision: 0.6816 - recall: 0.8763 - tn: 5.9714 - tp: 90.6571"
     ]
    },
    {
     "name": "stderr",
     "output_type": "stream",
     "text": [
      "E0000 00:00:1724480180.074491  248755 gpu_timer.cc:183] Delay kernel timed out: measured time has sub-optimal accuracy. There may be a missing warmup execution, please investigate in Nsight Systems.\n",
      "E0000 00:00:1724480180.314497  248755 gpu_timer.cc:183] Delay kernel timed out: measured time has sub-optimal accuracy. There may be a missing warmup execution, please investigate in Nsight Systems.\n",
      "E0000 00:00:1724480180.554386  248755 gpu_timer.cc:183] Delay kernel timed out: measured time has sub-optimal accuracy. There may be a missing warmup execution, please investigate in Nsight Systems.\n",
      "2024-08-24 13:16:20.714868: E external/local_xla/xla/service/slow_operation_alarm.cc:65] Trying algorithm eng13{} for conv (f32[8,64,1,3850]{3,2,1,0}, u8[0]{0}) custom-call(f32[8,16,1,4105]{3,2,1,0}, f32[64,16,1,256]{3,2,1,0}, f32[64]{0}, f32[8,64,1,3850]{3,2,1,0}), window={size=1x256}, dim_labels=bf01_oi01->bf01, custom_call_target=\"__cudnn$convBiasActivationForward\", backend_config={\"operation_queue_id\":\"0\",\"wait_on_operation_queues\":[],\"cudnn_conv_backend_config\":{\"conv_result_scale\":1,\"activation_mode\":\"kRelu\",\"side_input_scale\":1,\"leakyrelu_alpha\":0},\"force_earliest_schedule\":false} is taking a while...\n",
      "E0000 00:00:1724480180.795846  248755 gpu_timer.cc:183] Delay kernel timed out: measured time has sub-optimal accuracy. There may be a missing warmup execution, please investigate in Nsight Systems.\n",
      "E0000 00:00:1724480181.031908  248755 gpu_timer.cc:183] Delay kernel timed out: measured time has sub-optimal accuracy. There may be a missing warmup execution, please investigate in Nsight Systems.\n",
      "E0000 00:00:1724480181.268580  248755 gpu_timer.cc:183] Delay kernel timed out: measured time has sub-optimal accuracy. There may be a missing warmup execution, please investigate in Nsight Systems.\n",
      "2024-08-24 13:16:21.277434: E external/local_xla/xla/service/slow_operation_alarm.cc:133] The operation took 1.562648594s\n",
      "Trying algorithm eng13{} for conv (f32[8,64,1,3850]{3,2,1,0}, u8[0]{0}) custom-call(f32[8,16,1,4105]{3,2,1,0}, f32[64,16,1,256]{3,2,1,0}, f32[64]{0}, f32[8,64,1,3850]{3,2,1,0}), window={size=1x256}, dim_labels=bf01_oi01->bf01, custom_call_target=\"__cudnn$convBiasActivationForward\", backend_config={\"operation_queue_id\":\"0\",\"wait_on_operation_queues\":[],\"cudnn_conv_backend_config\":{\"conv_result_scale\":1,\"activation_mode\":\"kRelu\",\"side_input_scale\":1,\"leakyrelu_alpha\":0},\"force_earliest_schedule\":false} is taking a while...\n",
      "E0000 00:00:1724480182.529765  248755 gpu_timer.cc:183] Delay kernel timed out: measured time has sub-optimal accuracy. There may be a missing warmup execution, please investigate in Nsight Systems.\n",
      "2024-08-24 13:16:22.899701: E external/local_xla/xla/service/slow_operation_alarm.cc:65] Trying algorithm eng13{} for conv (f32[8,64,1,7687]{3,2,1,0}, u8[0]{0}) custom-call(f32[8,16,1,7942]{3,2,1,0}, f32[64,16,1,256]{3,2,1,0}, f32[64]{0}, f32[8,64,1,7687]{3,2,1,0}), window={size=1x256}, dim_labels=bf01_oi01->bf01, custom_call_target=\"__cudnn$convBiasActivationForward\", backend_config={\"operation_queue_id\":\"0\",\"wait_on_operation_queues\":[],\"cudnn_conv_backend_config\":{\"conv_result_scale\":1,\"activation_mode\":\"kRelu\",\"side_input_scale\":1,\"leakyrelu_alpha\":0},\"force_earliest_schedule\":false} is taking a while...\n",
      "E0000 00:00:1724480182.944738  248755 gpu_timer.cc:183] Delay kernel timed out: measured time has sub-optimal accuracy. There may be a missing warmup execution, please investigate in Nsight Systems.\n",
      "E0000 00:00:1724480183.312630  248755 gpu_timer.cc:183] Delay kernel timed out: measured time has sub-optimal accuracy. There may be a missing warmup execution, please investigate in Nsight Systems.\n",
      "2024-08-24 13:16:23.322089: E external/local_xla/xla/service/slow_operation_alarm.cc:133] The operation took 1.422468797s\n",
      "Trying algorithm eng13{} for conv (f32[8,64,1,7687]{3,2,1,0}, u8[0]{0}) custom-call(f32[8,16,1,7942]{3,2,1,0}, f32[64,16,1,256]{3,2,1,0}, f32[64]{0}, f32[8,64,1,7687]{3,2,1,0}), window={size=1x256}, dim_labels=bf01_oi01->bf01, custom_call_target=\"__cudnn$convBiasActivationForward\", backend_config={\"operation_queue_id\":\"0\",\"wait_on_operation_queues\":[],\"cudnn_conv_backend_config\":{\"conv_result_scale\":1,\"activation_mode\":\"kRelu\",\"side_input_scale\":1,\"leakyrelu_alpha\":0},\"force_earliest_schedule\":false} is taking a while...\n",
      "E0000 00:00:1724480187.417883  248758 gpu_timer.cc:183] Delay kernel timed out: measured time has sub-optimal accuracy. There may be a missing warmup execution, please investigate in Nsight Systems.\n",
      "E0000 00:00:1724480187.650701  248758 gpu_timer.cc:183] Delay kernel timed out: measured time has sub-optimal accuracy. There may be a missing warmup execution, please investigate in Nsight Systems.\n",
      "E0000 00:00:1724480187.971639  248758 gpu_timer.cc:183] Delay kernel timed out: measured time has sub-optimal accuracy. There may be a missing warmup execution, please investigate in Nsight Systems.\n",
      "2024-08-24 13:16:28.020009: E external/local_xla/xla/service/slow_operation_alarm.cc:65] Trying algorithm eng13{} for conv (f32[7,64,1,3850]{3,2,1,0}, u8[0]{0}) custom-call(f32[7,16,1,4105]{3,2,1,0}, f32[64,16,1,256]{3,2,1,0}, f32[64]{0}, f32[7,64,1,3850]{3,2,1,0}), window={size=1x256}, dim_labels=bf01_oi01->bf01, custom_call_target=\"__cudnn$convBiasActivationForward\", backend_config={\"operation_queue_id\":\"0\",\"wait_on_operation_queues\":[],\"cudnn_conv_backend_config\":{\"conv_result_scale\":1,\"activation_mode\":\"kRelu\",\"side_input_scale\":1,\"leakyrelu_alpha\":0},\"force_earliest_schedule\":false} is taking a while...\n",
      "E0000 00:00:1724480188.209242  248758 gpu_timer.cc:183] Delay kernel timed out: measured time has sub-optimal accuracy. There may be a missing warmup execution, please investigate in Nsight Systems.\n",
      "2024-08-24 13:16:28.219074: E external/local_xla/xla/service/slow_operation_alarm.cc:133] The operation took 1.199159397s\n",
      "Trying algorithm eng13{} for conv (f32[7,64,1,3850]{3,2,1,0}, u8[0]{0}) custom-call(f32[7,16,1,4105]{3,2,1,0}, f32[64,16,1,256]{3,2,1,0}, f32[64]{0}, f32[7,64,1,3850]{3,2,1,0}), window={size=1x256}, dim_labels=bf01_oi01->bf01, custom_call_target=\"__cudnn$convBiasActivationForward\", backend_config={\"operation_queue_id\":\"0\",\"wait_on_operation_queues\":[],\"cudnn_conv_backend_config\":{\"conv_result_scale\":1,\"activation_mode\":\"kRelu\",\"side_input_scale\":1,\"leakyrelu_alpha\":0},\"force_earliest_schedule\":false} is taking a while...\n",
      "E0000 00:00:1724480190.704409  248758 gpu_timer.cc:183] Delay kernel timed out: measured time has sub-optimal accuracy. There may be a missing warmup execution, please investigate in Nsight Systems.\n",
      "2024-08-24 13:16:30.799728: E external/local_xla/xla/service/slow_operation_alarm.cc:65] Trying algorithm eng13{} for conv (f32[7,64,1,7687]{3,2,1,0}, u8[0]{0}) custom-call(f32[7,16,1,7942]{3,2,1,0}, f32[64,16,1,256]{3,2,1,0}, f32[64]{0}, f32[7,64,1,7687]{3,2,1,0}), window={size=1x256}, dim_labels=bf01_oi01->bf01, custom_call_target=\"__cudnn$convBiasActivationForward\", backend_config={\"operation_queue_id\":\"0\",\"wait_on_operation_queues\":[],\"cudnn_conv_backend_config\":{\"conv_result_scale\":1,\"activation_mode\":\"kRelu\",\"side_input_scale\":1,\"leakyrelu_alpha\":0},\"force_earliest_schedule\":false} is taking a while...\n",
      "E0000 00:00:1724480191.371516  248758 gpu_timer.cc:183] Delay kernel timed out: measured time has sub-optimal accuracy. There may be a missing warmup execution, please investigate in Nsight Systems.\n",
      "E0000 00:00:1724480191.751903  248758 gpu_timer.cc:183] Delay kernel timed out: measured time has sub-optimal accuracy. There may be a missing warmup execution, please investigate in Nsight Systems.\n",
      "E0000 00:00:1724480192.153441  248758 gpu_timer.cc:183] Delay kernel timed out: measured time has sub-optimal accuracy. There may be a missing warmup execution, please investigate in Nsight Systems.\n",
      "E0000 00:00:1724480192.568999  248758 gpu_timer.cc:183] Delay kernel timed out: measured time has sub-optimal accuracy. There may be a missing warmup execution, please investigate in Nsight Systems.\n",
      "E0000 00:00:1724480192.972246  248758 gpu_timer.cc:183] Delay kernel timed out: measured time has sub-optimal accuracy. There may be a missing warmup execution, please investigate in Nsight Systems.\n",
      "E0000 00:00:1724480193.497785  248758 gpu_timer.cc:183] Delay kernel timed out: measured time has sub-optimal accuracy. There may be a missing warmup execution, please investigate in Nsight Systems.\n",
      "E0000 00:00:1724480193.863666  248758 gpu_timer.cc:183] Delay kernel timed out: measured time has sub-optimal accuracy. There may be a missing warmup execution, please investigate in Nsight Systems.\n",
      "2024-08-24 13:16:33.872729: E external/local_xla/xla/service/slow_operation_alarm.cc:133] The operation took 4.073159372s\n",
      "Trying algorithm eng13{} for conv (f32[7,64,1,7687]{3,2,1,0}, u8[0]{0}) custom-call(f32[7,16,1,7942]{3,2,1,0}, f32[64,16,1,256]{3,2,1,0}, f32[64]{0}, f32[7,64,1,7687]{3,2,1,0}), window={size=1x256}, dim_labels=bf01_oi01->bf01, custom_call_target=\"__cudnn$convBiasActivationForward\", backend_config={\"operation_queue_id\":\"0\",\"wait_on_operation_queues\":[],\"cudnn_conv_backend_config\":{\"conv_result_scale\":1,\"activation_mode\":\"kRelu\",\"side_input_scale\":1,\"leakyrelu_alpha\":0},\"force_earliest_schedule\":false} is taking a while...\n"
     ]
    },
    {
     "name": "stdout",
     "output_type": "stream",
     "text": [
      "\u001b[1m35/35\u001b[0m \u001b[32m━━━━━━━━━━━━━━━━━━━━\u001b[0m\u001b[37m\u001b[0m \u001b[1m73s\u001b[0m 1s/step - accuracy: 0.6662 - auc: 0.5364 - fn: 7.6111 - fp: 40.7778 - loss: 0.7764 - prc: 0.7129 - precision: 0.6819 - recall: 0.8779 - tn: 6.0278 - tp: 93.0278 - val_accuracy: 0.6889 - val_auc: 0.5376 - val_fn: 0.0000e+00 - val_fp: 42.0000 - val_loss: 0.6753 - val_prc: 0.7457 - val_precision: 0.6889 - val_recall: 1.0000 - val_tn: 0.0000e+00 - val_tp: 93.0000\n",
      "Epoch 2/100\n",
      "\u001b[1m35/35\u001b[0m \u001b[32m━━━━━━━━━━━━━━━━━━━━\u001b[0m\u001b[37m\u001b[0m \u001b[1m6s\u001b[0m 173ms/step - accuracy: 0.7633 - auc: 0.6629 - fn: 6.1111 - fp: 33.3889 - loss: 0.5382 - prc: 0.8500 - precision: 0.7737 - recall: 0.9486 - tn: 10.8056 - tp: 97.1389 - val_accuracy: 0.6889 - val_auc: 0.5699 - val_fn: 0.0000e+00 - val_fp: 42.0000 - val_loss: 0.6816 - val_prc: 0.7777 - val_precision: 0.6889 - val_recall: 1.0000 - val_tn: 0.0000e+00 - val_tp: 93.0000\n",
      "Epoch 3/100\n",
      "\u001b[1m35/35\u001b[0m \u001b[32m━━━━━━━━━━━━━━━━━━━━\u001b[0m\u001b[37m\u001b[0m \u001b[1m6s\u001b[0m 172ms/step - accuracy: 0.7475 - auc: 0.7917 - fn: 9.6111 - fp: 28.7222 - loss: 0.5257 - prc: 0.8677 - precision: 0.7498 - recall: 0.9210 - tn: 21.0833 - tp: 88.0278 - val_accuracy: 0.6889 - val_auc: 0.6114 - val_fn: 0.0000e+00 - val_fp: 42.0000 - val_loss: 0.6581 - val_prc: 0.8116 - val_precision: 0.6889 - val_recall: 1.0000 - val_tn: 0.0000e+00 - val_tp: 93.0000\n",
      "Epoch 4/100\n",
      "\u001b[1m35/35\u001b[0m \u001b[32m━━━━━━━━━━━━━━━━━━━━\u001b[0m\u001b[37m\u001b[0m \u001b[1m6s\u001b[0m 179ms/step - accuracy: 0.7608 - auc: 0.7349 - fn: 8.8889 - fp: 27.6111 - loss: 0.5665 - prc: 0.8762 - precision: 0.7703 - recall: 0.9295 - tn: 20.4444 - tp: 90.5000 - val_accuracy: 0.6889 - val_auc: 0.6064 - val_fn: 0.0000e+00 - val_fp: 42.0000 - val_loss: 0.6716 - val_prc: 0.8038 - val_precision: 0.6889 - val_recall: 1.0000 - val_tn: 0.0000e+00 - val_tp: 93.0000\n",
      "Epoch 5/100\n",
      "\u001b[1m35/35\u001b[0m \u001b[32m━━━━━━━━━━━━━━━━━━━━\u001b[0m\u001b[37m\u001b[0m \u001b[1m6s\u001b[0m 178ms/step - accuracy: 0.8129 - auc: 0.9350 - fn: 2.6111 - fp: 24.6667 - loss: 0.3401 - prc: 0.9644 - precision: 0.7928 - recall: 0.9785 - tn: 22.7500 - tp: 97.4167 - val_accuracy: 0.6889 - val_auc: 0.7039 - val_fn: 0.0000e+00 - val_fp: 42.0000 - val_loss: 0.6260 - val_prc: 0.8489 - val_precision: 0.6889 - val_recall: 1.0000 - val_tn: 0.0000e+00 - val_tp: 93.0000\n",
      "Epoch 6/100\n",
      "\u001b[1m35/35\u001b[0m \u001b[32m━━━━━━━━━━━━━━━━━━━━\u001b[0m\u001b[37m\u001b[0m \u001b[1m6s\u001b[0m 181ms/step - accuracy: 0.8553 - auc: 0.9488 - fn: 10.6944 - fp: 11.7500 - loss: 0.2899 - prc: 0.9772 - precision: 0.9151 - recall: 0.8774 - tn: 34.3611 - tp: 90.6389 - val_accuracy: 0.6889 - val_auc: 0.7076 - val_fn: 0.0000e+00 - val_fp: 42.0000 - val_loss: 0.6100 - val_prc: 0.8610 - val_precision: 0.6889 - val_recall: 1.0000 - val_tn: 0.0000e+00 - val_tp: 93.0000\n",
      "Epoch 7/100\n",
      "\u001b[1m35/35\u001b[0m \u001b[32m━━━━━━━━━━━━━━━━━━━━\u001b[0m\u001b[37m\u001b[0m \u001b[1m6s\u001b[0m 175ms/step - accuracy: 0.8519 - auc: 0.9188 - fn: 6.6111 - fp: 15.0556 - loss: 0.3560 - prc: 0.9603 - precision: 0.8584 - recall: 0.9451 - tn: 30.8333 - tp: 94.9444 - val_accuracy: 0.6222 - val_auc: 0.5415 - val_fn: 10.0000 - val_fp: 41.0000 - val_loss: 0.6767 - val_prc: 0.7382 - val_precision: 0.6694 - val_recall: 0.8925 - val_tn: 1.0000 - val_tp: 83.0000\n",
      "Epoch 8/100\n",
      "\u001b[1m35/35\u001b[0m \u001b[32m━━━━━━━━━━━━━━━━━━━━\u001b[0m\u001b[37m\u001b[0m \u001b[1m6s\u001b[0m 178ms/step - accuracy: 0.9107 - auc: 0.9883 - fn: 1.5000 - fp: 10.2778 - loss: 0.1768 - prc: 0.9946 - precision: 0.8931 - recall: 0.9831 - tn: 37.6389 - tp: 98.0278 - val_accuracy: 0.6296 - val_auc: 0.5988 - val_fn: 26.0000 - val_fp: 24.0000 - val_loss: 0.7090 - val_prc: 0.8044 - val_precision: 0.7363 - val_recall: 0.7204 - val_tn: 18.0000 - val_tp: 67.0000\n",
      "Epoch 9/100\n",
      "\u001b[1m35/35\u001b[0m \u001b[32m━━━━━━━━━━━━━━━━━━━━\u001b[0m\u001b[37m\u001b[0m \u001b[1m6s\u001b[0m 181ms/step - accuracy: 0.9482 - auc: 0.9940 - fn: 3.5000 - fp: 4.3611 - loss: 0.1205 - prc: 0.9973 - precision: 0.9661 - recall: 0.9574 - tn: 42.0556 - tp: 97.5278 - val_accuracy: 0.7037 - val_auc: 0.8102 - val_fn: 0.0000e+00 - val_fp: 40.0000 - val_loss: 0.6115 - val_prc: 0.9064 - val_precision: 0.6992 - val_recall: 1.0000 - val_tn: 2.0000 - val_tp: 93.0000\n",
      "Epoch 10/100\n",
      "\u001b[1m35/35\u001b[0m \u001b[32m━━━━━━━━━━━━━━━━━━━━\u001b[0m\u001b[37m\u001b[0m \u001b[1m6s\u001b[0m 178ms/step - accuracy: 1.0000 - auc: 1.0000 - fn: 0.0000e+00 - fp: 0.0000e+00 - loss: 0.0537 - prc: 1.0000 - precision: 1.0000 - recall: 1.0000 - tn: 48.7222 - tp: 98.7222 - val_accuracy: 0.6963 - val_auc: 0.8981 - val_fn: 0.0000e+00 - val_fp: 41.0000 - val_loss: 0.5765 - val_prc: 0.9517 - val_precision: 0.6940 - val_recall: 1.0000 - val_tn: 1.0000 - val_tp: 93.0000\n",
      "Epoch 11/100\n",
      "\u001b[1m35/35\u001b[0m \u001b[32m━━━━━━━━━━━━━━━━━━━━\u001b[0m\u001b[37m\u001b[0m \u001b[1m6s\u001b[0m 183ms/step - accuracy: 0.9943 - auc: 1.0000 - fn: 0.0000e+00 - fp: 0.9444 - loss: 0.0324 - prc: 1.0000 - precision: 0.9921 - recall: 1.0000 - tn: 41.6111 - tp: 104.8889 - val_accuracy: 0.6889 - val_auc: 0.8379 - val_fn: 0.0000e+00 - val_fp: 42.0000 - val_loss: 0.7531 - val_prc: 0.9186 - val_precision: 0.6889 - val_recall: 1.0000 - val_tn: 0.0000e+00 - val_tp: 93.0000\n",
      "Epoch 12/100\n",
      "\u001b[1m35/35\u001b[0m \u001b[32m━━━━━━━━━━━━━━━━━━━━\u001b[0m\u001b[37m\u001b[0m \u001b[1m6s\u001b[0m 174ms/step - accuracy: 0.9817 - auc: 0.9911 - fn: 1.1667 - fp: 2.7778 - loss: 0.1120 - prc: 0.9952 - precision: 0.9820 - recall: 0.9915 - tn: 45.7222 - tp: 97.7778 - val_accuracy: 0.5704 - val_auc: 0.4981 - val_fn: 17.0000 - val_fp: 41.0000 - val_loss: 1.0849 - val_prc: 0.7056 - val_precision: 0.6496 - val_recall: 0.8172 - val_tn: 1.0000 - val_tp: 76.0000\n",
      "Epoch 13/100\n",
      "\u001b[1m35/35\u001b[0m \u001b[32m━━━━━━━━━━━━━━━━━━━━\u001b[0m\u001b[37m\u001b[0m \u001b[1m6s\u001b[0m 173ms/step - accuracy: 0.8903 - auc: 0.9381 - fn: 4.7778 - fp: 12.3056 - loss: 0.3400 - prc: 0.9558 - precision: 0.8869 - recall: 0.9643 - tn: 35.4167 - tp: 94.9444 - val_accuracy: 0.6889 - val_auc: 0.5000 - val_fn: 0.0000e+00 - val_fp: 42.0000 - val_loss: 9.5054 - val_prc: 0.6889 - val_precision: 0.6889 - val_recall: 1.0000 - val_tn: 0.0000e+00 - val_tp: 93.0000\n",
      "Epoch 14/100\n",
      "\u001b[1m35/35\u001b[0m \u001b[32m━━━━━━━━━━━━━━━━━━━━\u001b[0m\u001b[37m\u001b[0m \u001b[1m6s\u001b[0m 173ms/step - accuracy: 0.9045 - auc: 0.9435 - fn: 9.2778 - fp: 5.9167 - loss: 0.2553 - prc: 0.9885 - precision: 0.9582 - recall: 0.9037 - tn: 39.3056 - tp: 92.9444 - val_accuracy: 0.6889 - val_auc: 0.5000 - val_fn: 0.0000e+00 - val_fp: 42.0000 - val_loss: 30.8581 - val_prc: 0.6889 - val_precision: 0.6889 - val_recall: 1.0000 - val_tn: 0.0000e+00 - val_tp: 93.0000\n",
      "Epoch 15/100\n",
      "\u001b[1m35/35\u001b[0m \u001b[32m━━━━━━━━━━━━━━━━━━━━\u001b[0m\u001b[37m\u001b[0m \u001b[1m6s\u001b[0m 175ms/step - accuracy: 0.9360 - auc: 0.9895 - fn: 4.7500 - fp: 5.8333 - loss: 0.1237 - prc: 0.9947 - precision: 0.9484 - recall: 0.9605 - tn: 39.4444 - tp: 97.4167 - val_accuracy: 0.6889 - val_auc: 0.5000 - val_fn: 0.0000e+00 - val_fp: 42.0000 - val_loss: 46.3516 - val_prc: 0.6889 - val_precision: 0.6889 - val_recall: 1.0000 - val_tn: 0.0000e+00 - val_tp: 93.0000\n",
      "Epoch 16/100\n",
      "\u001b[1m35/35\u001b[0m \u001b[32m━━━━━━━━━━━━━━━━━━━━\u001b[0m\u001b[37m\u001b[0m \u001b[1m6s\u001b[0m 174ms/step - accuracy: 0.9169 - auc: 0.9952 - fn: 1.4722 - fp: 6.9167 - loss: 0.1309 - prc: 0.9980 - precision: 0.9076 - recall: 0.9879 - tn: 38.9722 - tp: 100.0833 - val_accuracy: 0.6889 - val_auc: 0.5000 - val_fn: 0.0000e+00 - val_fp: 42.0000 - val_loss: 33.4611 - val_prc: 0.6889 - val_precision: 0.6889 - val_recall: 1.0000 - val_tn: 0.0000e+00 - val_tp: 93.0000\n",
      "Epoch 17/100\n",
      "\u001b[1m35/35\u001b[0m \u001b[32m━━━━━━━━━━━━━━━━━━━━\u001b[0m\u001b[37m\u001b[0m \u001b[1m6s\u001b[0m 175ms/step - accuracy: 0.9637 - auc: 0.9971 - fn: 1.2222 - fp: 3.8889 - loss: 0.0883 - prc: 0.9988 - precision: 0.9595 - recall: 0.9908 - tn: 40.4722 - tp: 101.8611 - val_accuracy: 0.6889 - val_auc: 0.5000 - val_fn: 0.0000e+00 - val_fp: 42.0000 - val_loss: 18.3290 - val_prc: 0.6889 - val_precision: 0.6889 - val_recall: 1.0000 - val_tn: 0.0000e+00 - val_tp: 93.0000\n",
      "Epoch 18/100\n",
      "\u001b[1m35/35\u001b[0m \u001b[32m━━━━━━━━━━━━━━━━━━━━\u001b[0m\u001b[37m\u001b[0m \u001b[1m6s\u001b[0m 173ms/step - accuracy: 0.9934 - auc: 1.0000 - fn: 0.8611 - fp: 0.0000e+00 - loss: 0.0260 - prc: 1.0000 - precision: 1.0000 - recall: 0.9898 - tn: 50.4722 - tp: 96.1111 - val_accuracy: 0.6889 - val_auc: 0.5000 - val_fn: 0.0000e+00 - val_fp: 42.0000 - val_loss: 19.4323 - val_prc: 0.6889 - val_precision: 0.6889 - val_recall: 1.0000 - val_tn: 0.0000e+00 - val_tp: 93.0000\n",
      "Epoch 19/100\n",
      "\u001b[1m35/35\u001b[0m \u001b[32m━━━━━━━━━━━━━━━━━━━━\u001b[0m\u001b[37m\u001b[0m \u001b[1m6s\u001b[0m 175ms/step - accuracy: 0.9869 - auc: 0.9999 - fn: 0.0000e+00 - fp: 2.4722 - loss: 0.0239 - prc: 0.9999 - precision: 0.9817 - recall: 1.0000 - tn: 42.8889 - tp: 102.0833 - val_accuracy: 0.6889 - val_auc: 0.5000 - val_fn: 0.0000e+00 - val_fp: 42.0000 - val_loss: 13.9552 - val_prc: 0.6889 - val_precision: 0.6889 - val_recall: 1.0000 - val_tn: 0.0000e+00 - val_tp: 93.0000\n",
      "Epoch 20/100\n",
      "\u001b[1m35/35\u001b[0m \u001b[32m━━━━━━━━━━━━━━━━━━━━\u001b[0m\u001b[37m\u001b[0m \u001b[1m6s\u001b[0m 182ms/step - accuracy: 0.9976 - auc: 1.0000 - fn: 0.5000 - fp: 0.0000e+00 - loss: 0.0300 - prc: 1.0000 - precision: 1.0000 - recall: 0.9966 - tn: 46.0000 - tp: 100.9444 - val_accuracy: 0.6889 - val_auc: 0.5000 - val_fn: 0.0000e+00 - val_fp: 42.0000 - val_loss: 10.0564 - val_prc: 0.6889 - val_precision: 0.6889 - val_recall: 1.0000 - val_tn: 0.0000e+00 - val_tp: 93.0000\n",
      "Epoch 21/100\n",
      "\u001b[1m35/35\u001b[0m \u001b[32m━━━━━━━━━━━━━━━━━━━━\u001b[0m\u001b[37m\u001b[0m \u001b[1m7s\u001b[0m 193ms/step - accuracy: 1.0000 - auc: 1.0000 - fn: 0.0000e+00 - fp: 0.0000e+00 - loss: 0.0084 - prc: 1.0000 - precision: 1.0000 - recall: 1.0000 - tn: 45.5833 - tp: 101.8611 - val_accuracy: 0.6889 - val_auc: 0.5000 - val_fn: 0.0000e+00 - val_fp: 42.0000 - val_loss: 6.6996 - val_prc: 0.6889 - val_precision: 0.6889 - val_recall: 1.0000 - val_tn: 0.0000e+00 - val_tp: 93.0000\n",
      "Epoch 22/100\n",
      "\u001b[1m35/35\u001b[0m \u001b[32m━━━━━━━━━━━━━━━━━━━━\u001b[0m\u001b[37m\u001b[0m \u001b[1m6s\u001b[0m 172ms/step - accuracy: 1.0000 - auc: 1.0000 - fn: 0.0000e+00 - fp: 0.0000e+00 - loss: 0.0101 - prc: 1.0000 - precision: 1.0000 - recall: 1.0000 - tn: 45.3333 - tp: 102.1111 - val_accuracy: 0.6889 - val_auc: 0.5000 - val_fn: 0.0000e+00 - val_fp: 42.0000 - val_loss: 5.2773 - val_prc: 0.6889 - val_precision: 0.6889 - val_recall: 1.0000 - val_tn: 0.0000e+00 - val_tp: 93.0000\n",
      "Epoch 23/100\n",
      "\u001b[1m35/35\u001b[0m \u001b[32m━━━━━━━━━━━━━━━━━━━━\u001b[0m\u001b[37m\u001b[0m \u001b[1m6s\u001b[0m 171ms/step - accuracy: 1.0000 - auc: 1.0000 - fn: 0.0000e+00 - fp: 0.0000e+00 - loss: 0.0159 - prc: 1.0000 - precision: 1.0000 - recall: 1.0000 - tn: 42.4722 - tp: 104.9722 - val_accuracy: 0.6889 - val_auc: 0.5119 - val_fn: 0.0000e+00 - val_fp: 42.0000 - val_loss: 4.0159 - val_prc: 0.6940 - val_precision: 0.6889 - val_recall: 1.0000 - val_tn: 0.0000e+00 - val_tp: 93.0000\n",
      "Epoch 24/100\n",
      "\u001b[1m35/35\u001b[0m \u001b[32m━━━━━━━━━━━━━━━━━━━━\u001b[0m\u001b[37m\u001b[0m \u001b[1m6s\u001b[0m 177ms/step - accuracy: 1.0000 - auc: 1.0000 - fn: 0.0000e+00 - fp: 0.0000e+00 - loss: 0.0068 - prc: 1.0000 - precision: 1.0000 - recall: 1.0000 - tn: 45.0833 - tp: 102.3611 - val_accuracy: 0.7037 - val_auc: 0.5906 - val_fn: 0.0000e+00 - val_fp: 40.0000 - val_loss: 1.9958 - val_prc: 0.7301 - val_precision: 0.6992 - val_recall: 1.0000 - val_tn: 2.0000 - val_tp: 93.0000\n",
      "Epoch 25/100\n",
      "\u001b[1m35/35\u001b[0m \u001b[32m━━━━━━━━━━━━━━━━━━━━\u001b[0m\u001b[37m\u001b[0m \u001b[1m6s\u001b[0m 172ms/step - accuracy: 1.0000 - auc: 1.0000 - fn: 0.0000e+00 - fp: 0.0000e+00 - loss: 0.0099 - prc: 1.0000 - precision: 1.0000 - recall: 1.0000 - tn: 47.8056 - tp: 99.6389 - val_accuracy: 0.6963 - val_auc: 0.5544 - val_fn: 0.0000e+00 - val_fp: 41.0000 - val_loss: 2.8369 - val_prc: 0.7131 - val_precision: 0.6940 - val_recall: 1.0000 - val_tn: 1.0000 - val_tp: 93.0000\n",
      "Epoch 26/100\n",
      "\u001b[1m35/35\u001b[0m \u001b[32m━━━━━━━━━━━━━━━━━━━━\u001b[0m\u001b[37m\u001b[0m \u001b[1m6s\u001b[0m 172ms/step - accuracy: 1.0000 - auc: 1.0000 - fn: 0.0000e+00 - fp: 0.0000e+00 - loss: 0.0058 - prc: 1.0000 - precision: 1.0000 - recall: 1.0000 - tn: 45.3333 - tp: 102.1111 - val_accuracy: 0.7481 - val_auc: 0.9508 - val_fn: 0.0000e+00 - val_fp: 34.0000 - val_loss: 1.0712 - val_prc: 0.9685 - val_precision: 0.7323 - val_recall: 1.0000 - val_tn: 8.0000 - val_tp: 93.0000\n",
      "Epoch 27/100\n",
      "\u001b[1m35/35\u001b[0m \u001b[32m━━━━━━━━━━━━━━━━━━━━\u001b[0m\u001b[37m\u001b[0m \u001b[1m6s\u001b[0m 172ms/step - accuracy: 1.0000 - auc: 1.0000 - fn: 0.0000e+00 - fp: 0.0000e+00 - loss: 0.0089 - prc: 1.0000 - precision: 1.0000 - recall: 1.0000 - tn: 43.4722 - tp: 103.9722 - val_accuracy: 0.7185 - val_auc: 0.6190 - val_fn: 0.0000e+00 - val_fp: 38.0000 - val_loss: 1.9767 - val_prc: 0.7440 - val_precision: 0.7099 - val_recall: 1.0000 - val_tn: 4.0000 - val_tp: 93.0000\n",
      "Epoch 28/100\n",
      "\u001b[1m35/35\u001b[0m \u001b[32m━━━━━━━━━━━━━━━━━━━━\u001b[0m\u001b[37m\u001b[0m \u001b[1m6s\u001b[0m 172ms/step - accuracy: 1.0000 - auc: 1.0000 - fn: 0.0000e+00 - fp: 0.0000e+00 - loss: 0.0051 - prc: 1.0000 - precision: 1.0000 - recall: 1.0000 - tn: 50.3611 - tp: 97.0833 - val_accuracy: 0.7407 - val_auc: 0.7198 - val_fn: 0.0000e+00 - val_fp: 35.0000 - val_loss: 1.4620 - val_prc: 0.7981 - val_precision: 0.7266 - val_recall: 1.0000 - val_tn: 7.0000 - val_tp: 93.0000\n",
      "Epoch 29/100\n",
      "\u001b[1m35/35\u001b[0m \u001b[32m━━━━━━━━━━━━━━━━━━━━\u001b[0m\u001b[37m\u001b[0m \u001b[1m6s\u001b[0m 171ms/step - accuracy: 1.0000 - auc: 1.0000 - fn: 0.0000e+00 - fp: 0.0000e+00 - loss: 0.0046 - prc: 1.0000 - precision: 1.0000 - recall: 1.0000 - tn: 45.3056 - tp: 102.1389 - val_accuracy: 0.7333 - val_auc: 0.6667 - val_fn: 0.0000e+00 - val_fp: 36.0000 - val_loss: 1.7126 - val_prc: 0.7686 - val_precision: 0.7209 - val_recall: 1.0000 - val_tn: 6.0000 - val_tp: 93.0000\n",
      "Epoch 30/100\n",
      "\u001b[1m35/35\u001b[0m \u001b[32m━━━━━━━━━━━━━━━━━━━━\u001b[0m\u001b[37m\u001b[0m \u001b[1m6s\u001b[0m 173ms/step - accuracy: 1.0000 - auc: 0.9722 - fn: 0.0000e+00 - fp: 0.0000e+00 - loss: 0.0070 - prc: 1.0000 - precision: 1.0000 - recall: 1.0000 - tn: 48.2778 - tp: 99.1667 - val_accuracy: 0.7407 - val_auc: 0.6786 - val_fn: 0.0000e+00 - val_fp: 35.0000 - val_loss: 1.7428 - val_prc: 0.7750 - val_precision: 0.7266 - val_recall: 1.0000 - val_tn: 7.0000 - val_tp: 93.0000\n",
      "Epoch 31/100\n",
      "\u001b[1m35/35\u001b[0m \u001b[32m━━━━━━━━━━━━━━━━━━━━\u001b[0m\u001b[37m\u001b[0m \u001b[1m6s\u001b[0m 178ms/step - accuracy: 1.0000 - auc: 1.0000 - fn: 0.0000e+00 - fp: 0.0000e+00 - loss: 0.0065 - prc: 1.0000 - precision: 1.0000 - recall: 1.0000 - tn: 43.8889 - tp: 103.5556 - val_accuracy: 0.7926 - val_auc: 0.8281 - val_fn: 0.0000e+00 - val_fp: 28.0000 - val_loss: 1.0659 - val_prc: 0.8693 - val_precision: 0.7686 - val_recall: 1.0000 - val_tn: 14.0000 - val_tp: 93.0000\n",
      "Epoch 32/100\n",
      "\u001b[1m35/35\u001b[0m \u001b[32m━━━━━━━━━━━━━━━━━━━━\u001b[0m\u001b[37m\u001b[0m \u001b[1m6s\u001b[0m 177ms/step - accuracy: 1.0000 - auc: 1.0000 - fn: 0.0000e+00 - fp: 0.0000e+00 - loss: 0.0047 - prc: 1.0000 - precision: 1.0000 - recall: 1.0000 - tn: 44.9167 - tp: 102.5278 - val_accuracy: 0.8519 - val_auc: 0.9562 - val_fn: 3.0000 - val_fp: 17.0000 - val_loss: 0.2612 - val_prc: 0.9814 - val_precision: 0.8411 - val_recall: 0.9677 - val_tn: 25.0000 - val_tp: 90.0000\n",
      "Epoch 33/100\n",
      "\u001b[1m35/35\u001b[0m \u001b[32m━━━━━━━━━━━━━━━━━━━━\u001b[0m\u001b[37m\u001b[0m \u001b[1m6s\u001b[0m 175ms/step - accuracy: 1.0000 - auc: 1.0000 - fn: 0.0000e+00 - fp: 0.0000e+00 - loss: 0.0027 - prc: 1.0000 - precision: 1.0000 - recall: 1.0000 - tn: 43.8333 - tp: 103.6111 - val_accuracy: 0.8000 - val_auc: 0.9304 - val_fn: 0.0000e+00 - val_fp: 27.0000 - val_loss: 0.7318 - val_prc: 0.9627 - val_precision: 0.7750 - val_recall: 1.0000 - val_tn: 15.0000 - val_tp: 93.0000\n",
      "Epoch 34/100\n",
      "\u001b[1m35/35\u001b[0m \u001b[32m━━━━━━━━━━━━━━━━━━━━\u001b[0m\u001b[37m\u001b[0m \u001b[1m6s\u001b[0m 178ms/step - accuracy: 1.0000 - auc: 1.0000 - fn: 0.0000e+00 - fp: 0.0000e+00 - loss: 0.0069 - prc: 1.0000 - precision: 1.0000 - recall: 1.0000 - tn: 44.5278 - tp: 102.9167 - val_accuracy: 0.8074 - val_auc: 0.9439 - val_fn: 2.0000 - val_fp: 24.0000 - val_loss: 0.4864 - val_prc: 0.9771 - val_precision: 0.7913 - val_recall: 0.9785 - val_tn: 18.0000 - val_tp: 91.0000\n",
      "Epoch 35/100\n",
      "\u001b[1m35/35\u001b[0m \u001b[32m━━━━━━━━━━━━━━━━━━━━\u001b[0m\u001b[37m\u001b[0m \u001b[1m6s\u001b[0m 187ms/step - accuracy: 1.0000 - auc: 1.0000 - fn: 0.0000e+00 - fp: 0.0000e+00 - loss: 0.0105 - prc: 1.0000 - precision: 1.0000 - recall: 1.0000 - tn: 50.1667 - tp: 97.2778 - val_accuracy: 0.7481 - val_auc: 0.7024 - val_fn: 0.0000e+00 - val_fp: 34.0000 - val_loss: 1.6256 - val_prc: 0.7881 - val_precision: 0.7323 - val_recall: 1.0000 - val_tn: 8.0000 - val_tp: 93.0000\n",
      "Epoch 36/100\n",
      "\u001b[1m35/35\u001b[0m \u001b[32m━━━━━━━━━━━━━━━━━━━━\u001b[0m\u001b[37m\u001b[0m \u001b[1m6s\u001b[0m 177ms/step - accuracy: 1.0000 - auc: 1.0000 - fn: 0.0000e+00 - fp: 0.0000e+00 - loss: 0.0028 - prc: 1.0000 - precision: 1.0000 - recall: 1.0000 - tn: 48.2778 - tp: 99.1667 - val_accuracy: 0.8000 - val_auc: 0.9315 - val_fn: 0.0000e+00 - val_fp: 27.0000 - val_loss: 0.8660 - val_prc: 0.9638 - val_precision: 0.7750 - val_recall: 1.0000 - val_tn: 15.0000 - val_tp: 93.0000\n",
      "Epoch 37/100\n",
      "\u001b[1m35/35\u001b[0m \u001b[32m━━━━━━━━━━━━━━━━━━━━\u001b[0m\u001b[37m\u001b[0m \u001b[1m6s\u001b[0m 176ms/step - accuracy: 1.0000 - auc: 1.0000 - fn: 0.0000e+00 - fp: 0.0000e+00 - loss: 0.0034 - prc: 1.0000 - precision: 1.0000 - recall: 1.0000 - tn: 47.8056 - tp: 99.6389 - val_accuracy: 0.7333 - val_auc: 0.6190 - val_fn: 0.0000e+00 - val_fp: 36.0000 - val_loss: 2.2529 - val_prc: 0.7440 - val_precision: 0.7209 - val_recall: 1.0000 - val_tn: 6.0000 - val_tp: 93.0000\n",
      "Epoch 38/100\n",
      "\u001b[1m35/35\u001b[0m \u001b[32m━━━━━━━━━━━━━━━━━━━━\u001b[0m\u001b[37m\u001b[0m \u001b[1m6s\u001b[0m 176ms/step - accuracy: 1.0000 - auc: 1.0000 - fn: 0.0000e+00 - fp: 0.0000e+00 - loss: 0.0035 - prc: 1.0000 - precision: 1.0000 - recall: 1.0000 - tn: 47.2778 - tp: 100.1667 - val_accuracy: 0.7556 - val_auc: 0.7024 - val_fn: 0.0000e+00 - val_fp: 33.0000 - val_loss: 1.3913 - val_prc: 0.7881 - val_precision: 0.7381 - val_recall: 1.0000 - val_tn: 9.0000 - val_tp: 93.0000\n",
      "Epoch 39/100\n",
      "\u001b[1m35/35\u001b[0m \u001b[32m━━━━━━━━━━━━━━━━━━━━\u001b[0m\u001b[37m\u001b[0m \u001b[1m6s\u001b[0m 178ms/step - accuracy: 1.0000 - auc: 1.0000 - fn: 0.0000e+00 - fp: 0.0000e+00 - loss: 0.0063 - prc: 1.0000 - precision: 1.0000 - recall: 1.0000 - tn: 43.5833 - tp: 103.8611 - val_accuracy: 0.6889 - val_auc: 0.5000 - val_fn: 0.0000e+00 - val_fp: 42.0000 - val_loss: 7.5065 - val_prc: 0.6889 - val_precision: 0.6889 - val_recall: 1.0000 - val_tn: 0.0000e+00 - val_tp: 93.0000\n",
      "Epoch 40/100\n",
      "\u001b[1m35/35\u001b[0m \u001b[32m━━━━━━━━━━━━━━━━━━━━\u001b[0m\u001b[37m\u001b[0m \u001b[1m6s\u001b[0m 176ms/step - accuracy: 1.0000 - auc: 1.0000 - fn: 0.0000e+00 - fp: 0.0000e+00 - loss: 0.0021 - prc: 1.0000 - precision: 1.0000 - recall: 1.0000 - tn: 48.5000 - tp: 98.9444 - val_accuracy: 0.7037 - val_auc: 0.5595 - val_fn: 0.0000e+00 - val_fp: 40.0000 - val_loss: 4.4696 - val_prc: 0.7154 - val_precision: 0.6992 - val_recall: 1.0000 - val_tn: 2.0000 - val_tp: 93.0000\n",
      "Epoch 41/100\n",
      "\u001b[1m35/35\u001b[0m \u001b[32m━━━━━━━━━━━━━━━━━━━━\u001b[0m\u001b[37m\u001b[0m \u001b[1m6s\u001b[0m 173ms/step - accuracy: 1.0000 - auc: 1.0000 - fn: 0.0000e+00 - fp: 0.0000e+00 - loss: 0.0052 - prc: 1.0000 - precision: 1.0000 - recall: 1.0000 - tn: 45.6944 - tp: 101.7500 - val_accuracy: 0.7333 - val_auc: 0.6071 - val_fn: 0.0000e+00 - val_fp: 36.0000 - val_loss: 3.2003 - val_prc: 0.7381 - val_precision: 0.7209 - val_recall: 1.0000 - val_tn: 6.0000 - val_tp: 93.0000\n",
      "Epoch 42/100\n",
      "\u001b[1m35/35\u001b[0m \u001b[32m━━━━━━━━━━━━━━━━━━━━\u001b[0m\u001b[37m\u001b[0m \u001b[1m6s\u001b[0m 171ms/step - accuracy: 1.0000 - auc: 1.0000 - fn: 0.0000e+00 - fp: 0.0000e+00 - loss: 0.0041 - prc: 1.0000 - precision: 1.0000 - recall: 1.0000 - tn: 43.6111 - tp: 103.8333 - val_accuracy: 0.7037 - val_auc: 0.5595 - val_fn: 0.0000e+00 - val_fp: 40.0000 - val_loss: 4.7201 - val_prc: 0.7154 - val_precision: 0.6992 - val_recall: 1.0000 - val_tn: 2.0000 - val_tp: 93.0000\n"
     ]
    }
   ],
   "source": [
    "log_dir = \"logs/fit/\" + \"dwt_bior26_5-ds-60_25_overlap\" #datetime.datetime.now().strftime(\"%Y%m%d-%H%M%S\")\n",
    "tensorboard_callback = tf.keras.callbacks.TensorBoard(log_dir=log_dir, histogram_freq=1)\n",
    "earlystop = tf.keras.callbacks.EarlyStopping(monitor=\"val_accuracy\", patience=20, start_from_epoch=30, restore_best_weights=True)\n",
    "\n",
    "history = model.fit(train_ds, epochs=100, validation_data=test_ds, callbacks=[tensorboard_callback, earlystop])"
   ]
  },
  {
   "cell_type": "code",
   "execution_count": 26,
   "metadata": {},
   "outputs": [],
   "source": [
    "model.save(\"test.keras\")"
   ]
  },
  {
   "cell_type": "code",
   "execution_count": 21,
   "metadata": {},
   "outputs": [
    {
     "data": {
      "image/png": "[encoded data removed]",
      "text/plain": [
       "<Figure size 640x480 with 1 Axes>"
      ]
     },
     "metadata": {},
     "output_type": "display_data"
    },
    {
     "data": {
      "image/png": "[encoded data removed]",
      "text/plain": [
       "<Figure size 640x480 with 1 Axes>"
      ]
     },
     "metadata": {},
     "output_type": "display_data"
    }
   ],
   "source": [
    "# summarize history for accuracy\n",
    "plt.plot(history.history['accuracy'])\n",
    "plt.plot(history.history['val_accuracy'])\n",
    "plt.title('model accuracy')\n",
    "plt.ylabel('accuracy')\n",
    "plt.xlabel('epoch')\n",
    "plt.legend(['train', 'test'], loc='upper left')\n",
    "plt.show()\n",
    "\n",
    "# summarize history for loss\n",
    "plt.plot(history.history['loss'])\n",
    "plt.plot(history.history['val_loss'])\n",
    "plt.title('model loss')\n",
    "plt.ylabel('loss')\n",
    "plt.xlabel('epoch')\n",
    "plt.legend(['train', 'test'], loc='upper left')\n",
    "plt.show()"
   ]
  },
  {
   "cell_type": "markdown",
   "metadata": {},
   "source": [
    "## Evaluate"
   ]
  },
  {
   "cell_type": "code",
   "execution_count": 22,
   "metadata": {},
   "outputs": [
    {
     "name": "stdout",
     "output_type": "stream",
     "text": [
      "\u001b[1m17/17\u001b[0m \u001b[32m━━━━━━━━━━━━━━━━━━━━\u001b[0m\u001b[37m\u001b[0m \u001b[1m1s\u001b[0m 53ms/step - accuracy: 0.8226 - auc: 0.8954 - fn: 2.0000 - fp: 10.6667 - loss: 0.3226 - prc: 0.9803 - precision: 0.8230 - recall: 0.9539 - tn: 13.0000 - tp: 49.7778\n"
     ]
    },
    {
     "data": {
      "text/plain": [
       "[0.26120439171791077,\n",
       " 90.0,\n",
       " 17.0,\n",
       " 25.0,\n",
       " 3.0,\n",
       " 0.8518518805503845,\n",
       " 0.84112149477005,\n",
       " 0.9677419066429138,\n",
       " 0.9562212228775024,\n",
       " 0.9814231395721436]"
      ]
     },
     "execution_count": 22,
     "metadata": {},
     "output_type": "execute_result"
    }
   ],
   "source": [
    "model.evaluate(test_ds)"
   ]
  },
  {
   "cell_type": "code",
   "execution_count": 23,
   "metadata": {},
   "outputs": [
    {
     "name": "stdout",
     "output_type": "stream",
     "text": [
      "\u001b[1m 1/17\u001b[0m \u001b[32m━\u001b[0m\u001b[37m━━━━━━━━━━━━━━━━━━━\u001b[0m \u001b[1m0s\u001b[0m 19ms/step"
     ]
    },
    {
     "name": "stdout",
     "output_type": "stream",
     "text": [
      "\u001b[1m17/17\u001b[0m \u001b[32m━━━━━━━━━━━━━━━━━━━━\u001b[0m\u001b[37m\u001b[0m \u001b[1m1s\u001b[0m 42ms/step\n",
      "MCC: 0.6428\n",
      "Accuracy: 0.8519\n",
      "Precision: 0.8411\n",
      "Recall: 0.9677\n",
      "F1: 0.9\n",
      "              precision    recall  f1-score   support\n",
      "\n",
      "           0       0.89      0.60      0.71        42\n",
      "           1       0.84      0.97      0.90        93\n",
      "\n",
      "    accuracy                           0.85       135\n",
      "   macro avg       0.87      0.78      0.81       135\n",
      "weighted avg       0.86      0.85      0.84       135\n",
      "\n"
     ]
    }
   ],
   "source": [
    "y_pred = model.predict(test_ds) > 0.5\n",
    "\n",
    "print(\"MCC:\", np.round(matthews_corrcoef(y_test, y_pred), 4))\n",
    "print(\"Accuracy:\", np.round(accuracy_score(y_test, y_pred), 4))\n",
    "print(\"Precision:\", np.round(precision_score(y_test, y_pred), 4))\n",
    "print(\"Recall:\", np.round(recall_score(y_test, y_pred), 4))\n",
    "print(\"F1:\", np.round(f1_score(y_test, y_pred), 4))\n",
    "\n",
    "print(classification_report(y_test, y_pred))"
   ]
  },
  {
   "cell_type": "code",
   "execution_count": 24,
   "metadata": {},
   "outputs": [
    {
     "data": {
      "text/plain": [
       "<sklearn.metrics._plot.confusion_matrix.ConfusionMatrixDisplay at 0x7f34dce657e0>"
      ]
     },
     "execution_count": 24,
     "metadata": {},
     "output_type": "execute_result"
    },
    {
     "data": {
      "image/png": "[encoded data removed]",
      "text/plain": [
       "<Figure size 200x200 with 1 Axes>"
      ]
     },
     "metadata": {},
     "output_type": "display_data"
    }
   ],
   "source": [
    "fig, ax = plt.subplots(figsize=(2, 2))\n",
    "ConfusionMatrixDisplay.from_predictions(y_test, y_pred, ax=ax, colorbar=False)"
   ]
  },
  {
   "cell_type": "code",
   "execution_count": null,
   "metadata": {},
   "outputs": [],
   "source": []
  },
  {
   "cell_type": "code",
   "execution_count": null,
   "metadata": {},
   "outputs": [],
   "source": []
  }
 ],
 "metadata": {
  "kernelspec": {
   "display_name": ".venv",
   "language": "python",
   "name": "python3"
  },
  "language_info": {
   "codemirror_mode": {
    "name": "ipython",
    "version": 3
   },
   "file_extension": ".py",
   "mimetype": "text/x-python",
   "name": "python",
   "nbconvert_exporter": "python",
   "pygments_lexer": "ipython3",
   "version": "3.10.12"
  }
 },
 "nbformat": 4,
 "nbformat_minor": 2
}
